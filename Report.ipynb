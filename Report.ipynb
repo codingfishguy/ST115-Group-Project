{
 "cells": [
  {
   "cell_type": "markdown",
   "metadata": {},
   "source": [
    "## Examining Student and Online Perceptions of LSE"
   ]
  },
  {
   "cell_type": "markdown",
   "metadata": {},
   "source": [
    "### Part 1: Introduction\n",
    "\n",
    "Before arriving at LSE, many students likely hear of the university's low student satisfaction rates. These impressions often gain traction on online forums such as Reddit, where anecdotal accounts tend to amplify perceptions of dissatisfaction. Additionally, multiple university ranking websites also present LSE as having a comparatively low student satisfaction rate. Therefore, it is worth exploring this topic, to understand how \"severe\" the problem is and whether the data fully aligns with the online perception of the university.\n",
    "\n",
    "We can explore the statement above through a series of focused questions:\n",
    "- How does LSE student satisfaction compare to other universities?\n",
    "- How does student satisfaction within LSE vary by degree?\n",
    "- How has LSE student satisfaction evolved over the last few years (2020-2023)?\n",
    "- How is LSE perceived by people online? How does it compare with other universities's perceptions online?\n",
    "\n",
    "It is worth considering what is meant by student satisfaction. Many data sources such as the National Student Survey break down student's views into categories such as teaching, course content, course organisation and assessment. Meanwhile, online the focus tends to be on social opportunities, as well as societies. As \"student satisfaction\" is multifaceted we will be breaking down each question into the specific type of student satisfaction we are discussing, to avoid confusion. The NSS is generally better suited towards 'academic' related definitions of student satisfaction, such as student's views on the quality of the course, the teaching etc. whilst Reddit and online platforms likely better represent student's thoughts on their social lives at certain universities.\n",
    "\n",
    "\n"
   ]
  },
  {
   "cell_type": "markdown",
   "metadata": {},
   "source": [
    "### Part 2: Data acquisition\n",
    "- Go to 'Data_acquisition.ipynb' file"
   ]
  },
  {
   "cell_type": "markdown",
   "metadata": {},
   "source": [
    "### Part 3: Data Preparation and Exploration"
   ]
  },
  {
   "cell_type": "code",
   "execution_count": 33,
   "metadata": {},
   "outputs": [
    {
     "name": "stdout",
     "output_type": "stream",
     "text": [
      "Requirement already satisfied: wordcloud in /Users/sophie/anaconda3/lib/python3.10/site-packages (1.9.3)\n",
      "Requirement already satisfied: numpy>=1.6.1 in /Users/sophie/anaconda3/lib/python3.10/site-packages (from wordcloud) (1.26.4)\n",
      "Requirement already satisfied: pillow in /Users/sophie/anaconda3/lib/python3.10/site-packages (from wordcloud) (9.4.0)\n",
      "Requirement already satisfied: matplotlib in /Users/sophie/anaconda3/lib/python3.10/site-packages (from wordcloud) (3.7.0)\n",
      "Requirement already satisfied: contourpy>=1.0.1 in /Users/sophie/anaconda3/lib/python3.10/site-packages (from matplotlib->wordcloud) (1.0.5)\n",
      "Requirement already satisfied: cycler>=0.10 in /Users/sophie/anaconda3/lib/python3.10/site-packages (from matplotlib->wordcloud) (0.11.0)\n",
      "Requirement already satisfied: fonttools>=4.22.0 in /Users/sophie/anaconda3/lib/python3.10/site-packages (from matplotlib->wordcloud) (4.25.0)\n",
      "Requirement already satisfied: kiwisolver>=1.0.1 in /Users/sophie/anaconda3/lib/python3.10/site-packages (from matplotlib->wordcloud) (1.4.4)\n",
      "Requirement already satisfied: packaging>=20.0 in /Users/sophie/anaconda3/lib/python3.10/site-packages (from matplotlib->wordcloud) (22.0)\n",
      "Requirement already satisfied: pyparsing>=2.3.1 in /Users/sophie/anaconda3/lib/python3.10/site-packages (from matplotlib->wordcloud) (3.0.9)\n",
      "Requirement already satisfied: python-dateutil>=2.7 in /Users/sophie/anaconda3/lib/python3.10/site-packages (from matplotlib->wordcloud) (2.8.2)\n",
      "Requirement already satisfied: six>=1.5 in /Users/sophie/anaconda3/lib/python3.10/site-packages (from python-dateutil>=2.7->matplotlib->wordcloud) (1.16.0)\n",
      "Note: you may need to restart the kernel to use updated packages.\n"
     ]
    }
   ],
   "source": [
    "pip install wordcloud"
   ]
  },
  {
   "cell_type": "code",
   "execution_count": 2,
   "metadata": {},
   "outputs": [],
   "source": [
    "import pandas as pd\n",
    "import pickle\n",
    "import json\n",
    "from wordcloud import WordCloud\n",
    "import matplotlib.pyplot as plt\n",
    "from scipy.stats import linregress"
   ]
  },
  {
   "cell_type": "markdown",
   "metadata": {},
   "source": [
    "### NSS data"
   ]
  },
  {
   "cell_type": "markdown",
   "metadata": {},
   "source": [
    "We can answer many of the questions through the NSS. The NSS questions students on multiple different categories, such as teaching quality, course quality and assessment quality. Most websites ignore this distinction and simply focus on one of these metrics such as teaching quality (such as the Complete University Guide), however, we wanted to make the distinction between categories clearer. As there are multiple categories, we create multiple dataframes so that visualisation is easier. Another important thing to consider is the response to population size; if it is high it means the measure of student satisfaction is more likely to accurately represent the real student body, compared to if it is low, when the results are less robust. This is the reason why many online displays of these metrics leave out universities like the University of Oxford, where a hefty proportion of the students boycott the NSS. However, we decided to still compare Oxford to LSE, whilst acknowledging this potential issue with the data."
   ]
  },
  {
   "cell_type": "code",
   "execution_count": 3,
   "metadata": {},
   "outputs": [
    {
     "name": "stdout",
     "output_type": "stream",
     "text": [
      "LSE\n",
      "Oxford\n",
      "UCL\n",
      "Birmingham\n",
      "Edinburgh\n",
      "Glasgow\n",
      "Imperial\n",
      "KCL\n",
      "Manchester\n",
      "Norwich\n",
      "Strathclyde\n",
      "Warwick\n"
     ]
    }
   ],
   "source": [
    "file_path = './data/univ_df.pkl'\n",
    "\n",
    "# Load the dictionary from the pickle file\n",
    "with open(file_path, 'rb') as pickle_file:\n",
    "    univ_df = pickle.load(pickle_file)\n",
    "\n",
    "#refresher of the universities surveyed\n",
    "for key in univ_df.keys():\n",
    "    print(key)"
   ]
  },
  {
   "cell_type": "markdown",
   "metadata": {},
   "source": [
    "Below, we create dataframes representing the differences in student opinions on teaching quality, course quality, assessment quality, support quality, as well as course organisation quality. We considered aggregating every metric into one 'overall satisfaction' score, however, feel that would not take into account the fact that some may view certain criterion as deserving more weight; for example, learning opportunities may be valued much more than assessment quality. These themes are represented on the NSS and are calculated through averaging student responses to questions that can be grouped into one larger theme.\n"
   ]
  },
  {
   "cell_type": "code",
   "execution_count": 4,
   "metadata": {},
   "outputs": [],
   "source": [
    "main_dict={}\n",
    "\n",
    "for name,uni_df in univ_df.items():\n",
    "    \n",
    "    #We measure 'All Subjects' at this point as we don't want to differentiate by Subject\n",
    "    #The last 7 rows of the dataframe refer to the Themes we are interested in\n",
    "    df=uni_df[(uni_df[\"Level of study\"]=='All undergraduates') & (uni_df[\"Subject level\"]==\"All subjects\")& (uni_df['Level of study']=='All undergraduates')][-7:]\n",
    "    response_ratio=round(df.iloc[0]['Responses']/df.iloc[0]['Population'],2)\n",
    "\n",
    "    #Teaching Scores\n",
    "    teach_positivity=round(df.iloc[0]['Positivity measure (%)'],1)\n",
    "\n",
    "    #Learning Opportunities\n",
    "    learn_positivity=round(df.iloc[1]['Positivity measure (%)'],1)\n",
    "    \n",
    "    #Assessment and feedback\n",
    "    assess_positivity=round(df.iloc[2]['Positivity measure (%)'],1)\n",
    "   \n",
    "    #Academic Support\n",
    "    support_positivity=round(df.iloc[3]['Positivity measure (%)'],1)\n",
    " \n",
    "    # Organisation and Management\n",
    "    organisation_positivity=round(df.iloc[4]['Positivity measure (%)'],1)\n",
    "\n",
    "    # Learning Resources\n",
    "    resource_positivity=round(df.iloc[5]['Positivity measure (%)'],1)\n",
    "\n",
    "    # Student Voice\n",
    "    voice_positivity=round(df.iloc[6]['Positivity measure (%)'],1)\n",
    "  \n",
    "    main_dict[name]={'Teaching': teach_positivity, 'Learning Opportunities': learn_positivity, 'Assessment and Feedback': assess_positivity, \n",
    "                     'Academic Support': support_positivity, 'Organisation and Management': organisation_positivity,\n",
    "                    'Learning Resources': resource_positivity, 'Student Voice': voice_positivity, 'Response Ratio': response_ratio}\n",
    "    \n",
    "\n"
   ]
  },
  {
   "cell_type": "code",
   "execution_count": 5,
   "metadata": {},
   "outputs": [
    {
     "data": {
      "text/html": [
       "<div>\n",
       "<style scoped>\n",
       "    .dataframe tbody tr th:only-of-type {\n",
       "        vertical-align: middle;\n",
       "    }\n",
       "\n",
       "    .dataframe tbody tr th {\n",
       "        vertical-align: top;\n",
       "    }\n",
       "\n",
       "    .dataframe thead th {\n",
       "        text-align: right;\n",
       "    }\n",
       "</style>\n",
       "<table border=\"1\" class=\"dataframe\">\n",
       "  <thead>\n",
       "    <tr style=\"text-align: right;\">\n",
       "      <th></th>\n",
       "      <th>Teaching</th>\n",
       "      <th>Learning Opportunities</th>\n",
       "      <th>Assessment and Feedback</th>\n",
       "      <th>Academic Support</th>\n",
       "      <th>Organisation and Management</th>\n",
       "      <th>Learning Resources</th>\n",
       "      <th>Student Voice</th>\n",
       "      <th>Response Ratio</th>\n",
       "    </tr>\n",
       "  </thead>\n",
       "  <tbody>\n",
       "    <tr>\n",
       "      <th>LSE</th>\n",
       "      <td>86.5</td>\n",
       "      <td>79.4</td>\n",
       "      <td>71.1</td>\n",
       "      <td>87.4</td>\n",
       "      <td>80.7</td>\n",
       "      <td>87.1</td>\n",
       "      <td>67.2</td>\n",
       "      <td>0.67</td>\n",
       "    </tr>\n",
       "    <tr>\n",
       "      <th>Oxford</th>\n",
       "      <td>93.1</td>\n",
       "      <td>82.1</td>\n",
       "      <td>74.1</td>\n",
       "      <td>90.4</td>\n",
       "      <td>67.6</td>\n",
       "      <td>92.2</td>\n",
       "      <td>61.9</td>\n",
       "      <td>0.50</td>\n",
       "    </tr>\n",
       "    <tr>\n",
       "      <th>UCL</th>\n",
       "      <td>84.4</td>\n",
       "      <td>79.4</td>\n",
       "      <td>68.6</td>\n",
       "      <td>84.1</td>\n",
       "      <td>74.0</td>\n",
       "      <td>89.4</td>\n",
       "      <td>73.1</td>\n",
       "      <td>0.72</td>\n",
       "    </tr>\n",
       "    <tr>\n",
       "      <th>Birmingham</th>\n",
       "      <td>84.1</td>\n",
       "      <td>79.2</td>\n",
       "      <td>68.2</td>\n",
       "      <td>81.4</td>\n",
       "      <td>72.5</td>\n",
       "      <td>87.2</td>\n",
       "      <td>64.4</td>\n",
       "      <td>0.69</td>\n",
       "    </tr>\n",
       "    <tr>\n",
       "      <th>Edinburgh</th>\n",
       "      <td>85.2</td>\n",
       "      <td>75.5</td>\n",
       "      <td>63.4</td>\n",
       "      <td>81.3</td>\n",
       "      <td>69.1</td>\n",
       "      <td>85.7</td>\n",
       "      <td>65.6</td>\n",
       "      <td>0.65</td>\n",
       "    </tr>\n",
       "    <tr>\n",
       "      <th>Glasgow</th>\n",
       "      <td>98.1</td>\n",
       "      <td>96.2</td>\n",
       "      <td>95.6</td>\n",
       "      <td>100.0</td>\n",
       "      <td>98.1</td>\n",
       "      <td>94.9</td>\n",
       "      <td>90.6</td>\n",
       "      <td>0.71</td>\n",
       "    </tr>\n",
       "    <tr>\n",
       "      <th>Imperial</th>\n",
       "      <td>89.3</td>\n",
       "      <td>85.1</td>\n",
       "      <td>68.7</td>\n",
       "      <td>86.6</td>\n",
       "      <td>73.5</td>\n",
       "      <td>91.2</td>\n",
       "      <td>76.7</td>\n",
       "      <td>0.72</td>\n",
       "    </tr>\n",
       "    <tr>\n",
       "      <th>KCL</th>\n",
       "      <td>83.3</td>\n",
       "      <td>77.7</td>\n",
       "      <td>67.9</td>\n",
       "      <td>80.6</td>\n",
       "      <td>66.6</td>\n",
       "      <td>85.1</td>\n",
       "      <td>66.5</td>\n",
       "      <td>0.70</td>\n",
       "    </tr>\n",
       "    <tr>\n",
       "      <th>Manchester</th>\n",
       "      <td>81.7</td>\n",
       "      <td>76.9</td>\n",
       "      <td>67.9</td>\n",
       "      <td>81.3</td>\n",
       "      <td>70.2</td>\n",
       "      <td>81.9</td>\n",
       "      <td>64.4</td>\n",
       "      <td>0.74</td>\n",
       "    </tr>\n",
       "    <tr>\n",
       "      <th>Norwich</th>\n",
       "      <td>82.6</td>\n",
       "      <td>79.1</td>\n",
       "      <td>81.6</td>\n",
       "      <td>87.4</td>\n",
       "      <td>68.7</td>\n",
       "      <td>85.5</td>\n",
       "      <td>72.0</td>\n",
       "      <td>0.82</td>\n",
       "    </tr>\n",
       "    <tr>\n",
       "      <th>Strathclyde</th>\n",
       "      <td>94.1</td>\n",
       "      <td>92.0</td>\n",
       "      <td>89.3</td>\n",
       "      <td>97.1</td>\n",
       "      <td>87.3</td>\n",
       "      <td>92.0</td>\n",
       "      <td>77.5</td>\n",
       "      <td>0.67</td>\n",
       "    </tr>\n",
       "    <tr>\n",
       "      <th>Warwick</th>\n",
       "      <td>87.1</td>\n",
       "      <td>90.3</td>\n",
       "      <td>91.0</td>\n",
       "      <td>71.0</td>\n",
       "      <td>74.2</td>\n",
       "      <td>81.7</td>\n",
       "      <td>69.9</td>\n",
       "      <td>0.72</td>\n",
       "    </tr>\n",
       "  </tbody>\n",
       "</table>\n",
       "</div>"
      ],
      "text/plain": [
       "             Teaching  Learning Opportunities  Assessment and Feedback  \\\n",
       "LSE              86.5                    79.4                     71.1   \n",
       "Oxford           93.1                    82.1                     74.1   \n",
       "UCL              84.4                    79.4                     68.6   \n",
       "Birmingham       84.1                    79.2                     68.2   \n",
       "Edinburgh        85.2                    75.5                     63.4   \n",
       "Glasgow          98.1                    96.2                     95.6   \n",
       "Imperial         89.3                    85.1                     68.7   \n",
       "KCL              83.3                    77.7                     67.9   \n",
       "Manchester       81.7                    76.9                     67.9   \n",
       "Norwich          82.6                    79.1                     81.6   \n",
       "Strathclyde      94.1                    92.0                     89.3   \n",
       "Warwick          87.1                    90.3                     91.0   \n",
       "\n",
       "             Academic Support  Organisation and Management  \\\n",
       "LSE                      87.4                         80.7   \n",
       "Oxford                   90.4                         67.6   \n",
       "UCL                      84.1                         74.0   \n",
       "Birmingham               81.4                         72.5   \n",
       "Edinburgh                81.3                         69.1   \n",
       "Glasgow                 100.0                         98.1   \n",
       "Imperial                 86.6                         73.5   \n",
       "KCL                      80.6                         66.6   \n",
       "Manchester               81.3                         70.2   \n",
       "Norwich                  87.4                         68.7   \n",
       "Strathclyde              97.1                         87.3   \n",
       "Warwick                  71.0                         74.2   \n",
       "\n",
       "             Learning Resources  Student Voice  Response Ratio  \n",
       "LSE                        87.1           67.2            0.67  \n",
       "Oxford                     92.2           61.9            0.50  \n",
       "UCL                        89.4           73.1            0.72  \n",
       "Birmingham                 87.2           64.4            0.69  \n",
       "Edinburgh                  85.7           65.6            0.65  \n",
       "Glasgow                    94.9           90.6            0.71  \n",
       "Imperial                   91.2           76.7            0.72  \n",
       "KCL                        85.1           66.5            0.70  \n",
       "Manchester                 81.9           64.4            0.74  \n",
       "Norwich                    85.5           72.0            0.82  \n",
       "Strathclyde                92.0           77.5            0.67  \n",
       "Warwick                    81.7           69.9            0.72  "
      ]
     },
     "execution_count": 5,
     "metadata": {},
     "output_type": "execute_result"
    }
   ],
   "source": [
    "overall_df=pd.DataFrame(main_dict)\n",
    "overall_df=overall_df.transpose()\n",
    "overall_df"
   ]
  },
  {
   "cell_type": "markdown",
   "metadata": {},
   "source": [
    "This much data is a little overwhelming when trying to compare universities and it would be nice if we could see the ranking for different categories. We will be able to better see differences in the Data Visualisation section, however, we decided to look at individual categories closer by slicing our DataFrame. \n"
   ]
  },
  {
   "cell_type": "code",
   "execution_count": 6,
   "metadata": {},
   "outputs": [
    {
     "data": {
      "text/html": [
       "<div>\n",
       "<style scoped>\n",
       "    .dataframe tbody tr th:only-of-type {\n",
       "        vertical-align: middle;\n",
       "    }\n",
       "\n",
       "    .dataframe tbody tr th {\n",
       "        vertical-align: top;\n",
       "    }\n",
       "\n",
       "    .dataframe thead th {\n",
       "        text-align: right;\n",
       "    }\n",
       "</style>\n",
       "<table border=\"1\" class=\"dataframe\">\n",
       "  <thead>\n",
       "    <tr style=\"text-align: right;\">\n",
       "      <th></th>\n",
       "      <th>Teaching</th>\n",
       "      <th>Response Ratio</th>\n",
       "    </tr>\n",
       "  </thead>\n",
       "  <tbody>\n",
       "    <tr>\n",
       "      <th>Glasgow</th>\n",
       "      <td>98.1</td>\n",
       "      <td>0.71</td>\n",
       "    </tr>\n",
       "    <tr>\n",
       "      <th>Strathclyde</th>\n",
       "      <td>94.1</td>\n",
       "      <td>0.67</td>\n",
       "    </tr>\n",
       "    <tr>\n",
       "      <th>Oxford</th>\n",
       "      <td>93.1</td>\n",
       "      <td>0.50</td>\n",
       "    </tr>\n",
       "    <tr>\n",
       "      <th>Imperial</th>\n",
       "      <td>89.3</td>\n",
       "      <td>0.72</td>\n",
       "    </tr>\n",
       "    <tr>\n",
       "      <th>Warwick</th>\n",
       "      <td>87.1</td>\n",
       "      <td>0.72</td>\n",
       "    </tr>\n",
       "    <tr>\n",
       "      <th>LSE</th>\n",
       "      <td>86.5</td>\n",
       "      <td>0.67</td>\n",
       "    </tr>\n",
       "    <tr>\n",
       "      <th>Edinburgh</th>\n",
       "      <td>85.2</td>\n",
       "      <td>0.65</td>\n",
       "    </tr>\n",
       "    <tr>\n",
       "      <th>UCL</th>\n",
       "      <td>84.4</td>\n",
       "      <td>0.72</td>\n",
       "    </tr>\n",
       "    <tr>\n",
       "      <th>Birmingham</th>\n",
       "      <td>84.1</td>\n",
       "      <td>0.69</td>\n",
       "    </tr>\n",
       "    <tr>\n",
       "      <th>KCL</th>\n",
       "      <td>83.3</td>\n",
       "      <td>0.70</td>\n",
       "    </tr>\n",
       "    <tr>\n",
       "      <th>Norwich</th>\n",
       "      <td>82.6</td>\n",
       "      <td>0.82</td>\n",
       "    </tr>\n",
       "    <tr>\n",
       "      <th>Manchester</th>\n",
       "      <td>81.7</td>\n",
       "      <td>0.74</td>\n",
       "    </tr>\n",
       "  </tbody>\n",
       "</table>\n",
       "</div>"
      ],
      "text/plain": [
       "             Teaching  Response Ratio\n",
       "Glasgow          98.1            0.71\n",
       "Strathclyde      94.1            0.67\n",
       "Oxford           93.1            0.50\n",
       "Imperial         89.3            0.72\n",
       "Warwick          87.1            0.72\n",
       "LSE              86.5            0.67\n",
       "Edinburgh        85.2            0.65\n",
       "UCL              84.4            0.72\n",
       "Birmingham       84.1            0.69\n",
       "KCL              83.3            0.70\n",
       "Norwich          82.6            0.82\n",
       "Manchester       81.7            0.74"
      ]
     },
     "execution_count": 6,
     "metadata": {},
     "output_type": "execute_result"
    }
   ],
   "source": [
    "teaching_df = overall_df.iloc[:, [0, 7]]\n",
    "teaching_df.sort_values(by='Teaching', ascending=False)"
   ]
  },
  {
   "cell_type": "code",
   "execution_count": 7,
   "metadata": {},
   "outputs": [
    {
     "data": {
      "text/html": [
       "<div>\n",
       "<style scoped>\n",
       "    .dataframe tbody tr th:only-of-type {\n",
       "        vertical-align: middle;\n",
       "    }\n",
       "\n",
       "    .dataframe tbody tr th {\n",
       "        vertical-align: top;\n",
       "    }\n",
       "\n",
       "    .dataframe thead th {\n",
       "        text-align: right;\n",
       "    }\n",
       "</style>\n",
       "<table border=\"1\" class=\"dataframe\">\n",
       "  <thead>\n",
       "    <tr style=\"text-align: right;\">\n",
       "      <th></th>\n",
       "      <th>Learning Opportunities</th>\n",
       "      <th>Response Ratio</th>\n",
       "    </tr>\n",
       "  </thead>\n",
       "  <tbody>\n",
       "    <tr>\n",
       "      <th>Glasgow</th>\n",
       "      <td>96.2</td>\n",
       "      <td>0.71</td>\n",
       "    </tr>\n",
       "    <tr>\n",
       "      <th>Strathclyde</th>\n",
       "      <td>92.0</td>\n",
       "      <td>0.67</td>\n",
       "    </tr>\n",
       "    <tr>\n",
       "      <th>Warwick</th>\n",
       "      <td>90.3</td>\n",
       "      <td>0.72</td>\n",
       "    </tr>\n",
       "    <tr>\n",
       "      <th>Imperial</th>\n",
       "      <td>85.1</td>\n",
       "      <td>0.72</td>\n",
       "    </tr>\n",
       "    <tr>\n",
       "      <th>Oxford</th>\n",
       "      <td>82.1</td>\n",
       "      <td>0.50</td>\n",
       "    </tr>\n",
       "    <tr>\n",
       "      <th>LSE</th>\n",
       "      <td>79.4</td>\n",
       "      <td>0.67</td>\n",
       "    </tr>\n",
       "    <tr>\n",
       "      <th>UCL</th>\n",
       "      <td>79.4</td>\n",
       "      <td>0.72</td>\n",
       "    </tr>\n",
       "    <tr>\n",
       "      <th>Birmingham</th>\n",
       "      <td>79.2</td>\n",
       "      <td>0.69</td>\n",
       "    </tr>\n",
       "    <tr>\n",
       "      <th>Norwich</th>\n",
       "      <td>79.1</td>\n",
       "      <td>0.82</td>\n",
       "    </tr>\n",
       "    <tr>\n",
       "      <th>KCL</th>\n",
       "      <td>77.7</td>\n",
       "      <td>0.70</td>\n",
       "    </tr>\n",
       "    <tr>\n",
       "      <th>Manchester</th>\n",
       "      <td>76.9</td>\n",
       "      <td>0.74</td>\n",
       "    </tr>\n",
       "    <tr>\n",
       "      <th>Edinburgh</th>\n",
       "      <td>75.5</td>\n",
       "      <td>0.65</td>\n",
       "    </tr>\n",
       "  </tbody>\n",
       "</table>\n",
       "</div>"
      ],
      "text/plain": [
       "             Learning Opportunities  Response Ratio\n",
       "Glasgow                        96.2            0.71\n",
       "Strathclyde                    92.0            0.67\n",
       "Warwick                        90.3            0.72\n",
       "Imperial                       85.1            0.72\n",
       "Oxford                         82.1            0.50\n",
       "LSE                            79.4            0.67\n",
       "UCL                            79.4            0.72\n",
       "Birmingham                     79.2            0.69\n",
       "Norwich                        79.1            0.82\n",
       "KCL                            77.7            0.70\n",
       "Manchester                     76.9            0.74\n",
       "Edinburgh                      75.5            0.65"
      ]
     },
     "execution_count": 7,
     "metadata": {},
     "output_type": "execute_result"
    }
   ],
   "source": [
    "learning_df = overall_df.iloc[:, [1, 7]]\n",
    "learning_df.sort_values(by='Learning Opportunities', ascending=False)"
   ]
  },
  {
   "cell_type": "code",
   "execution_count": 8,
   "metadata": {},
   "outputs": [
    {
     "data": {
      "text/html": [
       "<div>\n",
       "<style scoped>\n",
       "    .dataframe tbody tr th:only-of-type {\n",
       "        vertical-align: middle;\n",
       "    }\n",
       "\n",
       "    .dataframe tbody tr th {\n",
       "        vertical-align: top;\n",
       "    }\n",
       "\n",
       "    .dataframe thead th {\n",
       "        text-align: right;\n",
       "    }\n",
       "</style>\n",
       "<table border=\"1\" class=\"dataframe\">\n",
       "  <thead>\n",
       "    <tr style=\"text-align: right;\">\n",
       "      <th></th>\n",
       "      <th>Assessment and Feedback</th>\n",
       "      <th>Response Ratio</th>\n",
       "    </tr>\n",
       "  </thead>\n",
       "  <tbody>\n",
       "    <tr>\n",
       "      <th>Glasgow</th>\n",
       "      <td>95.6</td>\n",
       "      <td>0.71</td>\n",
       "    </tr>\n",
       "    <tr>\n",
       "      <th>Warwick</th>\n",
       "      <td>91.0</td>\n",
       "      <td>0.72</td>\n",
       "    </tr>\n",
       "    <tr>\n",
       "      <th>Strathclyde</th>\n",
       "      <td>89.3</td>\n",
       "      <td>0.67</td>\n",
       "    </tr>\n",
       "    <tr>\n",
       "      <th>Norwich</th>\n",
       "      <td>81.6</td>\n",
       "      <td>0.82</td>\n",
       "    </tr>\n",
       "    <tr>\n",
       "      <th>Oxford</th>\n",
       "      <td>74.1</td>\n",
       "      <td>0.50</td>\n",
       "    </tr>\n",
       "    <tr>\n",
       "      <th>LSE</th>\n",
       "      <td>71.1</td>\n",
       "      <td>0.67</td>\n",
       "    </tr>\n",
       "    <tr>\n",
       "      <th>Imperial</th>\n",
       "      <td>68.7</td>\n",
       "      <td>0.72</td>\n",
       "    </tr>\n",
       "    <tr>\n",
       "      <th>UCL</th>\n",
       "      <td>68.6</td>\n",
       "      <td>0.72</td>\n",
       "    </tr>\n",
       "    <tr>\n",
       "      <th>Birmingham</th>\n",
       "      <td>68.2</td>\n",
       "      <td>0.69</td>\n",
       "    </tr>\n",
       "    <tr>\n",
       "      <th>KCL</th>\n",
       "      <td>67.9</td>\n",
       "      <td>0.70</td>\n",
       "    </tr>\n",
       "    <tr>\n",
       "      <th>Manchester</th>\n",
       "      <td>67.9</td>\n",
       "      <td>0.74</td>\n",
       "    </tr>\n",
       "    <tr>\n",
       "      <th>Edinburgh</th>\n",
       "      <td>63.4</td>\n",
       "      <td>0.65</td>\n",
       "    </tr>\n",
       "  </tbody>\n",
       "</table>\n",
       "</div>"
      ],
      "text/plain": [
       "             Assessment and Feedback  Response Ratio\n",
       "Glasgow                         95.6            0.71\n",
       "Warwick                         91.0            0.72\n",
       "Strathclyde                     89.3            0.67\n",
       "Norwich                         81.6            0.82\n",
       "Oxford                          74.1            0.50\n",
       "LSE                             71.1            0.67\n",
       "Imperial                        68.7            0.72\n",
       "UCL                             68.6            0.72\n",
       "Birmingham                      68.2            0.69\n",
       "KCL                             67.9            0.70\n",
       "Manchester                      67.9            0.74\n",
       "Edinburgh                       63.4            0.65"
      ]
     },
     "execution_count": 8,
     "metadata": {},
     "output_type": "execute_result"
    }
   ],
   "source": [
    "assess_df = overall_df.iloc[:, [2, 7]]\n",
    "assess_df.sort_values(by='Assessment and Feedback', ascending=False)"
   ]
  },
  {
   "cell_type": "code",
   "execution_count": 9,
   "metadata": {},
   "outputs": [
    {
     "data": {
      "text/html": [
       "<div>\n",
       "<style scoped>\n",
       "    .dataframe tbody tr th:only-of-type {\n",
       "        vertical-align: middle;\n",
       "    }\n",
       "\n",
       "    .dataframe tbody tr th {\n",
       "        vertical-align: top;\n",
       "    }\n",
       "\n",
       "    .dataframe thead th {\n",
       "        text-align: right;\n",
       "    }\n",
       "</style>\n",
       "<table border=\"1\" class=\"dataframe\">\n",
       "  <thead>\n",
       "    <tr style=\"text-align: right;\">\n",
       "      <th></th>\n",
       "      <th>Academic Support</th>\n",
       "      <th>Response Ratio</th>\n",
       "    </tr>\n",
       "  </thead>\n",
       "  <tbody>\n",
       "    <tr>\n",
       "      <th>Glasgow</th>\n",
       "      <td>100.0</td>\n",
       "      <td>0.71</td>\n",
       "    </tr>\n",
       "    <tr>\n",
       "      <th>Strathclyde</th>\n",
       "      <td>97.1</td>\n",
       "      <td>0.67</td>\n",
       "    </tr>\n",
       "    <tr>\n",
       "      <th>Oxford</th>\n",
       "      <td>90.4</td>\n",
       "      <td>0.50</td>\n",
       "    </tr>\n",
       "    <tr>\n",
       "      <th>LSE</th>\n",
       "      <td>87.4</td>\n",
       "      <td>0.67</td>\n",
       "    </tr>\n",
       "    <tr>\n",
       "      <th>Norwich</th>\n",
       "      <td>87.4</td>\n",
       "      <td>0.82</td>\n",
       "    </tr>\n",
       "    <tr>\n",
       "      <th>Imperial</th>\n",
       "      <td>86.6</td>\n",
       "      <td>0.72</td>\n",
       "    </tr>\n",
       "    <tr>\n",
       "      <th>UCL</th>\n",
       "      <td>84.1</td>\n",
       "      <td>0.72</td>\n",
       "    </tr>\n",
       "    <tr>\n",
       "      <th>Birmingham</th>\n",
       "      <td>81.4</td>\n",
       "      <td>0.69</td>\n",
       "    </tr>\n",
       "    <tr>\n",
       "      <th>Edinburgh</th>\n",
       "      <td>81.3</td>\n",
       "      <td>0.65</td>\n",
       "    </tr>\n",
       "    <tr>\n",
       "      <th>Manchester</th>\n",
       "      <td>81.3</td>\n",
       "      <td>0.74</td>\n",
       "    </tr>\n",
       "    <tr>\n",
       "      <th>KCL</th>\n",
       "      <td>80.6</td>\n",
       "      <td>0.70</td>\n",
       "    </tr>\n",
       "    <tr>\n",
       "      <th>Warwick</th>\n",
       "      <td>71.0</td>\n",
       "      <td>0.72</td>\n",
       "    </tr>\n",
       "  </tbody>\n",
       "</table>\n",
       "</div>"
      ],
      "text/plain": [
       "             Academic Support  Response Ratio\n",
       "Glasgow                 100.0            0.71\n",
       "Strathclyde              97.1            0.67\n",
       "Oxford                   90.4            0.50\n",
       "LSE                      87.4            0.67\n",
       "Norwich                  87.4            0.82\n",
       "Imperial                 86.6            0.72\n",
       "UCL                      84.1            0.72\n",
       "Birmingham               81.4            0.69\n",
       "Edinburgh                81.3            0.65\n",
       "Manchester               81.3            0.74\n",
       "KCL                      80.6            0.70\n",
       "Warwick                  71.0            0.72"
      ]
     },
     "execution_count": 9,
     "metadata": {},
     "output_type": "execute_result"
    }
   ],
   "source": [
    "support_df = overall_df.iloc[:, [3, 7]]\n",
    "support_df.sort_values(by='Academic Support', ascending=False)"
   ]
  },
  {
   "cell_type": "code",
   "execution_count": 10,
   "metadata": {},
   "outputs": [
    {
     "data": {
      "text/html": [
       "<div>\n",
       "<style scoped>\n",
       "    .dataframe tbody tr th:only-of-type {\n",
       "        vertical-align: middle;\n",
       "    }\n",
       "\n",
       "    .dataframe tbody tr th {\n",
       "        vertical-align: top;\n",
       "    }\n",
       "\n",
       "    .dataframe thead th {\n",
       "        text-align: right;\n",
       "    }\n",
       "</style>\n",
       "<table border=\"1\" class=\"dataframe\">\n",
       "  <thead>\n",
       "    <tr style=\"text-align: right;\">\n",
       "      <th></th>\n",
       "      <th>Organisation and Management</th>\n",
       "      <th>Response Ratio</th>\n",
       "    </tr>\n",
       "  </thead>\n",
       "  <tbody>\n",
       "    <tr>\n",
       "      <th>Glasgow</th>\n",
       "      <td>98.1</td>\n",
       "      <td>0.71</td>\n",
       "    </tr>\n",
       "    <tr>\n",
       "      <th>Strathclyde</th>\n",
       "      <td>87.3</td>\n",
       "      <td>0.67</td>\n",
       "    </tr>\n",
       "    <tr>\n",
       "      <th>LSE</th>\n",
       "      <td>80.7</td>\n",
       "      <td>0.67</td>\n",
       "    </tr>\n",
       "    <tr>\n",
       "      <th>Warwick</th>\n",
       "      <td>74.2</td>\n",
       "      <td>0.72</td>\n",
       "    </tr>\n",
       "    <tr>\n",
       "      <th>UCL</th>\n",
       "      <td>74.0</td>\n",
       "      <td>0.72</td>\n",
       "    </tr>\n",
       "    <tr>\n",
       "      <th>Imperial</th>\n",
       "      <td>73.5</td>\n",
       "      <td>0.72</td>\n",
       "    </tr>\n",
       "    <tr>\n",
       "      <th>Birmingham</th>\n",
       "      <td>72.5</td>\n",
       "      <td>0.69</td>\n",
       "    </tr>\n",
       "    <tr>\n",
       "      <th>Manchester</th>\n",
       "      <td>70.2</td>\n",
       "      <td>0.74</td>\n",
       "    </tr>\n",
       "    <tr>\n",
       "      <th>Edinburgh</th>\n",
       "      <td>69.1</td>\n",
       "      <td>0.65</td>\n",
       "    </tr>\n",
       "    <tr>\n",
       "      <th>Norwich</th>\n",
       "      <td>68.7</td>\n",
       "      <td>0.82</td>\n",
       "    </tr>\n",
       "    <tr>\n",
       "      <th>Oxford</th>\n",
       "      <td>67.6</td>\n",
       "      <td>0.50</td>\n",
       "    </tr>\n",
       "    <tr>\n",
       "      <th>KCL</th>\n",
       "      <td>66.6</td>\n",
       "      <td>0.70</td>\n",
       "    </tr>\n",
       "  </tbody>\n",
       "</table>\n",
       "</div>"
      ],
      "text/plain": [
       "             Organisation and Management  Response Ratio\n",
       "Glasgow                             98.1            0.71\n",
       "Strathclyde                         87.3            0.67\n",
       "LSE                                 80.7            0.67\n",
       "Warwick                             74.2            0.72\n",
       "UCL                                 74.0            0.72\n",
       "Imperial                            73.5            0.72\n",
       "Birmingham                          72.5            0.69\n",
       "Manchester                          70.2            0.74\n",
       "Edinburgh                           69.1            0.65\n",
       "Norwich                             68.7            0.82\n",
       "Oxford                              67.6            0.50\n",
       "KCL                                 66.6            0.70"
      ]
     },
     "execution_count": 10,
     "metadata": {},
     "output_type": "execute_result"
    }
   ],
   "source": [
    "org_df = overall_df.iloc[:, [4, 7]]\n",
    "org_df.sort_values(by='Organisation and Management', ascending=False)"
   ]
  },
  {
   "cell_type": "code",
   "execution_count": 11,
   "metadata": {},
   "outputs": [
    {
     "data": {
      "text/html": [
       "<div>\n",
       "<style scoped>\n",
       "    .dataframe tbody tr th:only-of-type {\n",
       "        vertical-align: middle;\n",
       "    }\n",
       "\n",
       "    .dataframe tbody tr th {\n",
       "        vertical-align: top;\n",
       "    }\n",
       "\n",
       "    .dataframe thead th {\n",
       "        text-align: right;\n",
       "    }\n",
       "</style>\n",
       "<table border=\"1\" class=\"dataframe\">\n",
       "  <thead>\n",
       "    <tr style=\"text-align: right;\">\n",
       "      <th></th>\n",
       "      <th>Learning Resources</th>\n",
       "      <th>Response Ratio</th>\n",
       "    </tr>\n",
       "  </thead>\n",
       "  <tbody>\n",
       "    <tr>\n",
       "      <th>Glasgow</th>\n",
       "      <td>94.9</td>\n",
       "      <td>0.71</td>\n",
       "    </tr>\n",
       "    <tr>\n",
       "      <th>Oxford</th>\n",
       "      <td>92.2</td>\n",
       "      <td>0.50</td>\n",
       "    </tr>\n",
       "    <tr>\n",
       "      <th>Strathclyde</th>\n",
       "      <td>92.0</td>\n",
       "      <td>0.67</td>\n",
       "    </tr>\n",
       "    <tr>\n",
       "      <th>Imperial</th>\n",
       "      <td>91.2</td>\n",
       "      <td>0.72</td>\n",
       "    </tr>\n",
       "    <tr>\n",
       "      <th>UCL</th>\n",
       "      <td>89.4</td>\n",
       "      <td>0.72</td>\n",
       "    </tr>\n",
       "    <tr>\n",
       "      <th>Birmingham</th>\n",
       "      <td>87.2</td>\n",
       "      <td>0.69</td>\n",
       "    </tr>\n",
       "    <tr>\n",
       "      <th>LSE</th>\n",
       "      <td>87.1</td>\n",
       "      <td>0.67</td>\n",
       "    </tr>\n",
       "    <tr>\n",
       "      <th>Edinburgh</th>\n",
       "      <td>85.7</td>\n",
       "      <td>0.65</td>\n",
       "    </tr>\n",
       "    <tr>\n",
       "      <th>Norwich</th>\n",
       "      <td>85.5</td>\n",
       "      <td>0.82</td>\n",
       "    </tr>\n",
       "    <tr>\n",
       "      <th>KCL</th>\n",
       "      <td>85.1</td>\n",
       "      <td>0.70</td>\n",
       "    </tr>\n",
       "    <tr>\n",
       "      <th>Manchester</th>\n",
       "      <td>81.9</td>\n",
       "      <td>0.74</td>\n",
       "    </tr>\n",
       "    <tr>\n",
       "      <th>Warwick</th>\n",
       "      <td>81.7</td>\n",
       "      <td>0.72</td>\n",
       "    </tr>\n",
       "  </tbody>\n",
       "</table>\n",
       "</div>"
      ],
      "text/plain": [
       "             Learning Resources  Response Ratio\n",
       "Glasgow                    94.9            0.71\n",
       "Oxford                     92.2            0.50\n",
       "Strathclyde                92.0            0.67\n",
       "Imperial                   91.2            0.72\n",
       "UCL                        89.4            0.72\n",
       "Birmingham                 87.2            0.69\n",
       "LSE                        87.1            0.67\n",
       "Edinburgh                  85.7            0.65\n",
       "Norwich                    85.5            0.82\n",
       "KCL                        85.1            0.70\n",
       "Manchester                 81.9            0.74\n",
       "Warwick                    81.7            0.72"
      ]
     },
     "execution_count": 11,
     "metadata": {},
     "output_type": "execute_result"
    }
   ],
   "source": [
    "resource_df = overall_df.iloc[:, [5, 7]]\n",
    "resource_df.sort_values(by='Learning Resources', ascending=False)"
   ]
  },
  {
   "cell_type": "code",
   "execution_count": 12,
   "metadata": {},
   "outputs": [
    {
     "data": {
      "text/html": [
       "<div>\n",
       "<style scoped>\n",
       "    .dataframe tbody tr th:only-of-type {\n",
       "        vertical-align: middle;\n",
       "    }\n",
       "\n",
       "    .dataframe tbody tr th {\n",
       "        vertical-align: top;\n",
       "    }\n",
       "\n",
       "    .dataframe thead th {\n",
       "        text-align: right;\n",
       "    }\n",
       "</style>\n",
       "<table border=\"1\" class=\"dataframe\">\n",
       "  <thead>\n",
       "    <tr style=\"text-align: right;\">\n",
       "      <th></th>\n",
       "      <th>Student Voice</th>\n",
       "      <th>Response Ratio</th>\n",
       "    </tr>\n",
       "  </thead>\n",
       "  <tbody>\n",
       "    <tr>\n",
       "      <th>Glasgow</th>\n",
       "      <td>90.6</td>\n",
       "      <td>0.71</td>\n",
       "    </tr>\n",
       "    <tr>\n",
       "      <th>Strathclyde</th>\n",
       "      <td>77.5</td>\n",
       "      <td>0.67</td>\n",
       "    </tr>\n",
       "    <tr>\n",
       "      <th>Imperial</th>\n",
       "      <td>76.7</td>\n",
       "      <td>0.72</td>\n",
       "    </tr>\n",
       "    <tr>\n",
       "      <th>UCL</th>\n",
       "      <td>73.1</td>\n",
       "      <td>0.72</td>\n",
       "    </tr>\n",
       "    <tr>\n",
       "      <th>Norwich</th>\n",
       "      <td>72.0</td>\n",
       "      <td>0.82</td>\n",
       "    </tr>\n",
       "    <tr>\n",
       "      <th>Warwick</th>\n",
       "      <td>69.9</td>\n",
       "      <td>0.72</td>\n",
       "    </tr>\n",
       "    <tr>\n",
       "      <th>LSE</th>\n",
       "      <td>67.2</td>\n",
       "      <td>0.67</td>\n",
       "    </tr>\n",
       "    <tr>\n",
       "      <th>KCL</th>\n",
       "      <td>66.5</td>\n",
       "      <td>0.70</td>\n",
       "    </tr>\n",
       "    <tr>\n",
       "      <th>Edinburgh</th>\n",
       "      <td>65.6</td>\n",
       "      <td>0.65</td>\n",
       "    </tr>\n",
       "    <tr>\n",
       "      <th>Birmingham</th>\n",
       "      <td>64.4</td>\n",
       "      <td>0.69</td>\n",
       "    </tr>\n",
       "    <tr>\n",
       "      <th>Manchester</th>\n",
       "      <td>64.4</td>\n",
       "      <td>0.74</td>\n",
       "    </tr>\n",
       "    <tr>\n",
       "      <th>Oxford</th>\n",
       "      <td>61.9</td>\n",
       "      <td>0.50</td>\n",
       "    </tr>\n",
       "  </tbody>\n",
       "</table>\n",
       "</div>"
      ],
      "text/plain": [
       "             Student Voice  Response Ratio\n",
       "Glasgow               90.6            0.71\n",
       "Strathclyde           77.5            0.67\n",
       "Imperial              76.7            0.72\n",
       "UCL                   73.1            0.72\n",
       "Norwich               72.0            0.82\n",
       "Warwick               69.9            0.72\n",
       "LSE                   67.2            0.67\n",
       "KCL                   66.5            0.70\n",
       "Edinburgh             65.6            0.65\n",
       "Birmingham            64.4            0.69\n",
       "Manchester            64.4            0.74\n",
       "Oxford                61.9            0.50"
      ]
     },
     "execution_count": 12,
     "metadata": {},
     "output_type": "execute_result"
    }
   ],
   "source": [
    "voice_df = overall_df.iloc[:, [6, 7]]\n",
    "voice_df.sort_values(by='Student Voice', ascending=False)"
   ]
  },
  {
   "cell_type": "markdown",
   "metadata": {},
   "source": [
    "The results were quite surprising to us as LSE appeared to have decently satisfied students in multiple categories, most notable being Course Organisation quality, where LSE placed third. In fact, out of all of the London universities LSE appeared to perform as one of the best. We decided to investigate the disparities between universities further in the Visualisation section."
   ]
  },
  {
   "cell_type": "markdown",
   "metadata": {},
   "source": [
    "Another research question involved investigating how student satisfaction varied by degree at the LSE. We look at all of the subjects first to get an idea of the data."
   ]
  },
  {
   "cell_type": "code",
   "execution_count": 13,
   "metadata": {},
   "outputs": [
    {
     "data": {
      "text/plain": [
       "Law                                                408\n",
       "Psychology                                         272\n",
       "Mathematical sciences                              272\n",
       "Geography, earth and environmental studies         272\n",
       "Economics                                          272\n",
       "Politics                                           272\n",
       "Business and management                            272\n",
       "Language and area studies                          136\n",
       "Human geography                                    136\n",
       "Philosophy                                         136\n",
       "Philosophy and religious studies                   136\n",
       "History                                            136\n",
       "History and archaeology                            136\n",
       "Historical, philosophical and religious studies    136\n",
       "Asian studies                                      136\n",
       "Languages and area studies                         136\n",
       "Management studies                                 136\n",
       "Accounting                                         136\n",
       "Finance                                            136\n",
       "Psychology (non-specific)                          136\n",
       "Anthropology                                       136\n",
       "Social policy                                      136\n",
       "Sociology                                          136\n",
       "Sociology, social policy and anthropology          136\n",
       "Social sciences                                    136\n",
       "Statistics                                         136\n",
       "Mathematics                                        136\n",
       "NaN                                                136\n",
       "Name: Subject, dtype: int64"
      ]
     },
     "execution_count": 13,
     "metadata": {},
     "output_type": "execute_result"
    }
   ],
   "source": [
    "lse_subjectdat=univ_df['LSE']\n",
    "lse_subjectdat['Subject'].value_counts(dropna=False)"
   ]
  },
  {
   "cell_type": "markdown",
   "metadata": {},
   "source": [
    "Many of these subjects overlap due to the way the NSS is organised. Essentially, subjects are grouped into certain levels under the Common Aggregation Hierarchy; the more broad a subject is the lower the level. For example, at CAH1 you could get 'Geography, earth and environmental studies' whilst at CAH3 you can get 'Human geography.' For this project, we have decided to only analyse subjects at the level of CAH2. Though this does lose some núance (e.g. Mathematics and Statistics are grouped into one 'Mathematical Sciences') it makes the data easier to interpret, as the differences between groups may appear more evident.  "
   ]
  },
  {
   "cell_type": "code",
   "execution_count": 14,
   "metadata": {},
   "outputs": [
    {
     "data": {
      "text/plain": [
       "Psychology                                    136\n",
       "Mathematical sciences                         136\n",
       "Sociology, social policy and anthropology     136\n",
       "Economics                                     136\n",
       "Politics                                      136\n",
       "Law                                           136\n",
       "Business and management                       136\n",
       "Languages and area studies                    136\n",
       "History and archaeology                       136\n",
       "Philosophy and religious studies              136\n",
       "Geography, earth and environmental studies    136\n",
       "Name: Subject, dtype: int64"
      ]
     },
     "execution_count": 14,
     "metadata": {},
     "output_type": "execute_result"
    }
   ],
   "source": [
    "lse_subjectdat=lse_subjectdat[lse_subjectdat['Subject level']=='CAH2']\n",
    "lse_subjectdat['Subject'].value_counts()\n"
   ]
  },
  {
   "cell_type": "markdown",
   "metadata": {},
   "source": [
    "We then calculate the specific positivity scores for each subject.\n",
    "\n",
    "The data differentiates between students with a First and 'all undergraduates', but we could not see any difference between the data collected for both values (i.e. the rows were identical with the one difference being some had 'First') which led us to believe there was no real need to display this distinction. As, such we only analysed rows with Level of study as 'All undergraduates'. \n",
    "\n",
    "For the academic subjects, we decided to also display the standard deviation, as we felt it was important to determine how divided student opinion was in certain subjects. Additionally, some cohorts are much smaller than others (e.g. Psychology had only 30 respondents) so we also displayed this."
   ]
  },
  {
   "cell_type": "code",
   "execution_count": 15,
   "metadata": {},
   "outputs": [],
   "source": [
    "teach_dict={}\n",
    "learn_dict={}\n",
    "assess_dict={}\n",
    "support_dict={}\n",
    "organisation_dict={}\n",
    "resource_dict={}\n",
    "voice_dict={}\n",
    "overall_subject={}\n",
    "for name in lse_subjectdat['Subject'].unique():\n",
    "    \n",
    "    df=lse_subjectdat[(lse_subjectdat['Subject']==name) & (lse_subjectdat['Level of study']=='All undergraduates')][-7:]\n",
    "    response_ratio=round(df.iloc[0]['Responses']/df.iloc[0]['Population'],2)\n",
    "    \n",
    "    \n",
    "    #Teaching Scores\n",
    "    teach_positivity=df.iloc[0]['Positivity measure (%)']\n",
    "    sd=df.iloc[0]['Standard deviation']\n",
    "    respondents=df.iloc[0]['Responses']\n",
    "    teach_dict[name]={'Positivity Measure(%)':teach_positivity, 'Standard Deviation': sd, 'Response Ratio': response_ratio, 'Number of Respondents': int(respondents)}\n",
    "    \n",
    "    #Learning Opportunities\n",
    "    learn_positivity=df.iloc[1]['Positivity measure (%)']\n",
    "    sd=df.iloc[1]['Standard deviation']\n",
    "    respondents=df.iloc[1]['Responses']\n",
    "    learn_dict[name]={'Positivity Measure(%)':learn_positivity, 'Standard Deviation': sd, 'Response Ratio': response_ratio, 'Number of Respondents': int(respondents)}\n",
    "\n",
    "    \n",
    "    #Assessment and feedback\n",
    "    assess_positivity=df.iloc[2]['Positivity measure (%)']\n",
    "    sd=df.iloc[2]['Standard deviation']\n",
    "    respondents=df.iloc[2]['Responses']\n",
    "    assess_dict[name]={'Positivity Measure(%)':assess_positivity, 'Standard Deviation': sd, 'Response Ratio': response_ratio, 'Number of Respondents': int(respondents)}\n",
    "\n",
    "    #Academic Support\n",
    "    support_positivity=df.iloc[3]['Positivity measure (%)']\n",
    "    sd=df.iloc[3]['Standard deviation']\n",
    "    respondents=df.iloc[3]['Responses']\n",
    "    support_dict[name]={'Positivity Measure(%)':support_positivity, 'Standard Deviation': sd, 'Response Ratio': response_ratio, 'Number of Respondents': int(respondents)}\n",
    "\n",
    "    # Organisation and Management\n",
    "    organisation_positivity=df.iloc[4]['Positivity measure (%)']\n",
    "    sd=df.iloc[4]['Standard deviation']\n",
    "    respondents=df.iloc[4]['Responses']\n",
    "    organisation_dict[name]={'Positivity Measure(%)':organisation_positivity, 'Standard Deviation': sd, 'Response Ratio': response_ratio, 'Number of Respondents': int(respondents)}\n",
    "\n",
    "    # Learning Resources\n",
    "    resource_positivity=df.iloc[5]['Positivity measure (%)']\n",
    "    sd=df.iloc[5]['Standard deviation']\n",
    "    respondents=df.iloc[5]['Responses']\n",
    "    resource_dict[name]={'Positivity Measure(%)':resource_positivity, 'Standard Deviation': sd, 'Response Ratio': response_ratio, 'Number of Respondents': int(respondents)}\n",
    "\n",
    "    # Student Voice\n",
    "    voice_positivity=df.iloc[6]['Positivity measure (%)']\n",
    "    sd=df.iloc[6]['Standard deviation']\n",
    "    respondents=df.iloc[6]['Responses']\n",
    "    voice_dict[name]={'Positivity Measure(%)':voice_positivity, 'Standard Deviation': sd, 'Response Ratio': response_ratio, 'Number of Respondents': int(respondents)}\n",
    "\n",
    "    #overall\n",
    "    overall_subject[name]={'Teaching': teach_positivity, 'Learning Opportunities': learn_positivity, 'Assessment and Feedback': assess_positivity, \n",
    "                     'Academic Support': support_positivity, 'Organisation and Management': organisation_positivity,\n",
    "                    'Learning Resources': resource_positivity, 'Student Voice': voice_positivity, 'Response Ratio': response_ratio}\n",
    "    \n",
    "    \n",
    "    \n"
   ]
  },
  {
   "cell_type": "code",
   "execution_count": 16,
   "metadata": {},
   "outputs": [
    {
     "data": {
      "text/html": [
       "<div>\n",
       "<style scoped>\n",
       "    .dataframe tbody tr th:only-of-type {\n",
       "        vertical-align: middle;\n",
       "    }\n",
       "\n",
       "    .dataframe tbody tr th {\n",
       "        vertical-align: top;\n",
       "    }\n",
       "\n",
       "    .dataframe thead th {\n",
       "        text-align: right;\n",
       "    }\n",
       "</style>\n",
       "<table border=\"1\" class=\"dataframe\">\n",
       "  <thead>\n",
       "    <tr style=\"text-align: right;\">\n",
       "      <th></th>\n",
       "      <th>Teaching</th>\n",
       "      <th>Learning Opportunities</th>\n",
       "      <th>Assessment and Feedback</th>\n",
       "      <th>Academic Support</th>\n",
       "      <th>Organisation and Management</th>\n",
       "      <th>Learning Resources</th>\n",
       "      <th>Student Voice</th>\n",
       "      <th>Response Ratio</th>\n",
       "    </tr>\n",
       "  </thead>\n",
       "  <tbody>\n",
       "    <tr>\n",
       "      <th>Psychology</th>\n",
       "      <td>99.2</td>\n",
       "      <td>96.0</td>\n",
       "      <td>89.3</td>\n",
       "      <td>100.0</td>\n",
       "      <td>96.7</td>\n",
       "      <td>93.9</td>\n",
       "      <td>100.0</td>\n",
       "      <td>1.00</td>\n",
       "    </tr>\n",
       "    <tr>\n",
       "      <th>Mathematical sciences</th>\n",
       "      <td>72.8</td>\n",
       "      <td>69.3</td>\n",
       "      <td>58.6</td>\n",
       "      <td>76.9</td>\n",
       "      <td>70.8</td>\n",
       "      <td>84.6</td>\n",
       "      <td>59.6</td>\n",
       "      <td>0.63</td>\n",
       "    </tr>\n",
       "    <tr>\n",
       "      <th>Sociology, social policy and anthropology</th>\n",
       "      <td>90.1</td>\n",
       "      <td>82.6</td>\n",
       "      <td>77.5</td>\n",
       "      <td>89.8</td>\n",
       "      <td>80.9</td>\n",
       "      <td>89.8</td>\n",
       "      <td>72.9</td>\n",
       "      <td>0.71</td>\n",
       "    </tr>\n",
       "    <tr>\n",
       "      <th>Economics</th>\n",
       "      <td>84.1</td>\n",
       "      <td>75.7</td>\n",
       "      <td>68.2</td>\n",
       "      <td>86.5</td>\n",
       "      <td>81.9</td>\n",
       "      <td>85.4</td>\n",
       "      <td>64.4</td>\n",
       "      <td>0.65</td>\n",
       "    </tr>\n",
       "    <tr>\n",
       "      <th>Politics</th>\n",
       "      <td>89.2</td>\n",
       "      <td>79.3</td>\n",
       "      <td>69.2</td>\n",
       "      <td>87.9</td>\n",
       "      <td>78.2</td>\n",
       "      <td>88.4</td>\n",
       "      <td>63.6</td>\n",
       "      <td>0.73</td>\n",
       "    </tr>\n",
       "    <tr>\n",
       "      <th>Law</th>\n",
       "      <td>93.3</td>\n",
       "      <td>82.3</td>\n",
       "      <td>79.5</td>\n",
       "      <td>90.0</td>\n",
       "      <td>76.7</td>\n",
       "      <td>87.7</td>\n",
       "      <td>67.5</td>\n",
       "      <td>0.59</td>\n",
       "    </tr>\n",
       "    <tr>\n",
       "      <th>Business and management</th>\n",
       "      <td>88.0</td>\n",
       "      <td>82.7</td>\n",
       "      <td>70.3</td>\n",
       "      <td>88.0</td>\n",
       "      <td>85.6</td>\n",
       "      <td>86.8</td>\n",
       "      <td>69.6</td>\n",
       "      <td>0.66</td>\n",
       "    </tr>\n",
       "    <tr>\n",
       "      <th>Languages and area studies</th>\n",
       "      <td>93.3</td>\n",
       "      <td>89.8</td>\n",
       "      <td>92.4</td>\n",
       "      <td>100.0</td>\n",
       "      <td>84.5</td>\n",
       "      <td>86.0</td>\n",
       "      <td>75.6</td>\n",
       "      <td>0.77</td>\n",
       "    </tr>\n",
       "    <tr>\n",
       "      <th>History and archaeology</th>\n",
       "      <td>90.3</td>\n",
       "      <td>84.6</td>\n",
       "      <td>78.1</td>\n",
       "      <td>91.2</td>\n",
       "      <td>85.6</td>\n",
       "      <td>88.5</td>\n",
       "      <td>71.4</td>\n",
       "      <td>0.74</td>\n",
       "    </tr>\n",
       "    <tr>\n",
       "      <th>Philosophy and religious studies</th>\n",
       "      <td>90.4</td>\n",
       "      <td>83.9</td>\n",
       "      <td>79.1</td>\n",
       "      <td>93.1</td>\n",
       "      <td>83.8</td>\n",
       "      <td>88.3</td>\n",
       "      <td>73.8</td>\n",
       "      <td>0.68</td>\n",
       "    </tr>\n",
       "    <tr>\n",
       "      <th>Geography, earth and environmental studies</th>\n",
       "      <td>78.6</td>\n",
       "      <td>75.3</td>\n",
       "      <td>64.3</td>\n",
       "      <td>82.8</td>\n",
       "      <td>74.7</td>\n",
       "      <td>84.5</td>\n",
       "      <td>58.9</td>\n",
       "      <td>0.70</td>\n",
       "    </tr>\n",
       "  </tbody>\n",
       "</table>\n",
       "</div>"
      ],
      "text/plain": [
       "                                            Teaching  Learning Opportunities  \\\n",
       "Psychology                                      99.2                    96.0   \n",
       "Mathematical sciences                           72.8                    69.3   \n",
       "Sociology, social policy and anthropology       90.1                    82.6   \n",
       "Economics                                       84.1                    75.7   \n",
       "Politics                                        89.2                    79.3   \n",
       "Law                                             93.3                    82.3   \n",
       "Business and management                         88.0                    82.7   \n",
       "Languages and area studies                      93.3                    89.8   \n",
       "History and archaeology                         90.3                    84.6   \n",
       "Philosophy and religious studies                90.4                    83.9   \n",
       "Geography, earth and environmental studies      78.6                    75.3   \n",
       "\n",
       "                                            Assessment and Feedback  \\\n",
       "Psychology                                                     89.3   \n",
       "Mathematical sciences                                          58.6   \n",
       "Sociology, social policy and anthropology                      77.5   \n",
       "Economics                                                      68.2   \n",
       "Politics                                                       69.2   \n",
       "Law                                                            79.5   \n",
       "Business and management                                        70.3   \n",
       "Languages and area studies                                     92.4   \n",
       "History and archaeology                                        78.1   \n",
       "Philosophy and religious studies                               79.1   \n",
       "Geography, earth and environmental studies                     64.3   \n",
       "\n",
       "                                            Academic Support  \\\n",
       "Psychology                                             100.0   \n",
       "Mathematical sciences                                   76.9   \n",
       "Sociology, social policy and anthropology               89.8   \n",
       "Economics                                               86.5   \n",
       "Politics                                                87.9   \n",
       "Law                                                     90.0   \n",
       "Business and management                                 88.0   \n",
       "Languages and area studies                             100.0   \n",
       "History and archaeology                                 91.2   \n",
       "Philosophy and religious studies                        93.1   \n",
       "Geography, earth and environmental studies              82.8   \n",
       "\n",
       "                                            Organisation and Management  \\\n",
       "Psychology                                                         96.7   \n",
       "Mathematical sciences                                              70.8   \n",
       "Sociology, social policy and anthropology                          80.9   \n",
       "Economics                                                          81.9   \n",
       "Politics                                                           78.2   \n",
       "Law                                                                76.7   \n",
       "Business and management                                            85.6   \n",
       "Languages and area studies                                         84.5   \n",
       "History and archaeology                                            85.6   \n",
       "Philosophy and religious studies                                   83.8   \n",
       "Geography, earth and environmental studies                         74.7   \n",
       "\n",
       "                                            Learning Resources  Student Voice  \\\n",
       "Psychology                                                93.9          100.0   \n",
       "Mathematical sciences                                     84.6           59.6   \n",
       "Sociology, social policy and anthropology                 89.8           72.9   \n",
       "Economics                                                 85.4           64.4   \n",
       "Politics                                                  88.4           63.6   \n",
       "Law                                                       87.7           67.5   \n",
       "Business and management                                   86.8           69.6   \n",
       "Languages and area studies                                86.0           75.6   \n",
       "History and archaeology                                   88.5           71.4   \n",
       "Philosophy and religious studies                          88.3           73.8   \n",
       "Geography, earth and environmental studies                84.5           58.9   \n",
       "\n",
       "                                            Response Ratio  \n",
       "Psychology                                            1.00  \n",
       "Mathematical sciences                                 0.63  \n",
       "Sociology, social policy and anthropology             0.71  \n",
       "Economics                                             0.65  \n",
       "Politics                                              0.73  \n",
       "Law                                                   0.59  \n",
       "Business and management                               0.66  \n",
       "Languages and area studies                            0.77  \n",
       "History and archaeology                               0.74  \n",
       "Philosophy and religious studies                      0.68  \n",
       "Geography, earth and environmental studies            0.70  "
      ]
     },
     "execution_count": 16,
     "metadata": {},
     "output_type": "execute_result"
    }
   ],
   "source": [
    "overall_subjectdf=pd.DataFrame(overall_subject)\n",
    "overall_subjectdf=overall_subjectdf.transpose()\n",
    "overall_subjectdf"
   ]
  },
  {
   "cell_type": "code",
   "execution_count": 18,
   "metadata": {},
   "outputs": [
    {
     "name": "stdout",
     "output_type": "stream",
     "text": [
      "Student Views on Teaching Quality by Subject\n"
     ]
    },
    {
     "data": {
      "text/html": [
       "<div>\n",
       "<style scoped>\n",
       "    .dataframe tbody tr th:only-of-type {\n",
       "        vertical-align: middle;\n",
       "    }\n",
       "\n",
       "    .dataframe tbody tr th {\n",
       "        vertical-align: top;\n",
       "    }\n",
       "\n",
       "    .dataframe thead th {\n",
       "        text-align: right;\n",
       "    }\n",
       "</style>\n",
       "<table border=\"1\" class=\"dataframe\">\n",
       "  <thead>\n",
       "    <tr style=\"text-align: right;\">\n",
       "      <th></th>\n",
       "      <th>Positivity Measure(%)</th>\n",
       "      <th>Standard Deviation</th>\n",
       "      <th>Response Ratio</th>\n",
       "      <th>Number of Respondents</th>\n",
       "    </tr>\n",
       "  </thead>\n",
       "  <tbody>\n",
       "    <tr>\n",
       "      <th>Psychology</th>\n",
       "      <td>99.2</td>\n",
       "      <td>5.1</td>\n",
       "      <td>1.00</td>\n",
       "      <td>30.0</td>\n",
       "    </tr>\n",
       "    <tr>\n",
       "      <th>Law</th>\n",
       "      <td>93.3</td>\n",
       "      <td>2.8</td>\n",
       "      <td>0.59</td>\n",
       "      <td>118.0</td>\n",
       "    </tr>\n",
       "    <tr>\n",
       "      <th>Languages and area studies</th>\n",
       "      <td>93.3</td>\n",
       "      <td>10.5</td>\n",
       "      <td>0.77</td>\n",
       "      <td>7.0</td>\n",
       "    </tr>\n",
       "    <tr>\n",
       "      <th>Philosophy and religious studies</th>\n",
       "      <td>90.4</td>\n",
       "      <td>4.7</td>\n",
       "      <td>0.68</td>\n",
       "      <td>36.0</td>\n",
       "    </tr>\n",
       "    <tr>\n",
       "      <th>History and archaeology</th>\n",
       "      <td>90.3</td>\n",
       "      <td>2.8</td>\n",
       "      <td>0.74</td>\n",
       "      <td>97.0</td>\n",
       "    </tr>\n",
       "    <tr>\n",
       "      <th>Sociology, social policy and anthropology</th>\n",
       "      <td>90.1</td>\n",
       "      <td>3.0</td>\n",
       "      <td>0.71</td>\n",
       "      <td>117.0</td>\n",
       "    </tr>\n",
       "    <tr>\n",
       "      <th>Politics</th>\n",
       "      <td>89.2</td>\n",
       "      <td>2.4</td>\n",
       "      <td>0.73</td>\n",
       "      <td>173.0</td>\n",
       "    </tr>\n",
       "    <tr>\n",
       "      <th>Business and management</th>\n",
       "      <td>88.0</td>\n",
       "      <td>2.4</td>\n",
       "      <td>0.66</td>\n",
       "      <td>210.0</td>\n",
       "    </tr>\n",
       "    <tr>\n",
       "      <th>Economics</th>\n",
       "      <td>84.1</td>\n",
       "      <td>2.1</td>\n",
       "      <td>0.65</td>\n",
       "      <td>297.0</td>\n",
       "    </tr>\n",
       "    <tr>\n",
       "      <th>Geography, earth and environmental studies</th>\n",
       "      <td>78.6</td>\n",
       "      <td>5.1</td>\n",
       "      <td>0.70</td>\n",
       "      <td>51.0</td>\n",
       "    </tr>\n",
       "    <tr>\n",
       "      <th>Mathematical sciences</th>\n",
       "      <td>72.8</td>\n",
       "      <td>3.4</td>\n",
       "      <td>0.63</td>\n",
       "      <td>134.0</td>\n",
       "    </tr>\n",
       "  </tbody>\n",
       "</table>\n",
       "</div>"
      ],
      "text/plain": [
       "                                            Positivity Measure(%)  \\\n",
       "Psychology                                                   99.2   \n",
       "Law                                                          93.3   \n",
       "Languages and area studies                                   93.3   \n",
       "Philosophy and religious studies                             90.4   \n",
       "History and archaeology                                      90.3   \n",
       "Sociology, social policy and anthropology                    90.1   \n",
       "Politics                                                     89.2   \n",
       "Business and management                                      88.0   \n",
       "Economics                                                    84.1   \n",
       "Geography, earth and environmental studies                   78.6   \n",
       "Mathematical sciences                                        72.8   \n",
       "\n",
       "                                            Standard Deviation  \\\n",
       "Psychology                                                 5.1   \n",
       "Law                                                        2.8   \n",
       "Languages and area studies                                10.5   \n",
       "Philosophy and religious studies                           4.7   \n",
       "History and archaeology                                    2.8   \n",
       "Sociology, social policy and anthropology                  3.0   \n",
       "Politics                                                   2.4   \n",
       "Business and management                                    2.4   \n",
       "Economics                                                  2.1   \n",
       "Geography, earth and environmental studies                 5.1   \n",
       "Mathematical sciences                                      3.4   \n",
       "\n",
       "                                            Response Ratio  \\\n",
       "Psychology                                            1.00   \n",
       "Law                                                   0.59   \n",
       "Languages and area studies                            0.77   \n",
       "Philosophy and religious studies                      0.68   \n",
       "History and archaeology                               0.74   \n",
       "Sociology, social policy and anthropology             0.71   \n",
       "Politics                                              0.73   \n",
       "Business and management                               0.66   \n",
       "Economics                                             0.65   \n",
       "Geography, earth and environmental studies            0.70   \n",
       "Mathematical sciences                                 0.63   \n",
       "\n",
       "                                            Number of Respondents  \n",
       "Psychology                                                   30.0  \n",
       "Law                                                         118.0  \n",
       "Languages and area studies                                    7.0  \n",
       "Philosophy and religious studies                             36.0  \n",
       "History and archaeology                                      97.0  \n",
       "Sociology, social policy and anthropology                   117.0  \n",
       "Politics                                                    173.0  \n",
       "Business and management                                     210.0  \n",
       "Economics                                                   297.0  \n",
       "Geography, earth and environmental studies                   51.0  \n",
       "Mathematical sciences                                       134.0  "
      ]
     },
     "execution_count": 18,
     "metadata": {},
     "output_type": "execute_result"
    }
   ],
   "source": [
    "teach_df=pd.DataFrame(teach_dict)\n",
    "print('Student Views on Teaching Quality by Subject') #a higher percentage means more students think positively of that factor\n",
    "teach_df=teach_df.transpose()\n",
    "teach_df.sort_values(by='Positivity Measure(%)', ascending=False)"
   ]
  },
  {
   "cell_type": "code",
   "execution_count": 19,
   "metadata": {},
   "outputs": [
    {
     "name": "stdout",
     "output_type": "stream",
     "text": [
      "Student Views on Learning Opportunities by Subject\n"
     ]
    },
    {
     "data": {
      "text/html": [
       "<div>\n",
       "<style scoped>\n",
       "    .dataframe tbody tr th:only-of-type {\n",
       "        vertical-align: middle;\n",
       "    }\n",
       "\n",
       "    .dataframe tbody tr th {\n",
       "        vertical-align: top;\n",
       "    }\n",
       "\n",
       "    .dataframe thead th {\n",
       "        text-align: right;\n",
       "    }\n",
       "</style>\n",
       "<table border=\"1\" class=\"dataframe\">\n",
       "  <thead>\n",
       "    <tr style=\"text-align: right;\">\n",
       "      <th></th>\n",
       "      <th>Positivity Measure(%)</th>\n",
       "      <th>Standard Deviation</th>\n",
       "      <th>Response Ratio</th>\n",
       "      <th>Number of Respondents</th>\n",
       "    </tr>\n",
       "  </thead>\n",
       "  <tbody>\n",
       "    <tr>\n",
       "      <th>Psychology</th>\n",
       "      <td>96.0</td>\n",
       "      <td>6.0</td>\n",
       "      <td>1.00</td>\n",
       "      <td>30.0</td>\n",
       "    </tr>\n",
       "    <tr>\n",
       "      <th>Languages and area studies</th>\n",
       "      <td>89.8</td>\n",
       "      <td>12.9</td>\n",
       "      <td>0.77</td>\n",
       "      <td>7.0</td>\n",
       "    </tr>\n",
       "    <tr>\n",
       "      <th>History and archaeology</th>\n",
       "      <td>84.6</td>\n",
       "      <td>3.7</td>\n",
       "      <td>0.74</td>\n",
       "      <td>97.0</td>\n",
       "    </tr>\n",
       "    <tr>\n",
       "      <th>Philosophy and religious studies</th>\n",
       "      <td>83.9</td>\n",
       "      <td>6.0</td>\n",
       "      <td>0.68</td>\n",
       "      <td>36.0</td>\n",
       "    </tr>\n",
       "    <tr>\n",
       "      <th>Business and management</th>\n",
       "      <td>82.7</td>\n",
       "      <td>2.6</td>\n",
       "      <td>0.66</td>\n",
       "      <td>210.0</td>\n",
       "    </tr>\n",
       "    <tr>\n",
       "      <th>Sociology, social policy and anthropology</th>\n",
       "      <td>82.6</td>\n",
       "      <td>3.5</td>\n",
       "      <td>0.71</td>\n",
       "      <td>117.0</td>\n",
       "    </tr>\n",
       "    <tr>\n",
       "      <th>Law</th>\n",
       "      <td>82.3</td>\n",
       "      <td>3.5</td>\n",
       "      <td>0.59</td>\n",
       "      <td>118.0</td>\n",
       "    </tr>\n",
       "    <tr>\n",
       "      <th>Politics</th>\n",
       "      <td>79.3</td>\n",
       "      <td>3.0</td>\n",
       "      <td>0.73</td>\n",
       "      <td>173.0</td>\n",
       "    </tr>\n",
       "    <tr>\n",
       "      <th>Economics</th>\n",
       "      <td>75.7</td>\n",
       "      <td>2.4</td>\n",
       "      <td>0.65</td>\n",
       "      <td>297.0</td>\n",
       "    </tr>\n",
       "    <tr>\n",
       "      <th>Geography, earth and environmental studies</th>\n",
       "      <td>75.3</td>\n",
       "      <td>5.5</td>\n",
       "      <td>0.70</td>\n",
       "      <td>51.0</td>\n",
       "    </tr>\n",
       "    <tr>\n",
       "      <th>Mathematical sciences</th>\n",
       "      <td>69.3</td>\n",
       "      <td>3.6</td>\n",
       "      <td>0.63</td>\n",
       "      <td>134.0</td>\n",
       "    </tr>\n",
       "  </tbody>\n",
       "</table>\n",
       "</div>"
      ],
      "text/plain": [
       "                                            Positivity Measure(%)  \\\n",
       "Psychology                                                   96.0   \n",
       "Languages and area studies                                   89.8   \n",
       "History and archaeology                                      84.6   \n",
       "Philosophy and religious studies                             83.9   \n",
       "Business and management                                      82.7   \n",
       "Sociology, social policy and anthropology                    82.6   \n",
       "Law                                                          82.3   \n",
       "Politics                                                     79.3   \n",
       "Economics                                                    75.7   \n",
       "Geography, earth and environmental studies                   75.3   \n",
       "Mathematical sciences                                        69.3   \n",
       "\n",
       "                                            Standard Deviation  \\\n",
       "Psychology                                                 6.0   \n",
       "Languages and area studies                                12.9   \n",
       "History and archaeology                                    3.7   \n",
       "Philosophy and religious studies                           6.0   \n",
       "Business and management                                    2.6   \n",
       "Sociology, social policy and anthropology                  3.5   \n",
       "Law                                                        3.5   \n",
       "Politics                                                   3.0   \n",
       "Economics                                                  2.4   \n",
       "Geography, earth and environmental studies                 5.5   \n",
       "Mathematical sciences                                      3.6   \n",
       "\n",
       "                                            Response Ratio  \\\n",
       "Psychology                                            1.00   \n",
       "Languages and area studies                            0.77   \n",
       "History and archaeology                               0.74   \n",
       "Philosophy and religious studies                      0.68   \n",
       "Business and management                               0.66   \n",
       "Sociology, social policy and anthropology             0.71   \n",
       "Law                                                   0.59   \n",
       "Politics                                              0.73   \n",
       "Economics                                             0.65   \n",
       "Geography, earth and environmental studies            0.70   \n",
       "Mathematical sciences                                 0.63   \n",
       "\n",
       "                                            Number of Respondents  \n",
       "Psychology                                                   30.0  \n",
       "Languages and area studies                                    7.0  \n",
       "History and archaeology                                      97.0  \n",
       "Philosophy and religious studies                             36.0  \n",
       "Business and management                                     210.0  \n",
       "Sociology, social policy and anthropology                   117.0  \n",
       "Law                                                         118.0  \n",
       "Politics                                                    173.0  \n",
       "Economics                                                   297.0  \n",
       "Geography, earth and environmental studies                   51.0  \n",
       "Mathematical sciences                                       134.0  "
      ]
     },
     "execution_count": 19,
     "metadata": {},
     "output_type": "execute_result"
    }
   ],
   "source": [
    "learn_df=pd.DataFrame(learn_dict)\n",
    "print('Student Views on Learning Opportunities by Subject')\n",
    "learn_df=learn_df.transpose()\n",
    "learn_df.sort_values(by='Positivity Measure(%)', ascending=False)"
   ]
  },
  {
   "cell_type": "code",
   "execution_count": 20,
   "metadata": {},
   "outputs": [
    {
     "name": "stdout",
     "output_type": "stream",
     "text": [
      "Student Views on Assessment Quality by Subject\n"
     ]
    },
    {
     "data": {
      "text/html": [
       "<div>\n",
       "<style scoped>\n",
       "    .dataframe tbody tr th:only-of-type {\n",
       "        vertical-align: middle;\n",
       "    }\n",
       "\n",
       "    .dataframe tbody tr th {\n",
       "        vertical-align: top;\n",
       "    }\n",
       "\n",
       "    .dataframe thead th {\n",
       "        text-align: right;\n",
       "    }\n",
       "</style>\n",
       "<table border=\"1\" class=\"dataframe\">\n",
       "  <thead>\n",
       "    <tr style=\"text-align: right;\">\n",
       "      <th></th>\n",
       "      <th>Positivity Measure(%)</th>\n",
       "      <th>Standard Deviation</th>\n",
       "      <th>Response Ratio</th>\n",
       "      <th>Number of Respondents</th>\n",
       "    </tr>\n",
       "  </thead>\n",
       "  <tbody>\n",
       "    <tr>\n",
       "      <th>Languages and area studies</th>\n",
       "      <td>92.4</td>\n",
       "      <td>13.1</td>\n",
       "      <td>0.77</td>\n",
       "      <td>7.0</td>\n",
       "    </tr>\n",
       "    <tr>\n",
       "      <th>Psychology</th>\n",
       "      <td>89.3</td>\n",
       "      <td>6.9</td>\n",
       "      <td>1.00</td>\n",
       "      <td>30.0</td>\n",
       "    </tr>\n",
       "    <tr>\n",
       "      <th>Law</th>\n",
       "      <td>79.5</td>\n",
       "      <td>3.8</td>\n",
       "      <td>0.59</td>\n",
       "      <td>118.0</td>\n",
       "    </tr>\n",
       "    <tr>\n",
       "      <th>Philosophy and religious studies</th>\n",
       "      <td>79.1</td>\n",
       "      <td>6.5</td>\n",
       "      <td>0.68</td>\n",
       "      <td>36.0</td>\n",
       "    </tr>\n",
       "    <tr>\n",
       "      <th>History and archaeology</th>\n",
       "      <td>78.1</td>\n",
       "      <td>4.0</td>\n",
       "      <td>0.74</td>\n",
       "      <td>97.0</td>\n",
       "    </tr>\n",
       "    <tr>\n",
       "      <th>Sociology, social policy and anthropology</th>\n",
       "      <td>77.5</td>\n",
       "      <td>3.7</td>\n",
       "      <td>0.71</td>\n",
       "      <td>117.0</td>\n",
       "    </tr>\n",
       "    <tr>\n",
       "      <th>Business and management</th>\n",
       "      <td>70.3</td>\n",
       "      <td>2.9</td>\n",
       "      <td>0.66</td>\n",
       "      <td>210.0</td>\n",
       "    </tr>\n",
       "    <tr>\n",
       "      <th>Politics</th>\n",
       "      <td>69.2</td>\n",
       "      <td>3.3</td>\n",
       "      <td>0.73</td>\n",
       "      <td>173.0</td>\n",
       "    </tr>\n",
       "    <tr>\n",
       "      <th>Economics</th>\n",
       "      <td>68.2</td>\n",
       "      <td>2.6</td>\n",
       "      <td>0.65</td>\n",
       "      <td>297.0</td>\n",
       "    </tr>\n",
       "    <tr>\n",
       "      <th>Geography, earth and environmental studies</th>\n",
       "      <td>64.3</td>\n",
       "      <td>6.2</td>\n",
       "      <td>0.70</td>\n",
       "      <td>51.0</td>\n",
       "    </tr>\n",
       "    <tr>\n",
       "      <th>Mathematical sciences</th>\n",
       "      <td>58.6</td>\n",
       "      <td>3.9</td>\n",
       "      <td>0.63</td>\n",
       "      <td>134.0</td>\n",
       "    </tr>\n",
       "  </tbody>\n",
       "</table>\n",
       "</div>"
      ],
      "text/plain": [
       "                                            Positivity Measure(%)  \\\n",
       "Languages and area studies                                   92.4   \n",
       "Psychology                                                   89.3   \n",
       "Law                                                          79.5   \n",
       "Philosophy and religious studies                             79.1   \n",
       "History and archaeology                                      78.1   \n",
       "Sociology, social policy and anthropology                    77.5   \n",
       "Business and management                                      70.3   \n",
       "Politics                                                     69.2   \n",
       "Economics                                                    68.2   \n",
       "Geography, earth and environmental studies                   64.3   \n",
       "Mathematical sciences                                        58.6   \n",
       "\n",
       "                                            Standard Deviation  \\\n",
       "Languages and area studies                                13.1   \n",
       "Psychology                                                 6.9   \n",
       "Law                                                        3.8   \n",
       "Philosophy and religious studies                           6.5   \n",
       "History and archaeology                                    4.0   \n",
       "Sociology, social policy and anthropology                  3.7   \n",
       "Business and management                                    2.9   \n",
       "Politics                                                   3.3   \n",
       "Economics                                                  2.6   \n",
       "Geography, earth and environmental studies                 6.2   \n",
       "Mathematical sciences                                      3.9   \n",
       "\n",
       "                                            Response Ratio  \\\n",
       "Languages and area studies                            0.77   \n",
       "Psychology                                            1.00   \n",
       "Law                                                   0.59   \n",
       "Philosophy and religious studies                      0.68   \n",
       "History and archaeology                               0.74   \n",
       "Sociology, social policy and anthropology             0.71   \n",
       "Business and management                               0.66   \n",
       "Politics                                              0.73   \n",
       "Economics                                             0.65   \n",
       "Geography, earth and environmental studies            0.70   \n",
       "Mathematical sciences                                 0.63   \n",
       "\n",
       "                                            Number of Respondents  \n",
       "Languages and area studies                                    7.0  \n",
       "Psychology                                                   30.0  \n",
       "Law                                                         118.0  \n",
       "Philosophy and religious studies                             36.0  \n",
       "History and archaeology                                      97.0  \n",
       "Sociology, social policy and anthropology                   117.0  \n",
       "Business and management                                     210.0  \n",
       "Politics                                                    173.0  \n",
       "Economics                                                   297.0  \n",
       "Geography, earth and environmental studies                   51.0  \n",
       "Mathematical sciences                                       134.0  "
      ]
     },
     "execution_count": 20,
     "metadata": {},
     "output_type": "execute_result"
    }
   ],
   "source": [
    "print('Student Views on Assessment Quality by Subject')\n",
    "assess_df=pd.DataFrame(assess_dict)\n",
    "assess_df=assess_df.transpose()\n",
    "assess_df.sort_values(by='Positivity Measure(%)', ascending=False)"
   ]
  },
  {
   "cell_type": "code",
   "execution_count": 21,
   "metadata": {},
   "outputs": [
    {
     "name": "stdout",
     "output_type": "stream",
     "text": [
      "Student Views on Academic Support Quality by Subject\n"
     ]
    },
    {
     "data": {
      "text/html": [
       "<div>\n",
       "<style scoped>\n",
       "    .dataframe tbody tr th:only-of-type {\n",
       "        vertical-align: middle;\n",
       "    }\n",
       "\n",
       "    .dataframe tbody tr th {\n",
       "        vertical-align: top;\n",
       "    }\n",
       "\n",
       "    .dataframe thead th {\n",
       "        text-align: right;\n",
       "    }\n",
       "</style>\n",
       "<table border=\"1\" class=\"dataframe\">\n",
       "  <thead>\n",
       "    <tr style=\"text-align: right;\">\n",
       "      <th></th>\n",
       "      <th>Positivity Measure(%)</th>\n",
       "      <th>Standard Deviation</th>\n",
       "      <th>Response Ratio</th>\n",
       "      <th>Number of Respondents</th>\n",
       "    </tr>\n",
       "  </thead>\n",
       "  <tbody>\n",
       "    <tr>\n",
       "      <th>Psychology</th>\n",
       "      <td>100.0</td>\n",
       "      <td>5.3</td>\n",
       "      <td>1.00</td>\n",
       "      <td>30.0</td>\n",
       "    </tr>\n",
       "    <tr>\n",
       "      <th>Languages and area studies</th>\n",
       "      <td>100.0</td>\n",
       "      <td>8.4</td>\n",
       "      <td>0.77</td>\n",
       "      <td>7.0</td>\n",
       "    </tr>\n",
       "    <tr>\n",
       "      <th>Philosophy and religious studies</th>\n",
       "      <td>93.1</td>\n",
       "      <td>4.7</td>\n",
       "      <td>0.68</td>\n",
       "      <td>36.0</td>\n",
       "    </tr>\n",
       "    <tr>\n",
       "      <th>History and archaeology</th>\n",
       "      <td>91.2</td>\n",
       "      <td>2.9</td>\n",
       "      <td>0.74</td>\n",
       "      <td>97.0</td>\n",
       "    </tr>\n",
       "    <tr>\n",
       "      <th>Law</th>\n",
       "      <td>90.0</td>\n",
       "      <td>3.1</td>\n",
       "      <td>0.59</td>\n",
       "      <td>118.0</td>\n",
       "    </tr>\n",
       "    <tr>\n",
       "      <th>Sociology, social policy and anthropology</th>\n",
       "      <td>89.8</td>\n",
       "      <td>3.2</td>\n",
       "      <td>0.71</td>\n",
       "      <td>117.0</td>\n",
       "    </tr>\n",
       "    <tr>\n",
       "      <th>Business and management</th>\n",
       "      <td>88.0</td>\n",
       "      <td>2.3</td>\n",
       "      <td>0.66</td>\n",
       "      <td>210.0</td>\n",
       "    </tr>\n",
       "    <tr>\n",
       "      <th>Politics</th>\n",
       "      <td>87.9</td>\n",
       "      <td>2.5</td>\n",
       "      <td>0.73</td>\n",
       "      <td>173.0</td>\n",
       "    </tr>\n",
       "    <tr>\n",
       "      <th>Economics</th>\n",
       "      <td>86.5</td>\n",
       "      <td>2.0</td>\n",
       "      <td>0.65</td>\n",
       "      <td>297.0</td>\n",
       "    </tr>\n",
       "    <tr>\n",
       "      <th>Geography, earth and environmental studies</th>\n",
       "      <td>82.8</td>\n",
       "      <td>4.9</td>\n",
       "      <td>0.70</td>\n",
       "      <td>51.0</td>\n",
       "    </tr>\n",
       "    <tr>\n",
       "      <th>Mathematical sciences</th>\n",
       "      <td>76.9</td>\n",
       "      <td>3.2</td>\n",
       "      <td>0.63</td>\n",
       "      <td>134.0</td>\n",
       "    </tr>\n",
       "  </tbody>\n",
       "</table>\n",
       "</div>"
      ],
      "text/plain": [
       "                                            Positivity Measure(%)  \\\n",
       "Psychology                                                  100.0   \n",
       "Languages and area studies                                  100.0   \n",
       "Philosophy and religious studies                             93.1   \n",
       "History and archaeology                                      91.2   \n",
       "Law                                                          90.0   \n",
       "Sociology, social policy and anthropology                    89.8   \n",
       "Business and management                                      88.0   \n",
       "Politics                                                     87.9   \n",
       "Economics                                                    86.5   \n",
       "Geography, earth and environmental studies                   82.8   \n",
       "Mathematical sciences                                        76.9   \n",
       "\n",
       "                                            Standard Deviation  \\\n",
       "Psychology                                                 5.3   \n",
       "Languages and area studies                                 8.4   \n",
       "Philosophy and religious studies                           4.7   \n",
       "History and archaeology                                    2.9   \n",
       "Law                                                        3.1   \n",
       "Sociology, social policy and anthropology                  3.2   \n",
       "Business and management                                    2.3   \n",
       "Politics                                                   2.5   \n",
       "Economics                                                  2.0   \n",
       "Geography, earth and environmental studies                 4.9   \n",
       "Mathematical sciences                                      3.2   \n",
       "\n",
       "                                            Response Ratio  \\\n",
       "Psychology                                            1.00   \n",
       "Languages and area studies                            0.77   \n",
       "Philosophy and religious studies                      0.68   \n",
       "History and archaeology                               0.74   \n",
       "Law                                                   0.59   \n",
       "Sociology, social policy and anthropology             0.71   \n",
       "Business and management                               0.66   \n",
       "Politics                                              0.73   \n",
       "Economics                                             0.65   \n",
       "Geography, earth and environmental studies            0.70   \n",
       "Mathematical sciences                                 0.63   \n",
       "\n",
       "                                            Number of Respondents  \n",
       "Psychology                                                   30.0  \n",
       "Languages and area studies                                    7.0  \n",
       "Philosophy and religious studies                             36.0  \n",
       "History and archaeology                                      97.0  \n",
       "Law                                                         118.0  \n",
       "Sociology, social policy and anthropology                   117.0  \n",
       "Business and management                                     210.0  \n",
       "Politics                                                    173.0  \n",
       "Economics                                                   297.0  \n",
       "Geography, earth and environmental studies                   51.0  \n",
       "Mathematical sciences                                       134.0  "
      ]
     },
     "execution_count": 21,
     "metadata": {},
     "output_type": "execute_result"
    }
   ],
   "source": [
    "print('Student Views on Academic Support Quality by Subject')\n",
    "support_df=pd.DataFrame(support_dict)\n",
    "support_df=support_df.transpose()\n",
    "support_df.sort_values(by='Positivity Measure(%)', ascending=False)"
   ]
  },
  {
   "cell_type": "code",
   "execution_count": 22,
   "metadata": {},
   "outputs": [
    {
     "name": "stdout",
     "output_type": "stream",
     "text": [
      "Student Views on Course Organisation Quality by Subject\n"
     ]
    },
    {
     "data": {
      "text/html": [
       "<div>\n",
       "<style scoped>\n",
       "    .dataframe tbody tr th:only-of-type {\n",
       "        vertical-align: middle;\n",
       "    }\n",
       "\n",
       "    .dataframe tbody tr th {\n",
       "        vertical-align: top;\n",
       "    }\n",
       "\n",
       "    .dataframe thead th {\n",
       "        text-align: right;\n",
       "    }\n",
       "</style>\n",
       "<table border=\"1\" class=\"dataframe\">\n",
       "  <thead>\n",
       "    <tr style=\"text-align: right;\">\n",
       "      <th></th>\n",
       "      <th>Positivity Measure(%)</th>\n",
       "      <th>Standard Deviation</th>\n",
       "      <th>Response Ratio</th>\n",
       "      <th>Number of Respondents</th>\n",
       "    </tr>\n",
       "  </thead>\n",
       "  <tbody>\n",
       "    <tr>\n",
       "      <th>Psychology</th>\n",
       "      <td>96.7</td>\n",
       "      <td>6.1</td>\n",
       "      <td>1.00</td>\n",
       "      <td>30.0</td>\n",
       "    </tr>\n",
       "    <tr>\n",
       "      <th>Business and management</th>\n",
       "      <td>85.6</td>\n",
       "      <td>2.5</td>\n",
       "      <td>0.66</td>\n",
       "      <td>210.0</td>\n",
       "    </tr>\n",
       "    <tr>\n",
       "      <th>History and archaeology</th>\n",
       "      <td>85.6</td>\n",
       "      <td>3.8</td>\n",
       "      <td>0.74</td>\n",
       "      <td>97.0</td>\n",
       "    </tr>\n",
       "    <tr>\n",
       "      <th>Languages and area studies</th>\n",
       "      <td>84.5</td>\n",
       "      <td>14.8</td>\n",
       "      <td>0.77</td>\n",
       "      <td>7.0</td>\n",
       "    </tr>\n",
       "    <tr>\n",
       "      <th>Philosophy and religious studies</th>\n",
       "      <td>83.8</td>\n",
       "      <td>6.2</td>\n",
       "      <td>0.68</td>\n",
       "      <td>36.0</td>\n",
       "    </tr>\n",
       "    <tr>\n",
       "      <th>Economics</th>\n",
       "      <td>81.9</td>\n",
       "      <td>2.2</td>\n",
       "      <td>0.65</td>\n",
       "      <td>297.0</td>\n",
       "    </tr>\n",
       "    <tr>\n",
       "      <th>Sociology, social policy and anthropology</th>\n",
       "      <td>80.9</td>\n",
       "      <td>3.8</td>\n",
       "      <td>0.71</td>\n",
       "      <td>117.0</td>\n",
       "    </tr>\n",
       "    <tr>\n",
       "      <th>Politics</th>\n",
       "      <td>78.2</td>\n",
       "      <td>3.1</td>\n",
       "      <td>0.73</td>\n",
       "      <td>173.0</td>\n",
       "    </tr>\n",
       "    <tr>\n",
       "      <th>Law</th>\n",
       "      <td>76.7</td>\n",
       "      <td>3.8</td>\n",
       "      <td>0.59</td>\n",
       "      <td>118.0</td>\n",
       "    </tr>\n",
       "    <tr>\n",
       "      <th>Geography, earth and environmental studies</th>\n",
       "      <td>74.7</td>\n",
       "      <td>5.7</td>\n",
       "      <td>0.70</td>\n",
       "      <td>51.0</td>\n",
       "    </tr>\n",
       "    <tr>\n",
       "      <th>Mathematical sciences</th>\n",
       "      <td>70.8</td>\n",
       "      <td>3.5</td>\n",
       "      <td>0.63</td>\n",
       "      <td>134.0</td>\n",
       "    </tr>\n",
       "  </tbody>\n",
       "</table>\n",
       "</div>"
      ],
      "text/plain": [
       "                                            Positivity Measure(%)  \\\n",
       "Psychology                                                   96.7   \n",
       "Business and management                                      85.6   \n",
       "History and archaeology                                      85.6   \n",
       "Languages and area studies                                   84.5   \n",
       "Philosophy and religious studies                             83.8   \n",
       "Economics                                                    81.9   \n",
       "Sociology, social policy and anthropology                    80.9   \n",
       "Politics                                                     78.2   \n",
       "Law                                                          76.7   \n",
       "Geography, earth and environmental studies                   74.7   \n",
       "Mathematical sciences                                        70.8   \n",
       "\n",
       "                                            Standard Deviation  \\\n",
       "Psychology                                                 6.1   \n",
       "Business and management                                    2.5   \n",
       "History and archaeology                                    3.8   \n",
       "Languages and area studies                                14.8   \n",
       "Philosophy and religious studies                           6.2   \n",
       "Economics                                                  2.2   \n",
       "Sociology, social policy and anthropology                  3.8   \n",
       "Politics                                                   3.1   \n",
       "Law                                                        3.8   \n",
       "Geography, earth and environmental studies                 5.7   \n",
       "Mathematical sciences                                      3.5   \n",
       "\n",
       "                                            Response Ratio  \\\n",
       "Psychology                                            1.00   \n",
       "Business and management                               0.66   \n",
       "History and archaeology                               0.74   \n",
       "Languages and area studies                            0.77   \n",
       "Philosophy and religious studies                      0.68   \n",
       "Economics                                             0.65   \n",
       "Sociology, social policy and anthropology             0.71   \n",
       "Politics                                              0.73   \n",
       "Law                                                   0.59   \n",
       "Geography, earth and environmental studies            0.70   \n",
       "Mathematical sciences                                 0.63   \n",
       "\n",
       "                                            Number of Respondents  \n",
       "Psychology                                                   30.0  \n",
       "Business and management                                     210.0  \n",
       "History and archaeology                                      97.0  \n",
       "Languages and area studies                                    7.0  \n",
       "Philosophy and religious studies                             36.0  \n",
       "Economics                                                   297.0  \n",
       "Sociology, social policy and anthropology                   117.0  \n",
       "Politics                                                    173.0  \n",
       "Law                                                         118.0  \n",
       "Geography, earth and environmental studies                   51.0  \n",
       "Mathematical sciences                                       134.0  "
      ]
     },
     "execution_count": 22,
     "metadata": {},
     "output_type": "execute_result"
    }
   ],
   "source": [
    "print('Student Views on Course Organisation Quality by Subject')\n",
    "organisation_df=pd.DataFrame(organisation_dict)\n",
    "organisation_df=organisation_df.transpose()\n",
    "organisation_df.sort_values(by='Positivity Measure(%)', ascending=False)"
   ]
  },
  {
   "cell_type": "code",
   "execution_count": 23,
   "metadata": {},
   "outputs": [
    {
     "name": "stdout",
     "output_type": "stream",
     "text": [
      "Student Views on Resources by Subject\n"
     ]
    },
    {
     "data": {
      "text/html": [
       "<div>\n",
       "<style scoped>\n",
       "    .dataframe tbody tr th:only-of-type {\n",
       "        vertical-align: middle;\n",
       "    }\n",
       "\n",
       "    .dataframe tbody tr th {\n",
       "        vertical-align: top;\n",
       "    }\n",
       "\n",
       "    .dataframe thead th {\n",
       "        text-align: right;\n",
       "    }\n",
       "</style>\n",
       "<table border=\"1\" class=\"dataframe\">\n",
       "  <thead>\n",
       "    <tr style=\"text-align: right;\">\n",
       "      <th></th>\n",
       "      <th>Positivity Measure(%)</th>\n",
       "      <th>Standard Deviation</th>\n",
       "      <th>Response Ratio</th>\n",
       "      <th>Number of Respondents</th>\n",
       "    </tr>\n",
       "  </thead>\n",
       "  <tbody>\n",
       "    <tr>\n",
       "      <th>Psychology</th>\n",
       "      <td>93.9</td>\n",
       "      <td>5.2</td>\n",
       "      <td>1.00</td>\n",
       "      <td>30.0</td>\n",
       "    </tr>\n",
       "    <tr>\n",
       "      <th>Sociology, social policy and anthropology</th>\n",
       "      <td>89.8</td>\n",
       "      <td>2.9</td>\n",
       "      <td>0.71</td>\n",
       "      <td>117.0</td>\n",
       "    </tr>\n",
       "    <tr>\n",
       "      <th>History and archaeology</th>\n",
       "      <td>88.5</td>\n",
       "      <td>3.1</td>\n",
       "      <td>0.74</td>\n",
       "      <td>97.0</td>\n",
       "    </tr>\n",
       "    <tr>\n",
       "      <th>Politics</th>\n",
       "      <td>88.4</td>\n",
       "      <td>2.4</td>\n",
       "      <td>0.73</td>\n",
       "      <td>173.0</td>\n",
       "    </tr>\n",
       "    <tr>\n",
       "      <th>Philosophy and religious studies</th>\n",
       "      <td>88.3</td>\n",
       "      <td>5.2</td>\n",
       "      <td>0.68</td>\n",
       "      <td>36.0</td>\n",
       "    </tr>\n",
       "    <tr>\n",
       "      <th>Law</th>\n",
       "      <td>87.7</td>\n",
       "      <td>3.0</td>\n",
       "      <td>0.59</td>\n",
       "      <td>117.0</td>\n",
       "    </tr>\n",
       "    <tr>\n",
       "      <th>Business and management</th>\n",
       "      <td>86.8</td>\n",
       "      <td>2.3</td>\n",
       "      <td>0.66</td>\n",
       "      <td>209.0</td>\n",
       "    </tr>\n",
       "    <tr>\n",
       "      <th>Languages and area studies</th>\n",
       "      <td>86.0</td>\n",
       "      <td>12.2</td>\n",
       "      <td>0.77</td>\n",
       "      <td>7.0</td>\n",
       "    </tr>\n",
       "    <tr>\n",
       "      <th>Economics</th>\n",
       "      <td>85.4</td>\n",
       "      <td>1.9</td>\n",
       "      <td>0.65</td>\n",
       "      <td>294.0</td>\n",
       "    </tr>\n",
       "    <tr>\n",
       "      <th>Mathematical sciences</th>\n",
       "      <td>84.6</td>\n",
       "      <td>2.8</td>\n",
       "      <td>0.63</td>\n",
       "      <td>133.0</td>\n",
       "    </tr>\n",
       "    <tr>\n",
       "      <th>Geography, earth and environmental studies</th>\n",
       "      <td>84.5</td>\n",
       "      <td>4.6</td>\n",
       "      <td>0.70</td>\n",
       "      <td>51.0</td>\n",
       "    </tr>\n",
       "  </tbody>\n",
       "</table>\n",
       "</div>"
      ],
      "text/plain": [
       "                                            Positivity Measure(%)  \\\n",
       "Psychology                                                   93.9   \n",
       "Sociology, social policy and anthropology                    89.8   \n",
       "History and archaeology                                      88.5   \n",
       "Politics                                                     88.4   \n",
       "Philosophy and religious studies                             88.3   \n",
       "Law                                                          87.7   \n",
       "Business and management                                      86.8   \n",
       "Languages and area studies                                   86.0   \n",
       "Economics                                                    85.4   \n",
       "Mathematical sciences                                        84.6   \n",
       "Geography, earth and environmental studies                   84.5   \n",
       "\n",
       "                                            Standard Deviation  \\\n",
       "Psychology                                                 5.2   \n",
       "Sociology, social policy and anthropology                  2.9   \n",
       "History and archaeology                                    3.1   \n",
       "Politics                                                   2.4   \n",
       "Philosophy and religious studies                           5.2   \n",
       "Law                                                        3.0   \n",
       "Business and management                                    2.3   \n",
       "Languages and area studies                                12.2   \n",
       "Economics                                                  1.9   \n",
       "Mathematical sciences                                      2.8   \n",
       "Geography, earth and environmental studies                 4.6   \n",
       "\n",
       "                                            Response Ratio  \\\n",
       "Psychology                                            1.00   \n",
       "Sociology, social policy and anthropology             0.71   \n",
       "History and archaeology                               0.74   \n",
       "Politics                                              0.73   \n",
       "Philosophy and religious studies                      0.68   \n",
       "Law                                                   0.59   \n",
       "Business and management                               0.66   \n",
       "Languages and area studies                            0.77   \n",
       "Economics                                             0.65   \n",
       "Mathematical sciences                                 0.63   \n",
       "Geography, earth and environmental studies            0.70   \n",
       "\n",
       "                                            Number of Respondents  \n",
       "Psychology                                                   30.0  \n",
       "Sociology, social policy and anthropology                   117.0  \n",
       "History and archaeology                                      97.0  \n",
       "Politics                                                    173.0  \n",
       "Philosophy and religious studies                             36.0  \n",
       "Law                                                         117.0  \n",
       "Business and management                                     209.0  \n",
       "Languages and area studies                                    7.0  \n",
       "Economics                                                   294.0  \n",
       "Mathematical sciences                                       133.0  \n",
       "Geography, earth and environmental studies                   51.0  "
      ]
     },
     "execution_count": 23,
     "metadata": {},
     "output_type": "execute_result"
    }
   ],
   "source": [
    "print('Student Views on Resources by Subject')\n",
    "resource_df=pd.DataFrame(resource_dict)\n",
    "resource_df=resource_df.transpose()\n",
    "resource_df.sort_values(by='Positivity Measure(%)', ascending=False)"
   ]
  },
  {
   "cell_type": "code",
   "execution_count": 24,
   "metadata": {},
   "outputs": [
    {
     "name": "stdout",
     "output_type": "stream",
     "text": [
      "Student Views on Student Voice by Subject\n"
     ]
    },
    {
     "data": {
      "text/html": [
       "<div>\n",
       "<style scoped>\n",
       "    .dataframe tbody tr th:only-of-type {\n",
       "        vertical-align: middle;\n",
       "    }\n",
       "\n",
       "    .dataframe tbody tr th {\n",
       "        vertical-align: top;\n",
       "    }\n",
       "\n",
       "    .dataframe thead th {\n",
       "        text-align: right;\n",
       "    }\n",
       "</style>\n",
       "<table border=\"1\" class=\"dataframe\">\n",
       "  <thead>\n",
       "    <tr style=\"text-align: right;\">\n",
       "      <th></th>\n",
       "      <th>Positivity Measure(%)</th>\n",
       "      <th>Standard Deviation</th>\n",
       "      <th>Response Ratio</th>\n",
       "      <th>Number of Respondents</th>\n",
       "    </tr>\n",
       "  </thead>\n",
       "  <tbody>\n",
       "    <tr>\n",
       "      <th>Psychology</th>\n",
       "      <td>100.0</td>\n",
       "      <td>6.2</td>\n",
       "      <td>1.00</td>\n",
       "      <td>30.0</td>\n",
       "    </tr>\n",
       "    <tr>\n",
       "      <th>Languages and area studies</th>\n",
       "      <td>75.6</td>\n",
       "      <td>15.8</td>\n",
       "      <td>0.77</td>\n",
       "      <td>7.0</td>\n",
       "    </tr>\n",
       "    <tr>\n",
       "      <th>Philosophy and religious studies</th>\n",
       "      <td>73.8</td>\n",
       "      <td>7.1</td>\n",
       "      <td>0.68</td>\n",
       "      <td>36.0</td>\n",
       "    </tr>\n",
       "    <tr>\n",
       "      <th>Sociology, social policy and anthropology</th>\n",
       "      <td>72.9</td>\n",
       "      <td>4.1</td>\n",
       "      <td>0.71</td>\n",
       "      <td>117.0</td>\n",
       "    </tr>\n",
       "    <tr>\n",
       "      <th>History and archaeology</th>\n",
       "      <td>71.4</td>\n",
       "      <td>4.4</td>\n",
       "      <td>0.74</td>\n",
       "      <td>96.0</td>\n",
       "    </tr>\n",
       "    <tr>\n",
       "      <th>Business and management</th>\n",
       "      <td>69.6</td>\n",
       "      <td>3.0</td>\n",
       "      <td>0.66</td>\n",
       "      <td>209.0</td>\n",
       "    </tr>\n",
       "    <tr>\n",
       "      <th>Law</th>\n",
       "      <td>67.5</td>\n",
       "      <td>4.2</td>\n",
       "      <td>0.59</td>\n",
       "      <td>117.0</td>\n",
       "    </tr>\n",
       "    <tr>\n",
       "      <th>Economics</th>\n",
       "      <td>64.4</td>\n",
       "      <td>2.6</td>\n",
       "      <td>0.65</td>\n",
       "      <td>294.0</td>\n",
       "    </tr>\n",
       "    <tr>\n",
       "      <th>Politics</th>\n",
       "      <td>63.6</td>\n",
       "      <td>3.5</td>\n",
       "      <td>0.73</td>\n",
       "      <td>171.0</td>\n",
       "    </tr>\n",
       "    <tr>\n",
       "      <th>Mathematical sciences</th>\n",
       "      <td>59.6</td>\n",
       "      <td>3.9</td>\n",
       "      <td>0.63</td>\n",
       "      <td>134.0</td>\n",
       "    </tr>\n",
       "    <tr>\n",
       "      <th>Geography, earth and environmental studies</th>\n",
       "      <td>58.9</td>\n",
       "      <td>6.3</td>\n",
       "      <td>0.70</td>\n",
       "      <td>51.0</td>\n",
       "    </tr>\n",
       "  </tbody>\n",
       "</table>\n",
       "</div>"
      ],
      "text/plain": [
       "                                            Positivity Measure(%)  \\\n",
       "Psychology                                                  100.0   \n",
       "Languages and area studies                                   75.6   \n",
       "Philosophy and religious studies                             73.8   \n",
       "Sociology, social policy and anthropology                    72.9   \n",
       "History and archaeology                                      71.4   \n",
       "Business and management                                      69.6   \n",
       "Law                                                          67.5   \n",
       "Economics                                                    64.4   \n",
       "Politics                                                     63.6   \n",
       "Mathematical sciences                                        59.6   \n",
       "Geography, earth and environmental studies                   58.9   \n",
       "\n",
       "                                            Standard Deviation  \\\n",
       "Psychology                                                 6.2   \n",
       "Languages and area studies                                15.8   \n",
       "Philosophy and religious studies                           7.1   \n",
       "Sociology, social policy and anthropology                  4.1   \n",
       "History and archaeology                                    4.4   \n",
       "Business and management                                    3.0   \n",
       "Law                                                        4.2   \n",
       "Economics                                                  2.6   \n",
       "Politics                                                   3.5   \n",
       "Mathematical sciences                                      3.9   \n",
       "Geography, earth and environmental studies                 6.3   \n",
       "\n",
       "                                            Response Ratio  \\\n",
       "Psychology                                            1.00   \n",
       "Languages and area studies                            0.77   \n",
       "Philosophy and religious studies                      0.68   \n",
       "Sociology, social policy and anthropology             0.71   \n",
       "History and archaeology                               0.74   \n",
       "Business and management                               0.66   \n",
       "Law                                                   0.59   \n",
       "Economics                                             0.65   \n",
       "Politics                                              0.73   \n",
       "Mathematical sciences                                 0.63   \n",
       "Geography, earth and environmental studies            0.70   \n",
       "\n",
       "                                            Number of Respondents  \n",
       "Psychology                                                   30.0  \n",
       "Languages and area studies                                    7.0  \n",
       "Philosophy and religious studies                             36.0  \n",
       "Sociology, social policy and anthropology                   117.0  \n",
       "History and archaeology                                      96.0  \n",
       "Business and management                                     209.0  \n",
       "Law                                                         117.0  \n",
       "Economics                                                   294.0  \n",
       "Politics                                                    171.0  \n",
       "Mathematical sciences                                       134.0  \n",
       "Geography, earth and environmental studies                   51.0  "
      ]
     },
     "execution_count": 24,
     "metadata": {},
     "output_type": "execute_result"
    }
   ],
   "source": [
    "print('Student Views on Student Voice by Subject')\n",
    "voice_df=pd.DataFrame(voice_dict)\n",
    "voice_df=voice_df.transpose()\n",
    "voice_df.sort_values(by='Positivity Measure(%)', ascending=False)"
   ]
  },
  {
   "cell_type": "markdown",
   "metadata": {},
   "source": [
    "Side by side bar chart to visualise 'overall_subjectdf'\n",
    "- Factors that we decided to consider from the above dataframe based on relevance to the question: Teaching, Learning Opportunities, Academic Support, Organisational Management\n",
    "- Each bar also includes data on standard deviation, response ratio and number of respondants for each measure\n"
   ]
  },
  {
   "cell_type": "code",
   "execution_count": null,
   "metadata": {},
   "outputs": [],
   "source": [
    "import plotly.graph_objects as go"
   ]
  },
  {
   "cell_type": "code",
   "execution_count": null,
   "metadata": {},
   "outputs": [],
   "source": [
    "teach_df = teach_df.reset_index()\n",
    "learn_df = learn_df.reset_index()\n",
    "support_df = support_df.reset_index()\n",
    "organisation_df = organisation_df.reset_index()"
   ]
  },
  {
   "cell_type": "code",
   "execution_count": 36,
   "metadata": {},
   "outputs": [
    {
     "data": {
      "application/vnd.plotly.v1+json": {
       "config": {
        "plotlyServerURL": "https://plot.ly"
       },
       "data": [
        {
         "hoverinfo": "text",
         "hovertext": [
          "Standard Deviation: 5.10<br>Response Ratio: 1.00",
          "Standard Deviation: 3.40<br>Response Ratio: 0.63",
          "Standard Deviation: 3.00<br>Response Ratio: 0.71",
          "Standard Deviation: 2.10<br>Response Ratio: 0.65",
          "Standard Deviation: 2.40<br>Response Ratio: 0.73",
          "Standard Deviation: 2.80<br>Response Ratio: 0.59",
          "Standard Deviation: 2.40<br>Response Ratio: 0.66",
          "Standard Deviation: 10.50<br>Response Ratio: 0.77",
          "Standard Deviation: 2.80<br>Response Ratio: 0.74",
          "Standard Deviation: 4.70<br>Response Ratio: 0.68",
          "Standard Deviation: 5.10<br>Response Ratio: 0.70"
         ],
         "name": "Teaching",
         "type": "bar",
         "x": [
          "Psychology",
          "Mathematical sciences",
          "Sociology, social policy and anthropology",
          "Economics",
          "Politics",
          "Law",
          "Business and management",
          "Languages and area studies",
          "History and archaeology",
          "Philosophy and religious studies",
          "Geography, earth and environmental studies"
         ],
         "y": [
          99.2,
          72.8,
          90.1,
          84.1,
          89.2,
          93.3,
          88,
          93.3,
          90.3,
          90.4,
          78.6
         ]
        },
        {
         "hoverinfo": "text",
         "hovertext": [
          "Standard Deviation: 6.00<br>Response Ratio: 1.00",
          "Standard Deviation: 3.60<br>Response Ratio: 0.63",
          "Standard Deviation: 3.50<br>Response Ratio: 0.71",
          "Standard Deviation: 2.40<br>Response Ratio: 0.65",
          "Standard Deviation: 3.00<br>Response Ratio: 0.73",
          "Standard Deviation: 3.50<br>Response Ratio: 0.59",
          "Standard Deviation: 2.60<br>Response Ratio: 0.66",
          "Standard Deviation: 12.90<br>Response Ratio: 0.77",
          "Standard Deviation: 3.70<br>Response Ratio: 0.74",
          "Standard Deviation: 6.00<br>Response Ratio: 0.68",
          "Standard Deviation: 5.50<br>Response Ratio: 0.70"
         ],
         "name": "Learning Opportunities",
         "type": "bar",
         "x": [
          "Psychology",
          "Mathematical sciences",
          "Sociology, social policy and anthropology",
          "Economics",
          "Politics",
          "Law",
          "Business and management",
          "Languages and area studies",
          "History and archaeology",
          "Philosophy and religious studies",
          "Geography, earth and environmental studies"
         ],
         "y": [
          96,
          69.3,
          82.6,
          75.7,
          79.3,
          82.3,
          82.7,
          89.8,
          84.6,
          83.9,
          75.3
         ]
        },
        {
         "hoverinfo": "text",
         "hovertext": [
          "Standard Deviation: 5.30<br>Response Ratio: 1.00",
          "Standard Deviation: 3.20<br>Response Ratio: 0.63",
          "Standard Deviation: 3.20<br>Response Ratio: 0.71",
          "Standard Deviation: 2.00<br>Response Ratio: 0.65",
          "Standard Deviation: 2.50<br>Response Ratio: 0.73",
          "Standard Deviation: 3.10<br>Response Ratio: 0.59",
          "Standard Deviation: 2.30<br>Response Ratio: 0.66",
          "Standard Deviation: 8.40<br>Response Ratio: 0.77",
          "Standard Deviation: 2.90<br>Response Ratio: 0.74",
          "Standard Deviation: 4.70<br>Response Ratio: 0.68",
          "Standard Deviation: 4.90<br>Response Ratio: 0.70"
         ],
         "name": "Academic Support",
         "type": "bar",
         "x": [
          "Psychology",
          "Mathematical sciences",
          "Sociology, social policy and anthropology",
          "Economics",
          "Politics",
          "Law",
          "Business and management",
          "Languages and area studies",
          "History and archaeology",
          "Philosophy and religious studies",
          "Geography, earth and environmental studies"
         ],
         "y": [
          100,
          76.9,
          89.8,
          86.5,
          87.9,
          90,
          88,
          100,
          91.2,
          93.1,
          82.8
         ]
        },
        {
         "hoverinfo": "text",
         "hovertext": [
          "Standard Deviation: 6.10<br>Response Ratio: 1.00",
          "Standard Deviation: 3.50<br>Response Ratio: 0.63",
          "Standard Deviation: 3.80<br>Response Ratio: 0.71",
          "Standard Deviation: 2.20<br>Response Ratio: 0.65",
          "Standard Deviation: 3.10<br>Response Ratio: 0.73",
          "Standard Deviation: 3.80<br>Response Ratio: 0.59",
          "Standard Deviation: 2.50<br>Response Ratio: 0.66",
          "Standard Deviation: 14.80<br>Response Ratio: 0.77",
          "Standard Deviation: 3.80<br>Response Ratio: 0.74",
          "Standard Deviation: 6.20<br>Response Ratio: 0.68",
          "Standard Deviation: 5.70<br>Response Ratio: 0.70"
         ],
         "name": "Organisation and Management",
         "type": "bar",
         "x": [
          "Psychology",
          "Mathematical sciences",
          "Sociology, social policy and anthropology",
          "Economics",
          "Politics",
          "Law",
          "Business and management",
          "Languages and area studies",
          "History and archaeology",
          "Philosophy and religious studies",
          "Geography, earth and environmental studies"
         ],
         "y": [
          96.7,
          70.8,
          80.9,
          81.9,
          78.2,
          76.7,
          85.6,
          84.5,
          85.6,
          83.8,
          74.7
         ]
        }
       ],
       "layout": {
        "barmode": "stack",
        "template": {
         "data": {
          "bar": [
           {
            "error_x": {
             "color": "#2a3f5f"
            },
            "error_y": {
             "color": "#2a3f5f"
            },
            "marker": {
             "line": {
              "color": "#E5ECF6",
              "width": 0.5
             },
             "pattern": {
              "fillmode": "overlay",
              "size": 10,
              "solidity": 0.2
             }
            },
            "type": "bar"
           }
          ],
          "barpolar": [
           {
            "marker": {
             "line": {
              "color": "#E5ECF6",
              "width": 0.5
             },
             "pattern": {
              "fillmode": "overlay",
              "size": 10,
              "solidity": 0.2
             }
            },
            "type": "barpolar"
           }
          ],
          "carpet": [
           {
            "aaxis": {
             "endlinecolor": "#2a3f5f",
             "gridcolor": "white",
             "linecolor": "white",
             "minorgridcolor": "white",
             "startlinecolor": "#2a3f5f"
            },
            "baxis": {
             "endlinecolor": "#2a3f5f",
             "gridcolor": "white",
             "linecolor": "white",
             "minorgridcolor": "white",
             "startlinecolor": "#2a3f5f"
            },
            "type": "carpet"
           }
          ],
          "choropleth": [
           {
            "colorbar": {
             "outlinewidth": 0,
             "ticks": ""
            },
            "type": "choropleth"
           }
          ],
          "contour": [
           {
            "colorbar": {
             "outlinewidth": 0,
             "ticks": ""
            },
            "colorscale": [
             [
              0,
              "#0d0887"
             ],
             [
              0.1111111111111111,
              "#46039f"
             ],
             [
              0.2222222222222222,
              "#7201a8"
             ],
             [
              0.3333333333333333,
              "#9c179e"
             ],
             [
              0.4444444444444444,
              "#bd3786"
             ],
             [
              0.5555555555555556,
              "#d8576b"
             ],
             [
              0.6666666666666666,
              "#ed7953"
             ],
             [
              0.7777777777777778,
              "#fb9f3a"
             ],
             [
              0.8888888888888888,
              "#fdca26"
             ],
             [
              1,
              "#f0f921"
             ]
            ],
            "type": "contour"
           }
          ],
          "contourcarpet": [
           {
            "colorbar": {
             "outlinewidth": 0,
             "ticks": ""
            },
            "type": "contourcarpet"
           }
          ],
          "heatmap": [
           {
            "colorbar": {
             "outlinewidth": 0,
             "ticks": ""
            },
            "colorscale": [
             [
              0,
              "#0d0887"
             ],
             [
              0.1111111111111111,
              "#46039f"
             ],
             [
              0.2222222222222222,
              "#7201a8"
             ],
             [
              0.3333333333333333,
              "#9c179e"
             ],
             [
              0.4444444444444444,
              "#bd3786"
             ],
             [
              0.5555555555555556,
              "#d8576b"
             ],
             [
              0.6666666666666666,
              "#ed7953"
             ],
             [
              0.7777777777777778,
              "#fb9f3a"
             ],
             [
              0.8888888888888888,
              "#fdca26"
             ],
             [
              1,
              "#f0f921"
             ]
            ],
            "type": "heatmap"
           }
          ],
          "heatmapgl": [
           {
            "colorbar": {
             "outlinewidth": 0,
             "ticks": ""
            },
            "colorscale": [
             [
              0,
              "#0d0887"
             ],
             [
              0.1111111111111111,
              "#46039f"
             ],
             [
              0.2222222222222222,
              "#7201a8"
             ],
             [
              0.3333333333333333,
              "#9c179e"
             ],
             [
              0.4444444444444444,
              "#bd3786"
             ],
             [
              0.5555555555555556,
              "#d8576b"
             ],
             [
              0.6666666666666666,
              "#ed7953"
             ],
             [
              0.7777777777777778,
              "#fb9f3a"
             ],
             [
              0.8888888888888888,
              "#fdca26"
             ],
             [
              1,
              "#f0f921"
             ]
            ],
            "type": "heatmapgl"
           }
          ],
          "histogram": [
           {
            "marker": {
             "pattern": {
              "fillmode": "overlay",
              "size": 10,
              "solidity": 0.2
             }
            },
            "type": "histogram"
           }
          ],
          "histogram2d": [
           {
            "colorbar": {
             "outlinewidth": 0,
             "ticks": ""
            },
            "colorscale": [
             [
              0,
              "#0d0887"
             ],
             [
              0.1111111111111111,
              "#46039f"
             ],
             [
              0.2222222222222222,
              "#7201a8"
             ],
             [
              0.3333333333333333,
              "#9c179e"
             ],
             [
              0.4444444444444444,
              "#bd3786"
             ],
             [
              0.5555555555555556,
              "#d8576b"
             ],
             [
              0.6666666666666666,
              "#ed7953"
             ],
             [
              0.7777777777777778,
              "#fb9f3a"
             ],
             [
              0.8888888888888888,
              "#fdca26"
             ],
             [
              1,
              "#f0f921"
             ]
            ],
            "type": "histogram2d"
           }
          ],
          "histogram2dcontour": [
           {
            "colorbar": {
             "outlinewidth": 0,
             "ticks": ""
            },
            "colorscale": [
             [
              0,
              "#0d0887"
             ],
             [
              0.1111111111111111,
              "#46039f"
             ],
             [
              0.2222222222222222,
              "#7201a8"
             ],
             [
              0.3333333333333333,
              "#9c179e"
             ],
             [
              0.4444444444444444,
              "#bd3786"
             ],
             [
              0.5555555555555556,
              "#d8576b"
             ],
             [
              0.6666666666666666,
              "#ed7953"
             ],
             [
              0.7777777777777778,
              "#fb9f3a"
             ],
             [
              0.8888888888888888,
              "#fdca26"
             ],
             [
              1,
              "#f0f921"
             ]
            ],
            "type": "histogram2dcontour"
           }
          ],
          "mesh3d": [
           {
            "colorbar": {
             "outlinewidth": 0,
             "ticks": ""
            },
            "type": "mesh3d"
           }
          ],
          "parcoords": [
           {
            "line": {
             "colorbar": {
              "outlinewidth": 0,
              "ticks": ""
             }
            },
            "type": "parcoords"
           }
          ],
          "pie": [
           {
            "automargin": true,
            "type": "pie"
           }
          ],
          "scatter": [
           {
            "fillpattern": {
             "fillmode": "overlay",
             "size": 10,
             "solidity": 0.2
            },
            "type": "scatter"
           }
          ],
          "scatter3d": [
           {
            "line": {
             "colorbar": {
              "outlinewidth": 0,
              "ticks": ""
             }
            },
            "marker": {
             "colorbar": {
              "outlinewidth": 0,
              "ticks": ""
             }
            },
            "type": "scatter3d"
           }
          ],
          "scattercarpet": [
           {
            "marker": {
             "colorbar": {
              "outlinewidth": 0,
              "ticks": ""
             }
            },
            "type": "scattercarpet"
           }
          ],
          "scattergeo": [
           {
            "marker": {
             "colorbar": {
              "outlinewidth": 0,
              "ticks": ""
             }
            },
            "type": "scattergeo"
           }
          ],
          "scattergl": [
           {
            "marker": {
             "colorbar": {
              "outlinewidth": 0,
              "ticks": ""
             }
            },
            "type": "scattergl"
           }
          ],
          "scattermapbox": [
           {
            "marker": {
             "colorbar": {
              "outlinewidth": 0,
              "ticks": ""
             }
            },
            "type": "scattermapbox"
           }
          ],
          "scatterpolar": [
           {
            "marker": {
             "colorbar": {
              "outlinewidth": 0,
              "ticks": ""
             }
            },
            "type": "scatterpolar"
           }
          ],
          "scatterpolargl": [
           {
            "marker": {
             "colorbar": {
              "outlinewidth": 0,
              "ticks": ""
             }
            },
            "type": "scatterpolargl"
           }
          ],
          "scatterternary": [
           {
            "marker": {
             "colorbar": {
              "outlinewidth": 0,
              "ticks": ""
             }
            },
            "type": "scatterternary"
           }
          ],
          "surface": [
           {
            "colorbar": {
             "outlinewidth": 0,
             "ticks": ""
            },
            "colorscale": [
             [
              0,
              "#0d0887"
             ],
             [
              0.1111111111111111,
              "#46039f"
             ],
             [
              0.2222222222222222,
              "#7201a8"
             ],
             [
              0.3333333333333333,
              "#9c179e"
             ],
             [
              0.4444444444444444,
              "#bd3786"
             ],
             [
              0.5555555555555556,
              "#d8576b"
             ],
             [
              0.6666666666666666,
              "#ed7953"
             ],
             [
              0.7777777777777778,
              "#fb9f3a"
             ],
             [
              0.8888888888888888,
              "#fdca26"
             ],
             [
              1,
              "#f0f921"
             ]
            ],
            "type": "surface"
           }
          ],
          "table": [
           {
            "cells": {
             "fill": {
              "color": "#EBF0F8"
             },
             "line": {
              "color": "white"
             }
            },
            "header": {
             "fill": {
              "color": "#C8D4E3"
             },
             "line": {
              "color": "white"
             }
            },
            "type": "table"
           }
          ]
         },
         "layout": {
          "annotationdefaults": {
           "arrowcolor": "#2a3f5f",
           "arrowhead": 0,
           "arrowwidth": 1
          },
          "autotypenumbers": "strict",
          "coloraxis": {
           "colorbar": {
            "outlinewidth": 0,
            "ticks": ""
           }
          },
          "colorscale": {
           "diverging": [
            [
             0,
             "#8e0152"
            ],
            [
             0.1,
             "#c51b7d"
            ],
            [
             0.2,
             "#de77ae"
            ],
            [
             0.3,
             "#f1b6da"
            ],
            [
             0.4,
             "#fde0ef"
            ],
            [
             0.5,
             "#f7f7f7"
            ],
            [
             0.6,
             "#e6f5d0"
            ],
            [
             0.7,
             "#b8e186"
            ],
            [
             0.8,
             "#7fbc41"
            ],
            [
             0.9,
             "#4d9221"
            ],
            [
             1,
             "#276419"
            ]
           ],
           "sequential": [
            [
             0,
             "#0d0887"
            ],
            [
             0.1111111111111111,
             "#46039f"
            ],
            [
             0.2222222222222222,
             "#7201a8"
            ],
            [
             0.3333333333333333,
             "#9c179e"
            ],
            [
             0.4444444444444444,
             "#bd3786"
            ],
            [
             0.5555555555555556,
             "#d8576b"
            ],
            [
             0.6666666666666666,
             "#ed7953"
            ],
            [
             0.7777777777777778,
             "#fb9f3a"
            ],
            [
             0.8888888888888888,
             "#fdca26"
            ],
            [
             1,
             "#f0f921"
            ]
           ],
           "sequentialminus": [
            [
             0,
             "#0d0887"
            ],
            [
             0.1111111111111111,
             "#46039f"
            ],
            [
             0.2222222222222222,
             "#7201a8"
            ],
            [
             0.3333333333333333,
             "#9c179e"
            ],
            [
             0.4444444444444444,
             "#bd3786"
            ],
            [
             0.5555555555555556,
             "#d8576b"
            ],
            [
             0.6666666666666666,
             "#ed7953"
            ],
            [
             0.7777777777777778,
             "#fb9f3a"
            ],
            [
             0.8888888888888888,
             "#fdca26"
            ],
            [
             1,
             "#f0f921"
            ]
           ]
          },
          "colorway": [
           "#636efa",
           "#EF553B",
           "#00cc96",
           "#ab63fa",
           "#FFA15A",
           "#19d3f3",
           "#FF6692",
           "#B6E880",
           "#FF97FF",
           "#FECB52"
          ],
          "font": {
           "color": "#2a3f5f"
          },
          "geo": {
           "bgcolor": "white",
           "lakecolor": "white",
           "landcolor": "#E5ECF6",
           "showlakes": true,
           "showland": true,
           "subunitcolor": "white"
          },
          "hoverlabel": {
           "align": "left"
          },
          "hovermode": "closest",
          "mapbox": {
           "style": "light"
          },
          "paper_bgcolor": "white",
          "plot_bgcolor": "#E5ECF6",
          "polar": {
           "angularaxis": {
            "gridcolor": "white",
            "linecolor": "white",
            "ticks": ""
           },
           "bgcolor": "#E5ECF6",
           "radialaxis": {
            "gridcolor": "white",
            "linecolor": "white",
            "ticks": ""
           }
          },
          "scene": {
           "xaxis": {
            "backgroundcolor": "#E5ECF6",
            "gridcolor": "white",
            "gridwidth": 2,
            "linecolor": "white",
            "showbackground": true,
            "ticks": "",
            "zerolinecolor": "white"
           },
           "yaxis": {
            "backgroundcolor": "#E5ECF6",
            "gridcolor": "white",
            "gridwidth": 2,
            "linecolor": "white",
            "showbackground": true,
            "ticks": "",
            "zerolinecolor": "white"
           },
           "zaxis": {
            "backgroundcolor": "#E5ECF6",
            "gridcolor": "white",
            "gridwidth": 2,
            "linecolor": "white",
            "showbackground": true,
            "ticks": "",
            "zerolinecolor": "white"
           }
          },
          "shapedefaults": {
           "line": {
            "color": "#2a3f5f"
           }
          },
          "ternary": {
           "aaxis": {
            "gridcolor": "white",
            "linecolor": "white",
            "ticks": ""
           },
           "baxis": {
            "gridcolor": "white",
            "linecolor": "white",
            "ticks": ""
           },
           "bgcolor": "#E5ECF6",
           "caxis": {
            "gridcolor": "white",
            "linecolor": "white",
            "ticks": ""
           }
          },
          "title": {
           "x": 0.05
          },
          "xaxis": {
           "automargin": true,
           "gridcolor": "white",
           "linecolor": "white",
           "ticks": "",
           "title": {
            "standoff": 15
           },
           "zerolinecolor": "white",
           "zerolinewidth": 2
          },
          "yaxis": {
           "automargin": true,
           "gridcolor": "white",
           "linecolor": "white",
           "ticks": "",
           "title": {
            "standoff": 15
           },
           "zerolinecolor": "white",
           "zerolinewidth": 2
          }
         }
        },
        "title": {
         "text": "Student satisfaction at LSE by degree subject"
        },
        "xaxis": {
         "title": {
          "text": "Subject"
         }
        },
        "yaxis": {
         "title": {
          "text": "Score, 0-100 per measure"
         }
        }
       }
      }
     },
     "metadata": {},
     "output_type": "display_data"
    }
   ],
   "source": [
    "merged_df = overall_subjectdf.copy()\n",
    "merged_df = merged_df.reset_index()\n",
    "\n",
    "#merge the standard deviation in individual data frames to overall_subject.df on Subject 'index'\n",
    "merged_df = merged_df.merge(teach_df[['index', 'Standard Deviation']],on='index',how='left',).rename(columns={'Standard Deviation': 'Teaching Std Dev'})\n",
    "merged_df = merged_df.merge(learn_df[['index', 'Standard Deviation']],on='index',how='left',).rename(columns={'Standard Deviation': 'Learning Std Dev'})\n",
    "merged_df = merged_df.merge(support_df[['index', 'Standard Deviation']],on='index',how='left',).rename(columns={'Standard Deviation': 'Support Std Dev'})\n",
    "merged_df = merged_df.merge(organisation_df[['index', 'Standard Deviation']],on='index',how='left',).rename(columns={'Standard Deviation': 'Organisation Std Dev'})\n",
    "\n",
    "#create hover text for standard deviation and response ratio\n",
    "merged_df['Teaching_hovertext'] = merged_df.apply(lambda row: f'Standard Deviation: {row[\"Teaching Std Dev\"]:.2f}<br>'f'Response Ratio: {row[\"Response Ratio\"]:.2f}',axis=1)\n",
    "merged_df['Learning_hovertext'] = merged_df.apply(lambda row: f'Standard Deviation: {row[\"Learning Std Dev\"]:.2f}<br>'f'Response Ratio: {row[\"Response Ratio\"]:.2f}',axis=1)\n",
    "merged_df['Support_hovertext'] = merged_df.apply(lambda row: f'Standard Deviation: {row[\"Support Std Dev\"]:.2f}<br>'f'Response Ratio: {row[\"Response Ratio\"]:.2f}',axis=1)\n",
    "merged_df['Organisation_hovertext'] = merged_df.apply(lambda row: f'Standard Deviation: {row[\"Organisation Std Dev\"]:.2f}<br>'f'Response Ratio: {row[\"Response Ratio\"]:.2f}',axis=1)\n",
    "\n",
    "#create the figure\n",
    "fig = go.Figure()\n",
    "\n",
    "#add bar traces for each measure\n",
    "fig.add_trace(go.Bar(x=merged_df['index'],y=merged_df['Teaching'],name='Teaching',hovertext=merged_df['Teaching_hovertext'],hoverinfo='text',))\n",
    "fig.add_trace(go.Bar(x=merged_df['index'],y=merged_df['Learning Opportunities'],name='Learning Opportunities',hovertext=merged_df['Learning_hovertext'],hoverinfo='text',))\n",
    "fig.add_trace(go.Bar(x=merged_df['index'],y=merged_df['Academic Support'],name='Academic Support',hovertext=merged_df['Support_hovertext'],hoverinfo='text'))\n",
    "fig.add_trace(go.Bar(x=merged_df['index'],y=merged_df['Organisation and Management'],name='Organisation and Management',hovertext=merged_df['Organisation_hovertext'],hoverinfo='text',))\n",
    "\n",
    "#update the layout\n",
    "fig.update_layout(\n",
    "    barmode='stack',\n",
    "    title='Student satisfaction at LSE by degree subject',\n",
    "    xaxis_title='Subject',\n",
    "    yaxis_title='Score, 0-100 per measure',\n",
    ")\n",
    "\n",
    "#show the figure\n",
    "fig.show()"
   ]
  },
  {
   "cell_type": "markdown",
   "metadata": {},
   "source": [
    "The tables surprised us, as we did not expect the Positivity across subjects to vary so much. In particular, it seemed at a first glance, that humanities students seemed more satisfied in general than more quantitative degrees( though Geography was an exception, Mathematical sciences nearly got last place every time.) So we grouped subjects we felt were humanities against the more quantitative subjects. Business and management was classed as Quantitative since it encompassed Finance and Management at the LSE, which both require compulsory mathematics courses, so we chose to include those within the quantitative category. \n",
    "\n",
    "It should be noted that this categorisation is largely subjective, as due to the influence of outside options, students from a degree like 'Philosophy, logic and scientific method' could take many courses in Mathematics and essentially have a largely quantitative degree. Still, as an average, these individuals will not take as many quantitative courses.\n",
    "\n",
    "To aggregate the columns when combining into new rows, we wanted to sum some columns, like number of respondents, but take the mean of others like the Positivity measure.\n",
    "\n",
    "Most of the code is repetitive, and the gist of it can be understood by looking at the first \"for teaching\" block of code "
   ]
  },
  {
   "cell_type": "code",
   "execution_count": 63,
   "metadata": {},
   "outputs": [],
   "source": [
    "less_quantitative=['Psychology', 'Languages and area studies', 'Philosophy and religious studies', \n",
    "                   'Sociology, social policy and anthropology', 'History and archaeology', 'Law', 'Politics',\n",
    "                  'Geography, earth and environmental studies']\n",
    "quantitative=['Business and management', 'Economics', 'Mathematical sciences']\n",
    "dataframes={'Teach':teach_df, 'Learn': learn_df, 'Assess':assess_df, 'Support': support_df, 'Organisation': organisation_df\n",
    "            ,'Resources': resource_df, 'Voice': voice_df}\n",
    "\n",
    "\n",
    "#For Teaching\n",
    "quant_teach_df=teach_df.loc[quantitative]\n",
    "respondents=quant_teach_df['Number of Respondents'].sum()\n",
    "response_ratio=round(quant_teach_df['Response Ratio'].mean(),2)\n",
    "positivity=round(quant_teach_df['Positivity Measure(%)'].mean(),2)\n",
    "sd=round(quant_teach_df['Standard Deviation'].mean(),2)\n",
    "\n",
    "lssquant_teach_df=teach_df.loc[less_quantitative]\n",
    "lssrespondents=lssquant_teach_df['Number of Respondents'].sum()\n",
    "lssresponse_ratio=round(lssquant_teach_df['Response Ratio'].mean(),2)\n",
    "lsspositivity=round(lssquant_teach_df['Positivity Measure(%)'].mean(),2)\n",
    "lssd=round(lssquant_teach_df['Standard Deviation'].mean(),2)\n",
    "\n",
    "teach_comparison=pd.DataFrame({'Quantitative': {'Positivity Measure(%)':positivity, 'Standard Deviation':sd\n",
    "                                                , 'Response Ratio': response_ratio, 'Number of Respondents':respondents },\n",
    "                                'Less Quantitative':{'Positivity Measure(%)':lsspositivity, 'Standard Deviation':lssd\n",
    "                                                , 'Response Ratio': lssresponse_ratio, 'Number of Respondents':lssrespondents}})\n",
    "\n",
    "# For Learning\n",
    "quant_learn_df = learn_df.loc[quantitative]\n",
    "learn_respondents = quant_learn_df['Number of Respondents'].sum()\n",
    "learn_response_ratio = round(quant_learn_df['Response Ratio'].mean(), 2)\n",
    "learn_positivity = round(quant_learn_df['Positivity Measure(%)'].mean(), 2)\n",
    "learn_sd = round(quant_learn_df['Standard Deviation'].mean(), 2)\n",
    "\n",
    "lss_quant_learn_df = learn_df.loc[less_quantitative]\n",
    "lss_learn_respondents = lss_quant_learn_df['Number of Respondents'].sum()\n",
    "lss_learn_response_ratio = round(lss_quant_learn_df['Response Ratio'].mean(), 2)\n",
    "lss_learn_positivity = round(lss_quant_learn_df['Positivity Measure(%)'].mean(), 2)\n",
    "lss_learn_sd = round(lss_quant_learn_df['Standard Deviation'].mean(), 2)\n",
    "\n",
    "learn_comparison = pd.DataFrame({\n",
    "    'Quantitative': {'Positivity Measure(%)': learn_positivity, 'Standard Deviation': learn_sd,\n",
    "                     'Response Ratio': learn_response_ratio, 'Number of Respondents': learn_respondents},\n",
    "    'Less Quantitative': {'Positivity Measure(%)': lss_learn_positivity, 'Standard Deviation': lss_learn_sd,\n",
    "                          'Response Ratio': lss_learn_response_ratio, 'Number of Respondents': lss_learn_respondents}\n",
    "})\n",
    "\n",
    "# For Assess DataFrame\n",
    "quant_assess_df = assess_df.loc[quantitative]\n",
    "assess_respondents = quant_assess_df['Number of Respondents'].sum()\n",
    "assess_response_ratio = round(quant_assess_df['Response Ratio'].mean(), 2)\n",
    "assess_positivity = round(quant_assess_df['Positivity Measure(%)'].mean(), 2)\n",
    "assess_sd = round(quant_assess_df['Standard Deviation'].mean(), 2)\n",
    "\n",
    "lss_quant_assess_df = assess_df.loc[less_quantitative]\n",
    "lss_assess_respondents = lss_quant_assess_df['Number of Respondents'].sum()\n",
    "lss_assess_response_ratio = round(lss_quant_assess_df['Response Ratio'].mean(), 2)\n",
    "lss_assess_positivity = round(lss_quant_assess_df['Positivity Measure(%)'].mean(), 2)\n",
    "lss_assess_sd = round(lss_quant_assess_df['Standard Deviation'].mean(), 2)\n",
    "\n",
    "assess_comparison = pd.DataFrame({\n",
    "    'Quantitative': {'Positivity Measure(%)': assess_positivity, 'Standard Deviation': assess_sd,\n",
    "                     'Response Ratio': assess_response_ratio, 'Number of Respondents': assess_respondents},\n",
    "    'Less Quantitative': {'Positivity Measure(%)': lss_assess_positivity, 'Standard Deviation': lss_assess_sd,\n",
    "                          'Response Ratio': lss_assess_response_ratio, 'Number of Respondents': lss_assess_respondents}\n",
    "})\n",
    "\n",
    "\n",
    "# For Support DataFrame\n",
    "quant_support_df = support_df.loc[quantitative]\n",
    "support_respondents = quant_support_df['Number of Respondents'].sum()\n",
    "support_response_ratio = round(quant_support_df['Response Ratio'].mean(), 2)\n",
    "support_positivity = round(quant_support_df['Positivity Measure(%)'].mean(), 2)\n",
    "support_sd = round(quant_support_df['Standard Deviation'].mean(), 2)\n",
    "\n",
    "lss_quant_support_df = support_df.loc[less_quantitative]\n",
    "lss_support_respondents = lss_quant_support_df['Number of Respondents'].sum()\n",
    "lss_support_response_ratio = round(lss_quant_support_df['Response Ratio'].mean(), 2)\n",
    "lss_support_positivity = round(lss_quant_support_df['Positivity Measure(%)'].mean(), 2)\n",
    "lss_support_sd = round(lss_quant_support_df['Standard Deviation'].mean(), 2)\n",
    "\n",
    "support_comparison = pd.DataFrame({\n",
    "    'Quantitative': {'Positivity Measure(%)': support_positivity, 'Standard Deviation': support_sd,\n",
    "                     'Response Ratio': support_response_ratio, 'Number of Respondents': support_respondents},\n",
    "    'Less Quantitative': {'Positivity Measure(%)': lss_support_positivity, 'Standard Deviation': lss_support_sd,\n",
    "                          'Response Ratio': lss_support_response_ratio, 'Number of Respondents': lss_support_respondents}\n",
    "})\n",
    "\n",
    "\n",
    "# For Organisation DataFrame\n",
    "quant_organisation_df = organisation_df.loc[quantitative]\n",
    "organisation_respondents = quant_organisation_df['Number of Respondents'].sum()\n",
    "organisation_response_ratio = round(quant_organisation_df['Response Ratio'].mean(), 2)\n",
    "organisation_positivity = round(quant_organisation_df['Positivity Measure(%)'].mean(), 2)\n",
    "organisation_sd = round(quant_organisation_df['Standard Deviation'].mean(), 2)\n",
    "\n",
    "lss_quant_organisation_df = organisation_df.loc[less_quantitative]\n",
    "lss_organisation_respondents = lss_quant_organisation_df['Number of Respondents'].sum()\n",
    "lss_organisation_response_ratio = round(lss_quant_organisation_df['Response Ratio'].mean(), 2)\n",
    "lss_organisation_positivity = round(lss_quant_organisation_df['Positivity Measure(%)'].mean(), 2)\n",
    "lss_organisation_sd = round(lss_quant_organisation_df['Standard Deviation'].mean(), 2)\n",
    "\n",
    "organisation_comparison = pd.DataFrame({\n",
    "    'Quantitative': {'Positivity Measure(%)': organisation_positivity, 'Standard Deviation': organisation_sd,\n",
    "                     'Response Ratio': organisation_response_ratio, 'Number of Respondents': organisation_respondents},\n",
    "    'Less Quantitative': {'Positivity Measure(%)': lss_organisation_positivity, 'Standard Deviation': lss_organisation_sd,\n",
    "                          'Response Ratio': lss_organisation_response_ratio, 'Number of Respondents': lss_organisation_respondents}\n",
    "})\n",
    "\n",
    "# For Resources DataFrame\n",
    "quant_resources_df = resource_df.loc[quantitative]\n",
    "resources_respondents = quant_resources_df['Number of Respondents'].sum()\n",
    "resources_response_ratio = round(quant_resources_df['Response Ratio'].mean(), 2)\n",
    "resources_positivity = round(quant_resources_df['Positivity Measure(%)'].mean(), 2)\n",
    "resources_sd = round(quant_resources_df['Standard Deviation'].mean(), 2)\n",
    "\n",
    "lss_quant_resources_df = resource_df.loc[less_quantitative]\n",
    "lss_resources_respondents = lss_quant_resources_df['Number of Respondents'].sum()\n",
    "lss_resources_response_ratio = round(lss_quant_resources_df['Response Ratio'].mean(), 2)\n",
    "lss_resources_positivity = round(lss_quant_resources_df['Positivity Measure(%)'].mean(), 2)\n",
    "lss_resources_sd = round(lss_quant_resources_df['Standard Deviation'].mean(), 2)\n",
    "\n",
    "resources_comparison = pd.DataFrame({\n",
    "    'Quantitative': {'Positivity Measure(%)': resources_positivity, 'Standard Deviation': resources_sd,\n",
    "                     'Response Ratio': resources_response_ratio, 'Number of Respondents': resources_respondents},\n",
    "    'Less Quantitative': {'Positivity Measure(%)': lss_resources_positivity, 'Standard Deviation': lss_resources_sd,\n",
    "                          'Response Ratio': lss_resources_response_ratio, 'Number of Respondents': lss_resources_respondents}\n",
    "})\n",
    "\n",
    "# For Voice DataFrame\n",
    "quant_voice_df = voice_df.loc[quantitative]\n",
    "voice_respondents = quant_voice_df['Number of Respondents'].sum()\n",
    "voice_response_ratio = round(quant_voice_df['Response Ratio'].mean(), 2)\n",
    "voice_positivity = round(quant_voice_df['Positivity Measure(%)'].mean(), 2)\n",
    "voice_sd = round(quant_voice_df['Standard Deviation'].mean(), 2)\n",
    "\n",
    "lss_quant_voice_df = voice_df.loc[less_quantitative]\n",
    "lss_voice_respondents = lss_quant_voice_df['Number of Respondents'].sum()\n",
    "lss_voice_response_ratio = round(lss_quant_voice_df['Response Ratio'].mean(), 2)\n",
    "lss_voice_positivity = round(lss_quant_voice_df['Positivity Measure(%)'].mean(), 2)\n",
    "lss_voice_sd = round(lss_quant_voice_df['Standard Deviation'].mean(), 2)\n",
    "\n",
    "voice_comparison = pd.DataFrame({\n",
    "    'Quantitative': {'Positivity Measure(%)': voice_positivity, 'Standard Deviation': voice_sd,\n",
    "                     'Response Ratio': voice_response_ratio, 'Number of Respondents': voice_respondents},\n",
    "    'Less Quantitative': {'Positivity Measure(%)': lss_voice_positivity, 'Standard Deviation': lss_voice_sd,\n",
    "                          'Response Ratio': lss_voice_response_ratio, 'Number of Respondents': lss_voice_respondents}\n",
    "})\n",
    "\n",
    "\n",
    "\n"
   ]
  },
  {
   "cell_type": "code",
   "execution_count": 64,
   "metadata": {},
   "outputs": [
    {
     "data": {
      "text/html": [
       "<div>\n",
       "<style scoped>\n",
       "    .dataframe tbody tr th:only-of-type {\n",
       "        vertical-align: middle;\n",
       "    }\n",
       "\n",
       "    .dataframe tbody tr th {\n",
       "        vertical-align: top;\n",
       "    }\n",
       "\n",
       "    .dataframe thead th {\n",
       "        text-align: right;\n",
       "    }\n",
       "</style>\n",
       "<table border=\"1\" class=\"dataframe\">\n",
       "  <thead>\n",
       "    <tr style=\"text-align: right;\">\n",
       "      <th></th>\n",
       "      <th>Quantitative</th>\n",
       "      <th>Less Quantitative</th>\n",
       "    </tr>\n",
       "  </thead>\n",
       "  <tbody>\n",
       "    <tr>\n",
       "      <th>Positivity Measure(%)</th>\n",
       "      <td>81.63</td>\n",
       "      <td>90.55</td>\n",
       "    </tr>\n",
       "    <tr>\n",
       "      <th>Standard Deviation</th>\n",
       "      <td>2.63</td>\n",
       "      <td>4.55</td>\n",
       "    </tr>\n",
       "    <tr>\n",
       "      <th>Response Ratio</th>\n",
       "      <td>0.65</td>\n",
       "      <td>0.74</td>\n",
       "    </tr>\n",
       "    <tr>\n",
       "      <th>Number of Respondents</th>\n",
       "      <td>641.00</td>\n",
       "      <td>629.00</td>\n",
       "    </tr>\n",
       "  </tbody>\n",
       "</table>\n",
       "</div>"
      ],
      "text/plain": [
       "                       Quantitative  Less Quantitative\n",
       "Positivity Measure(%)         81.63              90.55\n",
       "Standard Deviation             2.63               4.55\n",
       "Response Ratio                 0.65               0.74\n",
       "Number of Respondents        641.00             629.00"
      ]
     },
     "execution_count": 64,
     "metadata": {},
     "output_type": "execute_result"
    }
   ],
   "source": [
    "teach_comparison"
   ]
  },
  {
   "cell_type": "code",
   "execution_count": 65,
   "metadata": {},
   "outputs": [
    {
     "data": {
      "text/html": [
       "<div>\n",
       "<style scoped>\n",
       "    .dataframe tbody tr th:only-of-type {\n",
       "        vertical-align: middle;\n",
       "    }\n",
       "\n",
       "    .dataframe tbody tr th {\n",
       "        vertical-align: top;\n",
       "    }\n",
       "\n",
       "    .dataframe thead th {\n",
       "        text-align: right;\n",
       "    }\n",
       "</style>\n",
       "<table border=\"1\" class=\"dataframe\">\n",
       "  <thead>\n",
       "    <tr style=\"text-align: right;\">\n",
       "      <th></th>\n",
       "      <th>Quantitative</th>\n",
       "      <th>Less Quantitative</th>\n",
       "    </tr>\n",
       "  </thead>\n",
       "  <tbody>\n",
       "    <tr>\n",
       "      <th>Positivity Measure(%)</th>\n",
       "      <td>75.90</td>\n",
       "      <td>84.22</td>\n",
       "    </tr>\n",
       "    <tr>\n",
       "      <th>Standard Deviation</th>\n",
       "      <td>2.87</td>\n",
       "      <td>5.51</td>\n",
       "    </tr>\n",
       "    <tr>\n",
       "      <th>Response Ratio</th>\n",
       "      <td>0.65</td>\n",
       "      <td>0.74</td>\n",
       "    </tr>\n",
       "    <tr>\n",
       "      <th>Number of Respondents</th>\n",
       "      <td>641.00</td>\n",
       "      <td>629.00</td>\n",
       "    </tr>\n",
       "  </tbody>\n",
       "</table>\n",
       "</div>"
      ],
      "text/plain": [
       "                       Quantitative  Less Quantitative\n",
       "Positivity Measure(%)         75.90              84.22\n",
       "Standard Deviation             2.87               5.51\n",
       "Response Ratio                 0.65               0.74\n",
       "Number of Respondents        641.00             629.00"
      ]
     },
     "execution_count": 65,
     "metadata": {},
     "output_type": "execute_result"
    }
   ],
   "source": [
    "learn_comparison"
   ]
  },
  {
   "cell_type": "code",
   "execution_count": 66,
   "metadata": {},
   "outputs": [
    {
     "data": {
      "text/html": [
       "<div>\n",
       "<style scoped>\n",
       "    .dataframe tbody tr th:only-of-type {\n",
       "        vertical-align: middle;\n",
       "    }\n",
       "\n",
       "    .dataframe tbody tr th {\n",
       "        vertical-align: top;\n",
       "    }\n",
       "\n",
       "    .dataframe thead th {\n",
       "        text-align: right;\n",
       "    }\n",
       "</style>\n",
       "<table border=\"1\" class=\"dataframe\">\n",
       "  <thead>\n",
       "    <tr style=\"text-align: right;\">\n",
       "      <th></th>\n",
       "      <th>Quantitative</th>\n",
       "      <th>Less Quantitative</th>\n",
       "    </tr>\n",
       "  </thead>\n",
       "  <tbody>\n",
       "    <tr>\n",
       "      <th>Positivity Measure(%)</th>\n",
       "      <td>65.70</td>\n",
       "      <td>78.68</td>\n",
       "    </tr>\n",
       "    <tr>\n",
       "      <th>Standard Deviation</th>\n",
       "      <td>3.13</td>\n",
       "      <td>5.94</td>\n",
       "    </tr>\n",
       "    <tr>\n",
       "      <th>Response Ratio</th>\n",
       "      <td>0.65</td>\n",
       "      <td>0.74</td>\n",
       "    </tr>\n",
       "    <tr>\n",
       "      <th>Number of Respondents</th>\n",
       "      <td>641.00</td>\n",
       "      <td>629.00</td>\n",
       "    </tr>\n",
       "  </tbody>\n",
       "</table>\n",
       "</div>"
      ],
      "text/plain": [
       "                       Quantitative  Less Quantitative\n",
       "Positivity Measure(%)         65.70              78.68\n",
       "Standard Deviation             3.13               5.94\n",
       "Response Ratio                 0.65               0.74\n",
       "Number of Respondents        641.00             629.00"
      ]
     },
     "execution_count": 66,
     "metadata": {},
     "output_type": "execute_result"
    }
   ],
   "source": [
    "assess_comparison"
   ]
  },
  {
   "cell_type": "code",
   "execution_count": 67,
   "metadata": {},
   "outputs": [
    {
     "data": {
      "text/html": [
       "<div>\n",
       "<style scoped>\n",
       "    .dataframe tbody tr th:only-of-type {\n",
       "        vertical-align: middle;\n",
       "    }\n",
       "\n",
       "    .dataframe tbody tr th {\n",
       "        vertical-align: top;\n",
       "    }\n",
       "\n",
       "    .dataframe thead th {\n",
       "        text-align: right;\n",
       "    }\n",
       "</style>\n",
       "<table border=\"1\" class=\"dataframe\">\n",
       "  <thead>\n",
       "    <tr style=\"text-align: right;\">\n",
       "      <th></th>\n",
       "      <th>Quantitative</th>\n",
       "      <th>Less Quantitative</th>\n",
       "    </tr>\n",
       "  </thead>\n",
       "  <tbody>\n",
       "    <tr>\n",
       "      <th>Positivity Measure(%)</th>\n",
       "      <td>83.80</td>\n",
       "      <td>91.85</td>\n",
       "    </tr>\n",
       "    <tr>\n",
       "      <th>Standard Deviation</th>\n",
       "      <td>2.50</td>\n",
       "      <td>4.38</td>\n",
       "    </tr>\n",
       "    <tr>\n",
       "      <th>Response Ratio</th>\n",
       "      <td>0.65</td>\n",
       "      <td>0.74</td>\n",
       "    </tr>\n",
       "    <tr>\n",
       "      <th>Number of Respondents</th>\n",
       "      <td>641.00</td>\n",
       "      <td>629.00</td>\n",
       "    </tr>\n",
       "  </tbody>\n",
       "</table>\n",
       "</div>"
      ],
      "text/plain": [
       "                       Quantitative  Less Quantitative\n",
       "Positivity Measure(%)         83.80              91.85\n",
       "Standard Deviation             2.50               4.38\n",
       "Response Ratio                 0.65               0.74\n",
       "Number of Respondents        641.00             629.00"
      ]
     },
     "execution_count": 67,
     "metadata": {},
     "output_type": "execute_result"
    }
   ],
   "source": [
    "support_comparison"
   ]
  },
  {
   "cell_type": "code",
   "execution_count": 68,
   "metadata": {},
   "outputs": [
    {
     "data": {
      "text/html": [
       "<div>\n",
       "<style scoped>\n",
       "    .dataframe tbody tr th:only-of-type {\n",
       "        vertical-align: middle;\n",
       "    }\n",
       "\n",
       "    .dataframe tbody tr th {\n",
       "        vertical-align: top;\n",
       "    }\n",
       "\n",
       "    .dataframe thead th {\n",
       "        text-align: right;\n",
       "    }\n",
       "</style>\n",
       "<table border=\"1\" class=\"dataframe\">\n",
       "  <thead>\n",
       "    <tr style=\"text-align: right;\">\n",
       "      <th></th>\n",
       "      <th>Quantitative</th>\n",
       "      <th>Less Quantitative</th>\n",
       "    </tr>\n",
       "  </thead>\n",
       "  <tbody>\n",
       "    <tr>\n",
       "      <th>Positivity Measure(%)</th>\n",
       "      <td>79.43</td>\n",
       "      <td>82.64</td>\n",
       "    </tr>\n",
       "    <tr>\n",
       "      <th>Standard Deviation</th>\n",
       "      <td>2.73</td>\n",
       "      <td>5.91</td>\n",
       "    </tr>\n",
       "    <tr>\n",
       "      <th>Response Ratio</th>\n",
       "      <td>0.65</td>\n",
       "      <td>0.74</td>\n",
       "    </tr>\n",
       "    <tr>\n",
       "      <th>Number of Respondents</th>\n",
       "      <td>641.00</td>\n",
       "      <td>629.00</td>\n",
       "    </tr>\n",
       "  </tbody>\n",
       "</table>\n",
       "</div>"
      ],
      "text/plain": [
       "                       Quantitative  Less Quantitative\n",
       "Positivity Measure(%)         79.43              82.64\n",
       "Standard Deviation             2.73               5.91\n",
       "Response Ratio                 0.65               0.74\n",
       "Number of Respondents        641.00             629.00"
      ]
     },
     "execution_count": 68,
     "metadata": {},
     "output_type": "execute_result"
    }
   ],
   "source": [
    "organisation_comparison"
   ]
  },
  {
   "cell_type": "code",
   "execution_count": 69,
   "metadata": {},
   "outputs": [
    {
     "data": {
      "text/html": [
       "<div>\n",
       "<style scoped>\n",
       "    .dataframe tbody tr th:only-of-type {\n",
       "        vertical-align: middle;\n",
       "    }\n",
       "\n",
       "    .dataframe tbody tr th {\n",
       "        vertical-align: top;\n",
       "    }\n",
       "\n",
       "    .dataframe thead th {\n",
       "        text-align: right;\n",
       "    }\n",
       "</style>\n",
       "<table border=\"1\" class=\"dataframe\">\n",
       "  <thead>\n",
       "    <tr style=\"text-align: right;\">\n",
       "      <th></th>\n",
       "      <th>Quantitative</th>\n",
       "      <th>Less Quantitative</th>\n",
       "    </tr>\n",
       "  </thead>\n",
       "  <tbody>\n",
       "    <tr>\n",
       "      <th>Positivity Measure(%)</th>\n",
       "      <td>85.60</td>\n",
       "      <td>88.39</td>\n",
       "    </tr>\n",
       "    <tr>\n",
       "      <th>Standard Deviation</th>\n",
       "      <td>2.33</td>\n",
       "      <td>4.82</td>\n",
       "    </tr>\n",
       "    <tr>\n",
       "      <th>Response Ratio</th>\n",
       "      <td>0.65</td>\n",
       "      <td>0.74</td>\n",
       "    </tr>\n",
       "    <tr>\n",
       "      <th>Number of Respondents</th>\n",
       "      <td>636.00</td>\n",
       "      <td>628.00</td>\n",
       "    </tr>\n",
       "  </tbody>\n",
       "</table>\n",
       "</div>"
      ],
      "text/plain": [
       "                       Quantitative  Less Quantitative\n",
       "Positivity Measure(%)         85.60              88.39\n",
       "Standard Deviation             2.33               4.82\n",
       "Response Ratio                 0.65               0.74\n",
       "Number of Respondents        636.00             628.00"
      ]
     },
     "execution_count": 69,
     "metadata": {},
     "output_type": "execute_result"
    }
   ],
   "source": [
    "resources_comparison"
   ]
  },
  {
   "cell_type": "code",
   "execution_count": 70,
   "metadata": {},
   "outputs": [
    {
     "data": {
      "text/html": [
       "<div>\n",
       "<style scoped>\n",
       "    .dataframe tbody tr th:only-of-type {\n",
       "        vertical-align: middle;\n",
       "    }\n",
       "\n",
       "    .dataframe tbody tr th {\n",
       "        vertical-align: top;\n",
       "    }\n",
       "\n",
       "    .dataframe thead th {\n",
       "        text-align: right;\n",
       "    }\n",
       "</style>\n",
       "<table border=\"1\" class=\"dataframe\">\n",
       "  <thead>\n",
       "    <tr style=\"text-align: right;\">\n",
       "      <th></th>\n",
       "      <th>Quantitative</th>\n",
       "      <th>Less Quantitative</th>\n",
       "    </tr>\n",
       "  </thead>\n",
       "  <tbody>\n",
       "    <tr>\n",
       "      <th>Positivity Measure(%)</th>\n",
       "      <td>64.53</td>\n",
       "      <td>72.96</td>\n",
       "    </tr>\n",
       "    <tr>\n",
       "      <th>Standard Deviation</th>\n",
       "      <td>3.17</td>\n",
       "      <td>6.45</td>\n",
       "    </tr>\n",
       "    <tr>\n",
       "      <th>Response Ratio</th>\n",
       "      <td>0.65</td>\n",
       "      <td>0.74</td>\n",
       "    </tr>\n",
       "    <tr>\n",
       "      <th>Number of Respondents</th>\n",
       "      <td>637.00</td>\n",
       "      <td>625.00</td>\n",
       "    </tr>\n",
       "  </tbody>\n",
       "</table>\n",
       "</div>"
      ],
      "text/plain": [
       "                       Quantitative  Less Quantitative\n",
       "Positivity Measure(%)         64.53              72.96\n",
       "Standard Deviation             3.17               6.45\n",
       "Response Ratio                 0.65               0.74\n",
       "Number of Respondents        637.00             625.00"
      ]
     },
     "execution_count": 70,
     "metadata": {},
     "output_type": "execute_result"
    }
   ],
   "source": [
    "voice_comparison"
   ]
  },
  {
   "cell_type": "markdown",
   "metadata": {},
   "source": [
    "As suspected, students studying quantitative degrees were less satisfied in *every* metric tested. That said, the Less Quantitative students had a wider standard deviation for their answers and a students from Quantitative subjects had a lower response ratio (though larger numbers of respondents)."
   ]
  },
  {
   "cell_type": "markdown",
   "metadata": {},
   "source": [
    "We now turn to answering how LSE student satisfaction has evolved over the years- which requires many pieces of data from the Data folder.The data is arranged in different ways from the 2023 NSS data, which means it requires different cleaning methods."
   ]
  },
  {
   "cell_type": "code",
   "execution_count": 71,
   "metadata": {},
   "outputs": [],
   "source": [
    "dat_2015=pd.read_excel('./data/2015_dat.xlsx', sheet_name='NSSFULLTIME1', header=3)\n",
    "dat_2016=pd.read_excel('./data/2016_dat.xlsx', sheet_name='NSSFULLTIME1', header=3)\n",
    "dat_2017=pd.read_excel('./data/2017_dat.xlsx', sheet_name='NSSFULLTIME1', header=3)\n",
    "dat_2018=pd.read_excel('./data/2018_dat.xlsx', sheet_name='NSSFULLTIME1', header=3)\n",
    "dat_2019=pd.read_excel('./data/2019_dat.xlsx',sheet_name='NSSFULLTIME1', header=3)\n",
    "dat_2020=pd.read_excel('./data/2020_dat.xlsx',sheet_name='NSSFULLTIME1', header=3)\n",
    "dat_2021=pd.read_excel('./data/2021_dat.xlsx',sheet_name='NSSFULLTIME1', header=3)\n",
    "dat_2022=pd.read_excel('./data/2022_dat.xlsx',sheet_name='NSSFULLTIME1', header=3)"
   ]
  },
  {
   "cell_type": "code",
   "execution_count": 72,
   "metadata": {},
   "outputs": [
    {
     "data": {
      "text/html": [
       "<div>\n",
       "<style scoped>\n",
       "    .dataframe tbody tr th:only-of-type {\n",
       "        vertical-align: middle;\n",
       "    }\n",
       "\n",
       "    .dataframe tbody tr th {\n",
       "        vertical-align: top;\n",
       "    }\n",
       "\n",
       "    .dataframe thead th {\n",
       "        text-align: right;\n",
       "    }\n",
       "</style>\n",
       "<table border=\"1\" class=\"dataframe\">\n",
       "  <thead>\n",
       "    <tr style=\"text-align: right;\">\n",
       "      <th></th>\n",
       "      <th>2023</th>\n",
       "    </tr>\n",
       "  </thead>\n",
       "  <tbody>\n",
       "    <tr>\n",
       "      <th>Teaching</th>\n",
       "      <td>86.5</td>\n",
       "    </tr>\n",
       "    <tr>\n",
       "      <th>Learning Opportunities</th>\n",
       "      <td>79.4</td>\n",
       "    </tr>\n",
       "    <tr>\n",
       "      <th>Assessment and Feedback</th>\n",
       "      <td>71.1</td>\n",
       "    </tr>\n",
       "    <tr>\n",
       "      <th>Academic Support</th>\n",
       "      <td>87.4</td>\n",
       "    </tr>\n",
       "    <tr>\n",
       "      <th>Organisation and Management</th>\n",
       "      <td>80.7</td>\n",
       "    </tr>\n",
       "    <tr>\n",
       "      <th>Learning Resources</th>\n",
       "      <td>87.1</td>\n",
       "    </tr>\n",
       "    <tr>\n",
       "      <th>Student Voice</th>\n",
       "      <td>67.2</td>\n",
       "    </tr>\n",
       "  </tbody>\n",
       "</table>\n",
       "</div>"
      ],
      "text/plain": [
       "                             2023\n",
       "Teaching                     86.5\n",
       "Learning Opportunities       79.4\n",
       "Assessment and Feedback      71.1\n",
       "Academic Support             87.4\n",
       "Organisation and Management  80.7\n",
       "Learning Resources           87.1\n",
       "Student Voice                67.2"
      ]
     },
     "execution_count": 72,
     "metadata": {},
     "output_type": "execute_result"
    }
   ],
   "source": [
    "dat_2023=overall_df[:1] #the 2023 data is already stored as the overall_df from earlier, when comparing universities\n",
    "dat_2023=dat_2023.drop('Response Ratio', axis=1) #Response Ratio proved difficult to calculate for other years\n",
    "dat_2023=dat_2023.transpose()\n",
    "dat_2023=dat_2023.rename(columns={'LSE': 2023})\n",
    "dat_2023 #we want to create a dataframe as such for every year which we will then join together"
   ]
  },
  {
   "cell_type": "markdown",
   "metadata": {},
   "source": [
    "The data before 2023 has a different structure. So we explore it a little to decide how to form our dataframes. "
   ]
  },
  {
   "cell_type": "code",
   "execution_count": 73,
   "metadata": {},
   "outputs": [
    {
     "data": {
      "text/html": [
       "<div>\n",
       "<style scoped>\n",
       "    .dataframe tbody tr th:only-of-type {\n",
       "        vertical-align: middle;\n",
       "    }\n",
       "\n",
       "    .dataframe tbody tr th {\n",
       "        vertical-align: top;\n",
       "    }\n",
       "\n",
       "    .dataframe thead th {\n",
       "        text-align: right;\n",
       "    }\n",
       "</style>\n",
       "<table border=\"1\" class=\"dataframe\">\n",
       "  <thead>\n",
       "    <tr style=\"text-align: right;\">\n",
       "      <th></th>\n",
       "      <th>UKPRN</th>\n",
       "      <th>Provider</th>\n",
       "      <th>Subject Code</th>\n",
       "      <th>Subject</th>\n",
       "      <th>Level</th>\n",
       "      <th>Question Number</th>\n",
       "      <th>Answered 1</th>\n",
       "      <th>Answered 2</th>\n",
       "      <th>Answered 3</th>\n",
       "      <th>Answered 4</th>\n",
       "      <th>Answered 5</th>\n",
       "      <th>N/A</th>\n",
       "      <th>Confidence interval - min</th>\n",
       "      <th>Actual value</th>\n",
       "      <th>Confidence interval - max</th>\n",
       "      <th>Response</th>\n",
       "      <th>Sample Size</th>\n",
       "      <th>Two years aggregate data?</th>\n",
       "    </tr>\n",
       "  </thead>\n",
       "  <tbody>\n",
       "    <tr>\n",
       "      <th>0</th>\n",
       "      <td>10007783</td>\n",
       "      <td>University of Aberdeen</td>\n",
       "      <td>CAH01</td>\n",
       "      <td>Medicine and dentistry</td>\n",
       "      <td>First degree</td>\n",
       "      <td>Q01</td>\n",
       "      <td>0.0000</td>\n",
       "      <td>0.0270</td>\n",
       "      <td>0.0090</td>\n",
       "      <td>0.4955</td>\n",
       "      <td>0.4685</td>\n",
       "      <td>0</td>\n",
       "      <td>0.9030</td>\n",
       "      <td>0.9640</td>\n",
       "      <td>0.9872</td>\n",
       "      <td>111</td>\n",
       "      <td>161</td>\n",
       "      <td>NaN</td>\n",
       "    </tr>\n",
       "    <tr>\n",
       "      <th>1</th>\n",
       "      <td>10007783</td>\n",
       "      <td>University of Aberdeen</td>\n",
       "      <td>CAH01</td>\n",
       "      <td>Medicine and dentistry</td>\n",
       "      <td>First degree</td>\n",
       "      <td>Q02</td>\n",
       "      <td>0.0182</td>\n",
       "      <td>0.0273</td>\n",
       "      <td>0.0545</td>\n",
       "      <td>0.3636</td>\n",
       "      <td>0.5364</td>\n",
       "      <td>1</td>\n",
       "      <td>0.8206</td>\n",
       "      <td>0.9000</td>\n",
       "      <td>0.9465</td>\n",
       "      <td>110</td>\n",
       "      <td>161</td>\n",
       "      <td>NaN</td>\n",
       "    </tr>\n",
       "    <tr>\n",
       "      <th>2</th>\n",
       "      <td>10007783</td>\n",
       "      <td>University of Aberdeen</td>\n",
       "      <td>CAH01</td>\n",
       "      <td>Medicine and dentistry</td>\n",
       "      <td>First degree</td>\n",
       "      <td>Q03</td>\n",
       "      <td>0.0000</td>\n",
       "      <td>0.0000</td>\n",
       "      <td>0.0450</td>\n",
       "      <td>0.1532</td>\n",
       "      <td>0.8018</td>\n",
       "      <td>0</td>\n",
       "      <td>0.8907</td>\n",
       "      <td>0.9550</td>\n",
       "      <td>0.9822</td>\n",
       "      <td>111</td>\n",
       "      <td>161</td>\n",
       "      <td>NaN</td>\n",
       "    </tr>\n",
       "    <tr>\n",
       "      <th>3</th>\n",
       "      <td>10007783</td>\n",
       "      <td>University of Aberdeen</td>\n",
       "      <td>CAH01</td>\n",
       "      <td>Medicine and dentistry</td>\n",
       "      <td>First degree</td>\n",
       "      <td>Q04</td>\n",
       "      <td>0.0000</td>\n",
       "      <td>0.0360</td>\n",
       "      <td>0.0811</td>\n",
       "      <td>0.3063</td>\n",
       "      <td>0.5766</td>\n",
       "      <td>0</td>\n",
       "      <td>0.8006</td>\n",
       "      <td>0.8829</td>\n",
       "      <td>0.9340</td>\n",
       "      <td>111</td>\n",
       "      <td>161</td>\n",
       "      <td>NaN</td>\n",
       "    </tr>\n",
       "    <tr>\n",
       "      <th>4</th>\n",
       "      <td>10007783</td>\n",
       "      <td>University of Aberdeen</td>\n",
       "      <td>CAH01</td>\n",
       "      <td>Medicine and dentistry</td>\n",
       "      <td>First degree</td>\n",
       "      <td>Q05</td>\n",
       "      <td>0.0000</td>\n",
       "      <td>0.0270</td>\n",
       "      <td>0.0360</td>\n",
       "      <td>0.3694</td>\n",
       "      <td>0.5676</td>\n",
       "      <td>0</td>\n",
       "      <td>0.8670</td>\n",
       "      <td>0.9369</td>\n",
       "      <td>0.9713</td>\n",
       "      <td>111</td>\n",
       "      <td>161</td>\n",
       "      <td>NaN</td>\n",
       "    </tr>\n",
       "  </tbody>\n",
       "</table>\n",
       "</div>"
      ],
      "text/plain": [
       "      UKPRN                Provider Subject Code                 Subject  \\\n",
       "0  10007783  University of Aberdeen        CAH01  Medicine and dentistry   \n",
       "1  10007783  University of Aberdeen        CAH01  Medicine and dentistry   \n",
       "2  10007783  University of Aberdeen        CAH01  Medicine and dentistry   \n",
       "3  10007783  University of Aberdeen        CAH01  Medicine and dentistry   \n",
       "4  10007783  University of Aberdeen        CAH01  Medicine and dentistry   \n",
       "\n",
       "          Level Question Number  Answered 1  Answered 2  Answered 3  \\\n",
       "0  First degree             Q01      0.0000      0.0270      0.0090   \n",
       "1  First degree             Q02      0.0182      0.0273      0.0545   \n",
       "2  First degree             Q03      0.0000      0.0000      0.0450   \n",
       "3  First degree             Q04      0.0000      0.0360      0.0811   \n",
       "4  First degree             Q05      0.0000      0.0270      0.0360   \n",
       "\n",
       "   Answered 4  Answered 5  N/A  Confidence interval - min  Actual value  \\\n",
       "0      0.4955      0.4685    0                     0.9030        0.9640   \n",
       "1      0.3636      0.5364    1                     0.8206        0.9000   \n",
       "2      0.1532      0.8018    0                     0.8907        0.9550   \n",
       "3      0.3063      0.5766    0                     0.8006        0.8829   \n",
       "4      0.3694      0.5676    0                     0.8670        0.9369   \n",
       "\n",
       "   Confidence interval - max  Response  Sample Size Two years aggregate data?  \n",
       "0                     0.9872       111          161                       NaN  \n",
       "1                     0.9465       110          161                       NaN  \n",
       "2                     0.9822       111          161                       NaN  \n",
       "3                     0.9340       111          161                       NaN  \n",
       "4                     0.9713       111          161                       NaN  "
      ]
     },
     "execution_count": 73,
     "metadata": {},
     "output_type": "execute_result"
    }
   ],
   "source": [
    "dat_2018.head()"
   ]
  },
  {
   "cell_type": "markdown",
   "metadata": {},
   "source": [
    "We remove unneccessary columns from every dataframe (before 2023, which is already clean)."
   ]
  },
  {
   "cell_type": "code",
   "execution_count": 74,
   "metadata": {},
   "outputs": [
    {
     "data": {
      "text/html": [
       "<div>\n",
       "<style scoped>\n",
       "    .dataframe tbody tr th:only-of-type {\n",
       "        vertical-align: middle;\n",
       "    }\n",
       "\n",
       "    .dataframe tbody tr th {\n",
       "        vertical-align: top;\n",
       "    }\n",
       "\n",
       "    .dataframe thead th {\n",
       "        text-align: right;\n",
       "    }\n",
       "</style>\n",
       "<table border=\"1\" class=\"dataframe\">\n",
       "  <thead>\n",
       "    <tr style=\"text-align: right;\">\n",
       "      <th></th>\n",
       "      <th>Provider</th>\n",
       "      <th>Subject Code</th>\n",
       "      <th>Subject</th>\n",
       "      <th>Question Number</th>\n",
       "      <th>Answered 4</th>\n",
       "      <th>Answered 5</th>\n",
       "      <th>Response</th>\n",
       "      <th>Sample Size</th>\n",
       "    </tr>\n",
       "  </thead>\n",
       "  <tbody>\n",
       "    <tr>\n",
       "      <th>0</th>\n",
       "      <td>University of Aberdeen</td>\n",
       "      <td>CAH01</td>\n",
       "      <td>Medicine and dentistry</td>\n",
       "      <td>Q01</td>\n",
       "      <td>0.5217</td>\n",
       "      <td>0.3913</td>\n",
       "      <td>138</td>\n",
       "      <td>184</td>\n",
       "    </tr>\n",
       "    <tr>\n",
       "      <th>1</th>\n",
       "      <td>University of Aberdeen</td>\n",
       "      <td>CAH01</td>\n",
       "      <td>Medicine and dentistry</td>\n",
       "      <td>Q02</td>\n",
       "      <td>0.5435</td>\n",
       "      <td>0.3478</td>\n",
       "      <td>138</td>\n",
       "      <td>184</td>\n",
       "    </tr>\n",
       "    <tr>\n",
       "      <th>2</th>\n",
       "      <td>University of Aberdeen</td>\n",
       "      <td>CAH01</td>\n",
       "      <td>Medicine and dentistry</td>\n",
       "      <td>Q03</td>\n",
       "      <td>0.2774</td>\n",
       "      <td>0.6642</td>\n",
       "      <td>137</td>\n",
       "      <td>184</td>\n",
       "    </tr>\n",
       "    <tr>\n",
       "      <th>3</th>\n",
       "      <td>University of Aberdeen</td>\n",
       "      <td>CAH01</td>\n",
       "      <td>Medicine and dentistry</td>\n",
       "      <td>Q04</td>\n",
       "      <td>0.3768</td>\n",
       "      <td>0.5000</td>\n",
       "      <td>138</td>\n",
       "      <td>184</td>\n",
       "    </tr>\n",
       "    <tr>\n",
       "      <th>4</th>\n",
       "      <td>University of Aberdeen</td>\n",
       "      <td>CAH01</td>\n",
       "      <td>Medicine and dentistry</td>\n",
       "      <td>Scale01</td>\n",
       "      <td>0.4293</td>\n",
       "      <td>0.4746</td>\n",
       "      <td>138</td>\n",
       "      <td>184</td>\n",
       "    </tr>\n",
       "  </tbody>\n",
       "</table>\n",
       "</div>"
      ],
      "text/plain": [
       "                 Provider Subject Code                 Subject  \\\n",
       "0  University of Aberdeen        CAH01  Medicine and dentistry   \n",
       "1  University of Aberdeen        CAH01  Medicine and dentistry   \n",
       "2  University of Aberdeen        CAH01  Medicine and dentistry   \n",
       "3  University of Aberdeen        CAH01  Medicine and dentistry   \n",
       "4  University of Aberdeen        CAH01  Medicine and dentistry   \n",
       "\n",
       "  Question Number  Answered 4  Answered 5  Response  Sample Size  \n",
       "0             Q01      0.5217      0.3913       138          184  \n",
       "1             Q02      0.5435      0.3478       138          184  \n",
       "2             Q03      0.2774      0.6642       137          184  \n",
       "3             Q04      0.3768      0.5000       138          184  \n",
       "4         Scale01      0.4293      0.4746       138          184  "
      ]
     },
     "execution_count": 74,
     "metadata": {},
     "output_type": "execute_result"
    }
   ],
   "source": [
    "dataframes=[dat_2015,dat_2016,dat_2017, dat_2018, dat_2019, dat_2020, dat_2021, dat_2022]\n",
    "columns_to_drop = [\n",
    "        \"UKPRN\",\n",
    "        \"Level\",\n",
    "        \"Confidence interval - min\",\n",
    "        \"Actual value\",\n",
    "        \"Confidence interval - max\", \n",
    "        \"N/A\",\n",
    "        \"Answered 1\",\n",
    "        \"Answered 2\",\n",
    "        \"Answered 3\"        \n",
    "    ]\n",
    "\n",
    "for df in dataframes:\n",
    "    df.drop(columns_to_drop, axis=1, inplace= True)\n",
    "\n",
    "\n",
    "dat_2022.head()\n",
    "    \n"
   ]
  },
  {
   "cell_type": "markdown",
   "metadata": {},
   "source": [
    "It seems data after 2018 includes a Scale01 variable, which calculates the average response for each topic (questions are grouped into topics, e.g. Questions 1 to 4 are to do with teaching). However, 2018 does not include this variable so we will have to calculate the average response for each topic ourselves. \n",
    "\n",
    "Additionally, none of the DataFrames have a positivity measure, which is the percentage of students who answered 'very good' or 'good' to a question (or the equivalent). This can easily be calculated by summing the 'Answered 4' and 'Answered 5' categories percentages together."
   ]
  },
  {
   "cell_type": "code",
   "execution_count": null,
   "metadata": {
    "scrolled": true
   },
   "outputs": [],
   "source": [
    "years1={2015: dat_2015, 2016: dat_2016, 2017:dat_2017, 2018:dat_2018}\n",
    "mix={}\n",
    "\n",
    "for year, dat in years1.items():\n",
    "    #before 2018 Provider is called Institution\n",
    "    if year==2018:\n",
    "        dat=dat[dat['Provider']=='The London School of Economics and Political Science']\n",
    "    elif year==2014:\n",
    "        dat=dat[dat['Institution']=='London School of Economics and Political Science']\n",
    "    else:\n",
    "        dat=dat[dat['Institution']=='The London School of Economics and Political Science']\n",
    "    teachdat=dat[(dat[\"Question Number\"]=='Q01')| (dat[\"Question Number\"]=='Q02') |(dat[\"Question Number\"]=='Q03') \n",
    "                        | (dat[\"Question Number\"]=='Q04') ]\n",
    "    learndat=dat[(dat[\"Question Number\"]=='Q05')| (dat[\"Question Number\"]=='Q06') |(dat[\"Question Number\"]=='Q07')]\n",
    "    assessdat=dat[(dat[\"Question Number\"]=='Q08')| (dat[\"Question Number\"]=='Q09') |(dat[\"Question Number\"]=='Q10') \n",
    "                            | (dat[\"Question Number\"]=='Q11')]\n",
    "    supportdat=dat[(dat[\"Question Number\"]=='Q12')| (dat[\"Question Number\"]=='Q13') |(dat[\"Question Number\"]=='Q14')]\n",
    "    orgdat=dat[(dat[\"Question Number\"]=='Q15')| (dat[\"Question Number\"]=='Q16') |(dat[\"Question Number\"]=='Q17') ]\n",
    "    resourcedat=dat[(dat[\"Question Number\"]=='Q18')| (dat[\"Question Number\"]=='Q19') |(dat[\"Question Number\"]=='Q20')]\n",
    "    voicedat=dat[(dat[\"Question Number\"]=='Q23')| (dat[\"Question Number\"]=='Q24') |(dat[\"Question Number\"]=='Q25') ] \n",
    "    #we skipped over Learning community and Student union, as there is no equivalent in 2023\n",
    "    columns_to_average = ['Answered 4', 'Answered 5']\n",
    "\n",
    "    # Calculate the mean along the columns axis (axis=1)\n",
    "    teach=teachdat[columns_to_average].mean().sum()*100\n",
    "    learn=learndat[columns_to_average].mean().sum()*100\n",
    "    assess=assessdat[columns_to_average].mean().sum()*100\n",
    "    support=supportdat[columns_to_average].mean().sum()*100\n",
    "    org=orgdat[columns_to_average].mean().sum()*100\n",
    "    resource=resourcedat[columns_to_average].mean().sum()*100\n",
    "    voice=voicedat[columns_to_average].mean().sum()*100\n",
    "\n",
    "    mix[year]={'Teaching': teach, 'Learning Opportunities':learn, 'Assessment and Feedback':assess,\n",
    "                     'Academic Support': support, 'Organisation and Management': org, 'Learning Resources': resource,\n",
    "                     'Student Voice':voice}\n",
    "\n",
    "before2019=pd.DataFrame(mix)\n",
    "before2019=before2019.round(1)\n",
    "before2019"
   ]
  },
  {
   "cell_type": "markdown",
   "metadata": {},
   "source": [
    "Now, let's create the other dataframes; 2019-2022."
   ]
  },
  {
   "cell_type": "code",
   "execution_count": 76,
   "metadata": {},
   "outputs": [
    {
     "data": {
      "text/html": [
       "<div>\n",
       "<style scoped>\n",
       "    .dataframe tbody tr th:only-of-type {\n",
       "        vertical-align: middle;\n",
       "    }\n",
       "\n",
       "    .dataframe tbody tr th {\n",
       "        vertical-align: top;\n",
       "    }\n",
       "\n",
       "    .dataframe thead th {\n",
       "        text-align: right;\n",
       "    }\n",
       "</style>\n",
       "<table border=\"1\" class=\"dataframe\">\n",
       "  <thead>\n",
       "    <tr style=\"text-align: right;\">\n",
       "      <th></th>\n",
       "      <th>2019</th>\n",
       "      <th>2020</th>\n",
       "      <th>2021</th>\n",
       "      <th>2022</th>\n",
       "    </tr>\n",
       "  </thead>\n",
       "  <tbody>\n",
       "    <tr>\n",
       "      <th>Teaching</th>\n",
       "      <td>80.1</td>\n",
       "      <td>84.6</td>\n",
       "      <td>82.3</td>\n",
       "      <td>83.5</td>\n",
       "    </tr>\n",
       "    <tr>\n",
       "      <th>Learning Opportunities</th>\n",
       "      <td>74.6</td>\n",
       "      <td>78.0</td>\n",
       "      <td>75.8</td>\n",
       "      <td>79.1</td>\n",
       "    </tr>\n",
       "    <tr>\n",
       "      <th>Assessment and Feedback</th>\n",
       "      <td>69.3</td>\n",
       "      <td>72.2</td>\n",
       "      <td>68.2</td>\n",
       "      <td>69.7</td>\n",
       "    </tr>\n",
       "    <tr>\n",
       "      <th>Academic Support</th>\n",
       "      <td>71.0</td>\n",
       "      <td>76.3</td>\n",
       "      <td>74.1</td>\n",
       "      <td>75.5</td>\n",
       "    </tr>\n",
       "    <tr>\n",
       "      <th>Organisation and Management</th>\n",
       "      <td>78.0</td>\n",
       "      <td>82.9</td>\n",
       "      <td>77.1</td>\n",
       "      <td>78.2</td>\n",
       "    </tr>\n",
       "    <tr>\n",
       "      <th>Learning Resources</th>\n",
       "      <td>79.4</td>\n",
       "      <td>85.3</td>\n",
       "      <td>79.1</td>\n",
       "      <td>83.2</td>\n",
       "    </tr>\n",
       "    <tr>\n",
       "      <th>Student Voice</th>\n",
       "      <td>64.3</td>\n",
       "      <td>69.3</td>\n",
       "      <td>63.7</td>\n",
       "      <td>70.0</td>\n",
       "    </tr>\n",
       "  </tbody>\n",
       "</table>\n",
       "</div>"
      ],
      "text/plain": [
       "                             2019  2020  2021  2022\n",
       "Teaching                     80.1  84.6  82.3  83.5\n",
       "Learning Opportunities       74.6  78.0  75.8  79.1\n",
       "Assessment and Feedback      69.3  72.2  68.2  69.7\n",
       "Academic Support             71.0  76.3  74.1  75.5\n",
       "Organisation and Management  78.0  82.9  77.1  78.2\n",
       "Learning Resources           79.4  85.3  79.1  83.2\n",
       "Student Voice                64.3  69.3  63.7  70.0"
      ]
     },
     "execution_count": 76,
     "metadata": {},
     "output_type": "execute_result"
    }
   ],
   "source": [
    "years={2019:dat_2019, 2020: dat_2020, 2021: dat_2021, 2022: dat_2022}\n",
    "mixdict={}\n",
    "\n",
    "for year, dat in years.items():\n",
    "     dat=dat[dat['Provider']=='The London School of Economics and Political Science']\n",
    "     teachdat=dat[dat['Question Number']=='Scale01']\n",
    "     learndat=dat[dat['Question Number']=='Scale02']\n",
    "     assessdat=dat[dat['Question Number']=='Scale03']\n",
    "     supportdat=dat[dat['Question Number']=='Scale04']\n",
    "     orgdat=dat[dat['Question Number']=='Scale05']\n",
    "     resourcedat=dat[dat['Question Number']=='Scale06']\n",
    "     voicedat=dat[dat['Question Number']=='Scale08']\n",
    "    \n",
    "     columns_to_average = ['Answered 4', 'Answered 5']\n",
    "\n",
    "     # Calculate the mean along the columns axis (axis=1)\n",
    "     teach=teachdat[columns_to_average].mean().sum()*100\n",
    "     learn=learndat[columns_to_average].mean().sum()*100\n",
    "     assess=assessdat[columns_to_average].mean().sum()*100\n",
    "     support=supportdat[columns_to_average].mean().sum()*100\n",
    "     org=orgdat[columns_to_average].mean().sum()*100\n",
    "     resource=resourcedat[columns_to_average].mean().sum()*100\n",
    "     voice=voicedat[columns_to_average].mean().sum()*100\n",
    "\n",
    "     mixdict[year]= {'Teaching': teach, 'Learning Opportunities':learn, 'Assessment and Feedback':assess,\n",
    "                     'Academic Support': support, 'Organisation and Management': org, 'Learning Resources': resource,\n",
    "                     'Student Voice':voice}\n",
    "\n",
    "before2023=pd.DataFrame(mixdict)\n",
    "before_2023=before2023.round(1)\n",
    "before_2023"
   ]
  },
  {
   "cell_type": "markdown",
   "metadata": {},
   "source": [
    "We now need to join all the dataframes together."
   ]
  },
  {
   "cell_type": "code",
   "execution_count": 77,
   "metadata": {},
   "outputs": [
    {
     "data": {
      "text/html": [
       "<div>\n",
       "<style scoped>\n",
       "    .dataframe tbody tr th:only-of-type {\n",
       "        vertical-align: middle;\n",
       "    }\n",
       "\n",
       "    .dataframe tbody tr th {\n",
       "        vertical-align: top;\n",
       "    }\n",
       "\n",
       "    .dataframe thead th {\n",
       "        text-align: right;\n",
       "    }\n",
       "</style>\n",
       "<table border=\"1\" class=\"dataframe\">\n",
       "  <thead>\n",
       "    <tr style=\"text-align: right;\">\n",
       "      <th></th>\n",
       "      <th>2015</th>\n",
       "      <th>2016</th>\n",
       "      <th>2017</th>\n",
       "      <th>2018</th>\n",
       "      <th>2019</th>\n",
       "      <th>2020</th>\n",
       "      <th>2021</th>\n",
       "      <th>2022</th>\n",
       "      <th>2023</th>\n",
       "    </tr>\n",
       "  </thead>\n",
       "  <tbody>\n",
       "    <tr>\n",
       "      <th>Teaching</th>\n",
       "      <td>82.3</td>\n",
       "      <td>81.5</td>\n",
       "      <td>77.4</td>\n",
       "      <td>74.6</td>\n",
       "      <td>80.1</td>\n",
       "      <td>84.6</td>\n",
       "      <td>82.3</td>\n",
       "      <td>83.5</td>\n",
       "      <td>86.5</td>\n",
       "    </tr>\n",
       "    <tr>\n",
       "      <th>Learning Opportunities</th>\n",
       "      <td>70.4</td>\n",
       "      <td>64.3</td>\n",
       "      <td>71.2</td>\n",
       "      <td>68.4</td>\n",
       "      <td>74.6</td>\n",
       "      <td>78.0</td>\n",
       "      <td>75.8</td>\n",
       "      <td>79.1</td>\n",
       "      <td>79.4</td>\n",
       "    </tr>\n",
       "    <tr>\n",
       "      <th>Assessment and Feedback</th>\n",
       "      <td>70.0</td>\n",
       "      <td>62.7</td>\n",
       "      <td>61.8</td>\n",
       "      <td>61.6</td>\n",
       "      <td>69.3</td>\n",
       "      <td>72.2</td>\n",
       "      <td>68.2</td>\n",
       "      <td>69.7</td>\n",
       "      <td>71.1</td>\n",
       "    </tr>\n",
       "    <tr>\n",
       "      <th>Academic Support</th>\n",
       "      <td>77.4</td>\n",
       "      <td>63.9</td>\n",
       "      <td>65.3</td>\n",
       "      <td>66.5</td>\n",
       "      <td>71.0</td>\n",
       "      <td>76.3</td>\n",
       "      <td>74.1</td>\n",
       "      <td>75.5</td>\n",
       "      <td>87.4</td>\n",
       "    </tr>\n",
       "    <tr>\n",
       "      <th>Organisation and Management</th>\n",
       "      <td>86.4</td>\n",
       "      <td>83.5</td>\n",
       "      <td>73.4</td>\n",
       "      <td>73.9</td>\n",
       "      <td>78.0</td>\n",
       "      <td>82.9</td>\n",
       "      <td>77.1</td>\n",
       "      <td>78.2</td>\n",
       "      <td>80.7</td>\n",
       "    </tr>\n",
       "    <tr>\n",
       "      <th>Learning Resources</th>\n",
       "      <td>72.8</td>\n",
       "      <td>67.6</td>\n",
       "      <td>80.3</td>\n",
       "      <td>75.3</td>\n",
       "      <td>79.4</td>\n",
       "      <td>85.3</td>\n",
       "      <td>79.1</td>\n",
       "      <td>83.2</td>\n",
       "      <td>87.1</td>\n",
       "    </tr>\n",
       "  </tbody>\n",
       "</table>\n",
       "</div>"
      ],
      "text/plain": [
       "                             2015  2016  2017  2018  2019  2020  2021  2022  \\\n",
       "Teaching                     82.3  81.5  77.4  74.6  80.1  84.6  82.3  83.5   \n",
       "Learning Opportunities       70.4  64.3  71.2  68.4  74.6  78.0  75.8  79.1   \n",
       "Assessment and Feedback      70.0  62.7  61.8  61.6  69.3  72.2  68.2  69.7   \n",
       "Academic Support             77.4  63.9  65.3  66.5  71.0  76.3  74.1  75.5   \n",
       "Organisation and Management  86.4  83.5  73.4  73.9  78.0  82.9  77.1  78.2   \n",
       "Learning Resources           72.8  67.6  80.3  75.3  79.4  85.3  79.1  83.2   \n",
       "\n",
       "                             2023  \n",
       "Teaching                     86.5  \n",
       "Learning Opportunities       79.4  \n",
       "Assessment and Feedback      71.1  \n",
       "Academic Support             87.4  \n",
       "Organisation and Management  80.7  \n",
       "Learning Resources           87.1  "
      ]
     },
     "execution_count": 77,
     "metadata": {},
     "output_type": "execute_result"
    }
   ],
   "source": [
    "#As the years 2015-2016 do not have Student Voice, we will remove that\n",
    "#Learning Opportunities and Learning Resources are also not \n",
    "years_df = pd.concat([before2019, before_2023, dat_2023], axis=1)\n",
    "years_df=years_df.drop('Student Voice')\n",
    "years_df"
   ]
  },
  {
   "cell_type": "markdown",
   "metadata": {},
   "source": [
    "It seems student satisfaction has been on an upward trajectory, though to get a better understanding of the changes we will have to visualise these years. We now move to understanding how LSE is perceived online, through data from Reddit.com."
   ]
  },
  {
   "cell_type": "markdown",
   "metadata": {},
   "source": [
    "### Reddit LSE data"
   ]
  },
  {
   "cell_type": "markdown",
   "metadata": {},
   "source": [
    "A refresh of the format of the data frame used to store this data:"
   ]
  },
  {
   "cell_type": "code",
   "execution_count": 78,
   "metadata": {},
   "outputs": [
    {
     "ename": "FileNotFoundError",
     "evalue": "[Errno 2] No such file or directory: 'Data/reddit_data.csv'",
     "output_type": "error",
     "traceback": [
      "\u001b[0;31m---------------------------------------------------------------------------\u001b[0m",
      "\u001b[0;31mFileNotFoundError\u001b[0m                         Traceback (most recent call last)",
      "Cell \u001b[0;32mIn[78], line 1\u001b[0m\n\u001b[0;32m----> 1\u001b[0m lse_reddit_data_df \u001b[38;5;241m=\u001b[39m \u001b[43mpd\u001b[49m\u001b[38;5;241;43m.\u001b[39;49m\u001b[43mread_csv\u001b[49m\u001b[43m(\u001b[49m\u001b[38;5;124;43m\"\u001b[39;49m\u001b[38;5;124;43mData/reddit_data.csv\u001b[39;49m\u001b[38;5;124;43m\"\u001b[39;49m\u001b[43m)\u001b[49m\n\u001b[1;32m      2\u001b[0m lse_reddit_data_df\u001b[38;5;241m.\u001b[39mhead(\u001b[38;5;241m5\u001b[39m)\n",
      "File \u001b[0;32m~/anaconda3/lib/python3.10/site-packages/pandas/util/_decorators.py:211\u001b[0m, in \u001b[0;36mdeprecate_kwarg.<locals>._deprecate_kwarg.<locals>.wrapper\u001b[0;34m(*args, **kwargs)\u001b[0m\n\u001b[1;32m    209\u001b[0m     \u001b[38;5;28;01melse\u001b[39;00m:\n\u001b[1;32m    210\u001b[0m         kwargs[new_arg_name] \u001b[38;5;241m=\u001b[39m new_arg_value\n\u001b[0;32m--> 211\u001b[0m \u001b[38;5;28;01mreturn\u001b[39;00m \u001b[43mfunc\u001b[49m\u001b[43m(\u001b[49m\u001b[38;5;241;43m*\u001b[39;49m\u001b[43margs\u001b[49m\u001b[43m,\u001b[49m\u001b[43m \u001b[49m\u001b[38;5;241;43m*\u001b[39;49m\u001b[38;5;241;43m*\u001b[39;49m\u001b[43mkwargs\u001b[49m\u001b[43m)\u001b[49m\n",
      "File \u001b[0;32m~/anaconda3/lib/python3.10/site-packages/pandas/util/_decorators.py:331\u001b[0m, in \u001b[0;36mdeprecate_nonkeyword_arguments.<locals>.decorate.<locals>.wrapper\u001b[0;34m(*args, **kwargs)\u001b[0m\n\u001b[1;32m    325\u001b[0m \u001b[38;5;28;01mif\u001b[39;00m \u001b[38;5;28mlen\u001b[39m(args) \u001b[38;5;241m>\u001b[39m num_allow_args:\n\u001b[1;32m    326\u001b[0m     warnings\u001b[38;5;241m.\u001b[39mwarn(\n\u001b[1;32m    327\u001b[0m         msg\u001b[38;5;241m.\u001b[39mformat(arguments\u001b[38;5;241m=\u001b[39m_format_argument_list(allow_args)),\n\u001b[1;32m    328\u001b[0m         \u001b[38;5;167;01mFutureWarning\u001b[39;00m,\n\u001b[1;32m    329\u001b[0m         stacklevel\u001b[38;5;241m=\u001b[39mfind_stack_level(),\n\u001b[1;32m    330\u001b[0m     )\n\u001b[0;32m--> 331\u001b[0m \u001b[38;5;28;01mreturn\u001b[39;00m \u001b[43mfunc\u001b[49m\u001b[43m(\u001b[49m\u001b[38;5;241;43m*\u001b[39;49m\u001b[43margs\u001b[49m\u001b[43m,\u001b[49m\u001b[43m \u001b[49m\u001b[38;5;241;43m*\u001b[39;49m\u001b[38;5;241;43m*\u001b[39;49m\u001b[43mkwargs\u001b[49m\u001b[43m)\u001b[49m\n",
      "File \u001b[0;32m~/anaconda3/lib/python3.10/site-packages/pandas/io/parsers/readers.py:950\u001b[0m, in \u001b[0;36mread_csv\u001b[0;34m(filepath_or_buffer, sep, delimiter, header, names, index_col, usecols, squeeze, prefix, mangle_dupe_cols, dtype, engine, converters, true_values, false_values, skipinitialspace, skiprows, skipfooter, nrows, na_values, keep_default_na, na_filter, verbose, skip_blank_lines, parse_dates, infer_datetime_format, keep_date_col, date_parser, dayfirst, cache_dates, iterator, chunksize, compression, thousands, decimal, lineterminator, quotechar, quoting, doublequote, escapechar, comment, encoding, encoding_errors, dialect, error_bad_lines, warn_bad_lines, on_bad_lines, delim_whitespace, low_memory, memory_map, float_precision, storage_options)\u001b[0m\n\u001b[1;32m    935\u001b[0m kwds_defaults \u001b[38;5;241m=\u001b[39m _refine_defaults_read(\n\u001b[1;32m    936\u001b[0m     dialect,\n\u001b[1;32m    937\u001b[0m     delimiter,\n\u001b[0;32m   (...)\u001b[0m\n\u001b[1;32m    946\u001b[0m     defaults\u001b[38;5;241m=\u001b[39m{\u001b[38;5;124m\"\u001b[39m\u001b[38;5;124mdelimiter\u001b[39m\u001b[38;5;124m\"\u001b[39m: \u001b[38;5;124m\"\u001b[39m\u001b[38;5;124m,\u001b[39m\u001b[38;5;124m\"\u001b[39m},\n\u001b[1;32m    947\u001b[0m )\n\u001b[1;32m    948\u001b[0m kwds\u001b[38;5;241m.\u001b[39mupdate(kwds_defaults)\n\u001b[0;32m--> 950\u001b[0m \u001b[38;5;28;01mreturn\u001b[39;00m \u001b[43m_read\u001b[49m\u001b[43m(\u001b[49m\u001b[43mfilepath_or_buffer\u001b[49m\u001b[43m,\u001b[49m\u001b[43m \u001b[49m\u001b[43mkwds\u001b[49m\u001b[43m)\u001b[49m\n",
      "File \u001b[0;32m~/anaconda3/lib/python3.10/site-packages/pandas/io/parsers/readers.py:605\u001b[0m, in \u001b[0;36m_read\u001b[0;34m(filepath_or_buffer, kwds)\u001b[0m\n\u001b[1;32m    602\u001b[0m _validate_names(kwds\u001b[38;5;241m.\u001b[39mget(\u001b[38;5;124m\"\u001b[39m\u001b[38;5;124mnames\u001b[39m\u001b[38;5;124m\"\u001b[39m, \u001b[38;5;28;01mNone\u001b[39;00m))\n\u001b[1;32m    604\u001b[0m \u001b[38;5;66;03m# Create the parser.\u001b[39;00m\n\u001b[0;32m--> 605\u001b[0m parser \u001b[38;5;241m=\u001b[39m \u001b[43mTextFileReader\u001b[49m\u001b[43m(\u001b[49m\u001b[43mfilepath_or_buffer\u001b[49m\u001b[43m,\u001b[49m\u001b[43m \u001b[49m\u001b[38;5;241;43m*\u001b[39;49m\u001b[38;5;241;43m*\u001b[39;49m\u001b[43mkwds\u001b[49m\u001b[43m)\u001b[49m\n\u001b[1;32m    607\u001b[0m \u001b[38;5;28;01mif\u001b[39;00m chunksize \u001b[38;5;129;01mor\u001b[39;00m iterator:\n\u001b[1;32m    608\u001b[0m     \u001b[38;5;28;01mreturn\u001b[39;00m parser\n",
      "File \u001b[0;32m~/anaconda3/lib/python3.10/site-packages/pandas/io/parsers/readers.py:1442\u001b[0m, in \u001b[0;36mTextFileReader.__init__\u001b[0;34m(self, f, engine, **kwds)\u001b[0m\n\u001b[1;32m   1439\u001b[0m     \u001b[38;5;28mself\u001b[39m\u001b[38;5;241m.\u001b[39moptions[\u001b[38;5;124m\"\u001b[39m\u001b[38;5;124mhas_index_names\u001b[39m\u001b[38;5;124m\"\u001b[39m] \u001b[38;5;241m=\u001b[39m kwds[\u001b[38;5;124m\"\u001b[39m\u001b[38;5;124mhas_index_names\u001b[39m\u001b[38;5;124m\"\u001b[39m]\n\u001b[1;32m   1441\u001b[0m \u001b[38;5;28mself\u001b[39m\u001b[38;5;241m.\u001b[39mhandles: IOHandles \u001b[38;5;241m|\u001b[39m \u001b[38;5;28;01mNone\u001b[39;00m \u001b[38;5;241m=\u001b[39m \u001b[38;5;28;01mNone\u001b[39;00m\n\u001b[0;32m-> 1442\u001b[0m \u001b[38;5;28mself\u001b[39m\u001b[38;5;241m.\u001b[39m_engine \u001b[38;5;241m=\u001b[39m \u001b[38;5;28;43mself\u001b[39;49m\u001b[38;5;241;43m.\u001b[39;49m\u001b[43m_make_engine\u001b[49m\u001b[43m(\u001b[49m\u001b[43mf\u001b[49m\u001b[43m,\u001b[49m\u001b[43m \u001b[49m\u001b[38;5;28;43mself\u001b[39;49m\u001b[38;5;241;43m.\u001b[39;49m\u001b[43mengine\u001b[49m\u001b[43m)\u001b[49m\n",
      "File \u001b[0;32m~/anaconda3/lib/python3.10/site-packages/pandas/io/parsers/readers.py:1735\u001b[0m, in \u001b[0;36mTextFileReader._make_engine\u001b[0;34m(self, f, engine)\u001b[0m\n\u001b[1;32m   1733\u001b[0m     \u001b[38;5;28;01mif\u001b[39;00m \u001b[38;5;124m\"\u001b[39m\u001b[38;5;124mb\u001b[39m\u001b[38;5;124m\"\u001b[39m \u001b[38;5;129;01mnot\u001b[39;00m \u001b[38;5;129;01min\u001b[39;00m mode:\n\u001b[1;32m   1734\u001b[0m         mode \u001b[38;5;241m+\u001b[39m\u001b[38;5;241m=\u001b[39m \u001b[38;5;124m\"\u001b[39m\u001b[38;5;124mb\u001b[39m\u001b[38;5;124m\"\u001b[39m\n\u001b[0;32m-> 1735\u001b[0m \u001b[38;5;28mself\u001b[39m\u001b[38;5;241m.\u001b[39mhandles \u001b[38;5;241m=\u001b[39m \u001b[43mget_handle\u001b[49m\u001b[43m(\u001b[49m\n\u001b[1;32m   1736\u001b[0m \u001b[43m    \u001b[49m\u001b[43mf\u001b[49m\u001b[43m,\u001b[49m\n\u001b[1;32m   1737\u001b[0m \u001b[43m    \u001b[49m\u001b[43mmode\u001b[49m\u001b[43m,\u001b[49m\n\u001b[1;32m   1738\u001b[0m \u001b[43m    \u001b[49m\u001b[43mencoding\u001b[49m\u001b[38;5;241;43m=\u001b[39;49m\u001b[38;5;28;43mself\u001b[39;49m\u001b[38;5;241;43m.\u001b[39;49m\u001b[43moptions\u001b[49m\u001b[38;5;241;43m.\u001b[39;49m\u001b[43mget\u001b[49m\u001b[43m(\u001b[49m\u001b[38;5;124;43m\"\u001b[39;49m\u001b[38;5;124;43mencoding\u001b[39;49m\u001b[38;5;124;43m\"\u001b[39;49m\u001b[43m,\u001b[49m\u001b[43m \u001b[49m\u001b[38;5;28;43;01mNone\u001b[39;49;00m\u001b[43m)\u001b[49m\u001b[43m,\u001b[49m\n\u001b[1;32m   1739\u001b[0m \u001b[43m    \u001b[49m\u001b[43mcompression\u001b[49m\u001b[38;5;241;43m=\u001b[39;49m\u001b[38;5;28;43mself\u001b[39;49m\u001b[38;5;241;43m.\u001b[39;49m\u001b[43moptions\u001b[49m\u001b[38;5;241;43m.\u001b[39;49m\u001b[43mget\u001b[49m\u001b[43m(\u001b[49m\u001b[38;5;124;43m\"\u001b[39;49m\u001b[38;5;124;43mcompression\u001b[39;49m\u001b[38;5;124;43m\"\u001b[39;49m\u001b[43m,\u001b[49m\u001b[43m \u001b[49m\u001b[38;5;28;43;01mNone\u001b[39;49;00m\u001b[43m)\u001b[49m\u001b[43m,\u001b[49m\n\u001b[1;32m   1740\u001b[0m \u001b[43m    \u001b[49m\u001b[43mmemory_map\u001b[49m\u001b[38;5;241;43m=\u001b[39;49m\u001b[38;5;28;43mself\u001b[39;49m\u001b[38;5;241;43m.\u001b[39;49m\u001b[43moptions\u001b[49m\u001b[38;5;241;43m.\u001b[39;49m\u001b[43mget\u001b[49m\u001b[43m(\u001b[49m\u001b[38;5;124;43m\"\u001b[39;49m\u001b[38;5;124;43mmemory_map\u001b[39;49m\u001b[38;5;124;43m\"\u001b[39;49m\u001b[43m,\u001b[49m\u001b[43m \u001b[49m\u001b[38;5;28;43;01mFalse\u001b[39;49;00m\u001b[43m)\u001b[49m\u001b[43m,\u001b[49m\n\u001b[1;32m   1741\u001b[0m \u001b[43m    \u001b[49m\u001b[43mis_text\u001b[49m\u001b[38;5;241;43m=\u001b[39;49m\u001b[43mis_text\u001b[49m\u001b[43m,\u001b[49m\n\u001b[1;32m   1742\u001b[0m \u001b[43m    \u001b[49m\u001b[43merrors\u001b[49m\u001b[38;5;241;43m=\u001b[39;49m\u001b[38;5;28;43mself\u001b[39;49m\u001b[38;5;241;43m.\u001b[39;49m\u001b[43moptions\u001b[49m\u001b[38;5;241;43m.\u001b[39;49m\u001b[43mget\u001b[49m\u001b[43m(\u001b[49m\u001b[38;5;124;43m\"\u001b[39;49m\u001b[38;5;124;43mencoding_errors\u001b[39;49m\u001b[38;5;124;43m\"\u001b[39;49m\u001b[43m,\u001b[49m\u001b[43m \u001b[49m\u001b[38;5;124;43m\"\u001b[39;49m\u001b[38;5;124;43mstrict\u001b[39;49m\u001b[38;5;124;43m\"\u001b[39;49m\u001b[43m)\u001b[49m\u001b[43m,\u001b[49m\n\u001b[1;32m   1743\u001b[0m \u001b[43m    \u001b[49m\u001b[43mstorage_options\u001b[49m\u001b[38;5;241;43m=\u001b[39;49m\u001b[38;5;28;43mself\u001b[39;49m\u001b[38;5;241;43m.\u001b[39;49m\u001b[43moptions\u001b[49m\u001b[38;5;241;43m.\u001b[39;49m\u001b[43mget\u001b[49m\u001b[43m(\u001b[49m\u001b[38;5;124;43m\"\u001b[39;49m\u001b[38;5;124;43mstorage_options\u001b[39;49m\u001b[38;5;124;43m\"\u001b[39;49m\u001b[43m,\u001b[49m\u001b[43m \u001b[49m\u001b[38;5;28;43;01mNone\u001b[39;49;00m\u001b[43m)\u001b[49m\u001b[43m,\u001b[49m\n\u001b[1;32m   1744\u001b[0m \u001b[43m\u001b[49m\u001b[43m)\u001b[49m\n\u001b[1;32m   1745\u001b[0m \u001b[38;5;28;01massert\u001b[39;00m \u001b[38;5;28mself\u001b[39m\u001b[38;5;241m.\u001b[39mhandles \u001b[38;5;129;01mis\u001b[39;00m \u001b[38;5;129;01mnot\u001b[39;00m \u001b[38;5;28;01mNone\u001b[39;00m\n\u001b[1;32m   1746\u001b[0m f \u001b[38;5;241m=\u001b[39m \u001b[38;5;28mself\u001b[39m\u001b[38;5;241m.\u001b[39mhandles\u001b[38;5;241m.\u001b[39mhandle\n",
      "File \u001b[0;32m~/anaconda3/lib/python3.10/site-packages/pandas/io/common.py:856\u001b[0m, in \u001b[0;36mget_handle\u001b[0;34m(path_or_buf, mode, encoding, compression, memory_map, is_text, errors, storage_options)\u001b[0m\n\u001b[1;32m    851\u001b[0m \u001b[38;5;28;01melif\u001b[39;00m \u001b[38;5;28misinstance\u001b[39m(handle, \u001b[38;5;28mstr\u001b[39m):\n\u001b[1;32m    852\u001b[0m     \u001b[38;5;66;03m# Check whether the filename is to be opened in binary mode.\u001b[39;00m\n\u001b[1;32m    853\u001b[0m     \u001b[38;5;66;03m# Binary mode does not support 'encoding' and 'newline'.\u001b[39;00m\n\u001b[1;32m    854\u001b[0m     \u001b[38;5;28;01mif\u001b[39;00m ioargs\u001b[38;5;241m.\u001b[39mencoding \u001b[38;5;129;01mand\u001b[39;00m \u001b[38;5;124m\"\u001b[39m\u001b[38;5;124mb\u001b[39m\u001b[38;5;124m\"\u001b[39m \u001b[38;5;129;01mnot\u001b[39;00m \u001b[38;5;129;01min\u001b[39;00m ioargs\u001b[38;5;241m.\u001b[39mmode:\n\u001b[1;32m    855\u001b[0m         \u001b[38;5;66;03m# Encoding\u001b[39;00m\n\u001b[0;32m--> 856\u001b[0m         handle \u001b[38;5;241m=\u001b[39m \u001b[38;5;28;43mopen\u001b[39;49m\u001b[43m(\u001b[49m\n\u001b[1;32m    857\u001b[0m \u001b[43m            \u001b[49m\u001b[43mhandle\u001b[49m\u001b[43m,\u001b[49m\n\u001b[1;32m    858\u001b[0m \u001b[43m            \u001b[49m\u001b[43mioargs\u001b[49m\u001b[38;5;241;43m.\u001b[39;49m\u001b[43mmode\u001b[49m\u001b[43m,\u001b[49m\n\u001b[1;32m    859\u001b[0m \u001b[43m            \u001b[49m\u001b[43mencoding\u001b[49m\u001b[38;5;241;43m=\u001b[39;49m\u001b[43mioargs\u001b[49m\u001b[38;5;241;43m.\u001b[39;49m\u001b[43mencoding\u001b[49m\u001b[43m,\u001b[49m\n\u001b[1;32m    860\u001b[0m \u001b[43m            \u001b[49m\u001b[43merrors\u001b[49m\u001b[38;5;241;43m=\u001b[39;49m\u001b[43merrors\u001b[49m\u001b[43m,\u001b[49m\n\u001b[1;32m    861\u001b[0m \u001b[43m            \u001b[49m\u001b[43mnewline\u001b[49m\u001b[38;5;241;43m=\u001b[39;49m\u001b[38;5;124;43m\"\u001b[39;49m\u001b[38;5;124;43m\"\u001b[39;49m\u001b[43m,\u001b[49m\n\u001b[1;32m    862\u001b[0m \u001b[43m        \u001b[49m\u001b[43m)\u001b[49m\n\u001b[1;32m    863\u001b[0m     \u001b[38;5;28;01melse\u001b[39;00m:\n\u001b[1;32m    864\u001b[0m         \u001b[38;5;66;03m# Binary mode\u001b[39;00m\n\u001b[1;32m    865\u001b[0m         handle \u001b[38;5;241m=\u001b[39m \u001b[38;5;28mopen\u001b[39m(handle, ioargs\u001b[38;5;241m.\u001b[39mmode)\n",
      "\u001b[0;31mFileNotFoundError\u001b[0m: [Errno 2] No such file or directory: 'Data/reddit_data.csv'"
     ]
    }
   ],
   "source": [
    "lse_reddit_data_df = pd.read_csv(\"Data/reddit_data.csv\")\n",
    "lse_reddit_data_df.head(5)"
   ]
  },
  {
   "cell_type": "markdown",
   "metadata": {},
   "source": [
    "The first thing to check is the number of duplicate or null values. As you can see below, there is neither for both.\n",
    "- There are no null values since the code used to access the top comment from each post was written to only add the post to the dataframe if it contained a comment. \n",
    "\n",
    "- There are no duplicate posts since the chance of two identical strings of words is highly unlikely."
   ]
  },
  {
   "cell_type": "code",
   "execution_count": null,
   "metadata": {},
   "outputs": [],
   "source": [
    "num_duplicates = lse_reddit_data_df.duplicated().sum()\n",
    "print(f\"Number of duplicate rows: {num_duplicates}\")"
   ]
  },
  {
   "cell_type": "code",
   "execution_count": null,
   "metadata": {},
   "outputs": [],
   "source": [
    "total_nulls = lse_reddit_data_df.isnull().sum().sum()\n",
    "print(f\"Number of null values: {total_nulls}\")\n",
    "print(lse_reddit_data_df.shape)"
   ]
  },
  {
   "cell_type": "markdown",
   "metadata": {},
   "source": [
    "We only want to consider posts that have a high amount of upvotes, since they are more likely to be helpful and insightful information if other users liked them. We can acheive this by removing posts whose score is below '30', of which there way only one. This number was decided given the maximum score was 327 and the mean score was 97.\n",
    "\n",
    "It is worth noting that the posts are already sorted in order of descending score, since that is a paramter included in the Reddit API call."
   ]
  },
  {
   "cell_type": "code",
   "execution_count": null,
   "metadata": {},
   "outputs": [],
   "source": [
    "print(f\"Maximum score: {lse_reddit_data_df['Score'].max()}\")\n",
    "print(f\"Mean score: {int(lse_reddit_data_df['Score'].mean())}\")\n",
    "print(f\"Current number of posts: {lse_reddit_data_df.shape[0]}\")\n",
    "num_low_score_posts = (lse_reddit_data_df['Score']<= 30).sum()\n",
    "print(f\"Number of posts with a score of 5 or below: {num_low_score_posts}\")\n",
    "lse_reddit_data_df = lse_reddit_data_df[lse_reddit_data_df['Score'] > 30]\n",
    "print(f\"New number of posts: {lse_reddit_data_df.shape[0]}\")\n",
    "\n",
    "\n",
    "lse_reddit_data_df.head(5)"
   ]
  },
  {
   "cell_type": "markdown",
   "metadata": {},
   "source": [
    "### Reddit COVID-19 Data"
   ]
  },
  {
   "cell_type": "markdown",
   "metadata": {},
   "source": [
    "Similar to the procedure above, the below dataframe about reddit posts that contain the word 'covid' is imported from a csv file and saved as a dataframe."
   ]
  },
  {
   "cell_type": "code",
   "execution_count": null,
   "metadata": {},
   "outputs": [],
   "source": [
    "covid_reddit_data_df = pd.read_csv(\"Data/covid_reddit_data.csv\")\n",
    "covid_reddit_data_df.head(5)"
   ]
  },
  {
   "cell_type": "markdown",
   "metadata": {},
   "source": [
    "To clean the data frame, rows where the value in the 'Top Comment' column was '[deleted]' are removed as this was considered a null value, and where the score is 0.\n"
   ]
  },
  {
   "cell_type": "code",
   "execution_count": null,
   "metadata": {},
   "outputs": [],
   "source": [
    "#remove null values\n",
    "covid_reddit_data_df = covid_reddit_data_df[covid_reddit_data_df['Top Comment'] != '[deleted]']\n",
    "\n",
    "#find summary statistics, remove low  scores\n",
    "print(f\"Maximum score: {covid_reddit_data_df['Score'].max()}\")\n",
    "print(f\"Mean score: {int(covid_reddit_data_df['Score'].mean())}\")\n",
    "print(f\"Current number of posts: {covid_reddit_data_df.shape[0]}\")\n",
    "num_low_score_posts = (covid_reddit_data_df['Score']== 0).sum()\n",
    "print(f\"Number of posts with a score of 0: {num_low_score_posts}\")\n",
    "covid_reddit_data_df = covid_reddit_data_df[covid_reddit_data_df['Score'] > 0]\n",
    "print(f\"New number of posts: {covid_reddit_data_df.shape[0]}\")\n",
    "\n",
    "#display the full comment in the 'Top Comment' column\n",
    "pd.set_option('display.max_colwidth', None)\n",
    "\n",
    "covid_reddit_data_df.head(5)"
   ]
  },
  {
   "cell_type": "markdown",
   "metadata": {},
   "source": [
    "The next step was to extract any information about how COVID-19 impacted universtity students in London. The results were as follows:\n",
    "\n",
    "Only 3/200 posts mentioned the words in the 'keywords' list below that were linked to the city of London, or the names of the biggest universities in London. Of the three posts outputted, only one details the impact of COVID-19 on student life by discussing online learning in the King's College London Physics degree. However, they are descirbing the benefits of this course due to it having compulsory in-person labs, whereas most posts in the previous dataframe have a negative view.\n",
    "\n",
    "The scores of these posts are also all lower than the mean score of 117, signifying there are not as relevant compared to other posts about COVID-19.\n",
    "\n",
    "The lack of results could be explained by the following reasons:\n",
    "\n",
    "- Whether a university was located in London had no impact on the student satisfaction during/after COVID-19.\n",
    "- Students chose not to mentioned the university they attended when posting on the website.\n",
    "- The information was not accurately gathered as there are too many variations of university names or other\n",
    "identifying phrases of a student being located in London.\n",
    "- The sample size was to small.\n",
    "\n"
   ]
  },
  {
   "cell_type": "code",
   "execution_count": null,
   "metadata": {},
   "outputs": [],
   "source": [
    "keywords = [' lse ', ' ucl ', 'london', ' kcl ', 'kings', ' icl ', 'imperical',\n",
    "            'imperical', ' ual ', ' uol ', 'university of london ', 'university of west london',\n",
    "            'university of east london', 'london metropolitan university', ' london met', 'university of greenwhich',\n",
    "            'university of westminster', 'middlesex university', 'london southbank',\n",
    "            \"regent's university\", 'university of roehampton', 'ravensbourne university', 'royal college of art',' rcoa ',\n",
    "            'birkbeck', ' bpp university', 'guildhall school', 'royal college of music', ' lbs ', 'london business school',\n",
    "            'rada']\n",
    "\n",
    "#find posts containing any keywords\n",
    "london_filtered_df = covid_reddit_data_df[covid_reddit_data_df['Title'].str.contains('|'.join(keywords), case=False, na=False) |\n",
    "                 covid_reddit_data_df['Top Comment'].str.contains('|'.join(keywords), case=False, na=False)]\n",
    "\n",
    "london_filtered_df"
   ]
  },
  {
   "cell_type": "markdown",
   "metadata": {},
   "source": [
    "### Reddit data regarding LSE, UCL, Kings, and Imperial's sentiment analysis"
   ]
  },
  {
   "cell_type": "markdown",
   "metadata": {},
   "source": [
    "all comments and visualisation are temporary. only the data is polished (ish) stuff. could be optimised further\n",
    "\n",
    "Data obtained through reddit regarding the online perception of LSE is useful, as it may highlight areas for improvement or key strengths. However, with data regarding LSE's perception, it's hard to gauge how LSE is perceived online as people may act differently online, for example, they may be more negative generally due to the anonymity.\n",
    "\n",
    "Therefore, it's important to put this data into context, by comparing it with data from other universities. The universities we shall be comparing it to are UCL, Kings, and Imperial. This is because these universities are all in London, a factor which can't be changed about LSE, and they are all considered elite universities, generally referred to as the big four London unversities.\n",
    "\n",
    "We are limiting the comparisons to these 3 other universities only, for ease of collection and analysis, and they all share similar problems which relate to their location and elite reputation, which can't be easily overcome if at all."
   ]
  },
  {
   "cell_type": "markdown",
   "metadata": {},
   "source": [
    "1)Do graph representation and visual statistics showing differences between LSE vs Imperial vs Kings vs UCL sentiment analysis scores online\n",
    "\n",
    "2)Perform a wordcloud for LSE vs Imperial vs Kings vs UCL, to show the differences in words most commonly associated with those univerisities."
   ]
  },
  {
   "cell_type": "markdown",
   "metadata": {},
   "source": [
    "The below code provides the functions which shall be used, to make an API request to openAI to perform sentiment analysis on the reddit titles, and comments, and also to filter out non-informative words from these titles and comments for the word cloud."
   ]
  },
  {
   "cell_type": "code",
   "execution_count": null,
   "metadata": {},
   "outputs": [],
   "source": [
    "with open('Data/keys.json') as f:\n",
    "    keys = json.load(f)\n",
    "API_KEY = keys['openAI']\n",
    "\n",
    "\n",
    "from openai import OpenAI\n",
    "\n",
    "\n",
    "client = OpenAI(api_key = API_KEY)"
   ]
  },
  {
   "cell_type": "code",
   "execution_count": null,
   "metadata": {},
   "outputs": [],
   "source": [
    "def analyze_sentiment(comment, university):\n",
    "    response = client.chat.completions.create(\n",
    "        model=\"gpt-3.5-turbo\",\n",
    "        messages=[\n",
    "            {\"role\": \"system\", \"content\": f\"You are a helpful assistant analyzing the positivity or negativity of reddit comments regarding the student satisfaction of {university}, rate each comment between -1 and 1, -1 represents most negative, 0 represents neutral, and 1 represents most positive. Only reply with the number, do not reply with any words under any circumstace\"},\n",
    "            {\"role\": \"user\", \"content\": comment},\n",
    "        ]\n",
    "    )\n",
    "    return response.choices[0].message.content\n",
    "\n",
    "def filter_text(comment, university):\n",
    "    response = client.chat.completions.create(\n",
    "        model=\"gpt-3.5-turbo\",\n",
    "        messages=[\n",
    "            {\"role\": \"system\", \"content\": f\"You are a helpful assistant assisting in creating a word cloud graph about student satisfaction regarding {university}, from reddit comments. Please remove any words from the comments which don't provide any information regarding student satisfaction about {university}, the comments regarding student satisfaction and experience surrounding {university} can be neutral, negative, positive. Please return the words in a string, with each word separated by a whitespace character.\"},\n",
    "            {\"role\": \"user\", \"content\": comment},\n",
    "        ]\n",
    "    )\n",
    "    return response.choices[0].message.content\n"
   ]
  },
  {
   "cell_type": "markdown",
   "metadata": {},
   "source": [
    "Below, we will go through the dataframes for LSE, Kings, UCL and Imperial, use the openAI API to generate sentiment analysis scores for each title and comment, and store these back into another dataframe. We must filter the reddit data in the same way we did to the LSE reddit data."
   ]
  },
  {
   "cell_type": "code",
   "execution_count": null,
   "metadata": {},
   "outputs": [],
   "source": [
    "kings_reddit_data_df = pd.read_csv(\"Data/kings_reddit_data.csv\")\n",
    "ucl_reddit_data_df = pd.read_csv(\"Data/ucl_reddit_data.csv\")\n",
    "imperial_reddit_data_df = pd.read_csv(\"Data/imperial_reddit_data.csv\")\n",
    "\n",
    "\n",
    "other_london_reddit_data_df = [kings_reddit_data_df, ucl_reddit_data_df, imperial_reddit_data_df]\n",
    "\n",
    "\n",
    "for df in other_london_reddit_data_df:\n",
    "    df = df[df['Score'] > 30]"
   ]
  },
  {
   "cell_type": "code",
   "execution_count": null,
   "metadata": {},
   "outputs": [],
   "source": [
    "dataframes = [lse_reddit_data_df, kings_reddit_data_df, ucl_reddit_data_df, imperial_reddit_data_df]\n",
    "sentiment_analysis_dfs = [lse_sentiment_analysis_df, kings_sentiment_analysis_df, ucl_sentiment_analysis_df, imperial_sentiment_analysis_df]\n",
    "university_names_api = ['the London School of Economics (LSE)', 'Kings College London (Kings)', 'University College London (UCL)', 'Imperial College London (Imperial)']\n",
    "\n",
    "\n",
    "for dataframe, sentiment_analysis_df, name in zip(dataframes, sentiment_analysis_dfs, university_names_api):\n",
    "    sentiment_analysis_df = pd.DataFrame(columns=['Title', 'Title_Sentiment_Score', 'Top_Comment', 'Top_Comment_Sentiment_Score'])\n",
    "    for index, row in dataframe.iterrows():\n",
    "        title_sentiment = analyze_sentiment(row[0], name)\n",
    "        comment_sentiment = analyze_sentiment(row[2], name)\n",
    "        sentiment_analysis_df.loc[index] = [row[0], title_sentiment, row[2], comment_sentiment]"
   ]
  },
  {
   "cell_type": "code",
   "execution_count": null,
   "metadata": {},
   "outputs": [],
   "source": [
    "lse_sentiment_analysis_df"
   ]
  },
  {
   "cell_type": "code",
   "execution_count": null,
   "metadata": {},
   "outputs": [],
   "source": [
    "kings_sentiment_analysis_df"
   ]
  },
  {
   "cell_type": "code",
   "execution_count": null,
   "metadata": {},
   "outputs": [],
   "source": [
    "ucl_sentiment_analysis_df"
   ]
  },
  {
   "cell_type": "code",
   "execution_count": null,
   "metadata": {},
   "outputs": [],
   "source": [
    "imperial_sentiment_analysis_df"
   ]
  },
  {
   "cell_type": "code",
   "execution_count": null,
   "metadata": {},
   "outputs": [],
   "source": [
    "# imperial_sentiment_analysis_df.drop(6, inplace=True)"
   ]
  },
  {
   "cell_type": "code",
   "execution_count": null,
   "metadata": {},
   "outputs": [],
   "source": [
    "imperial_sentiment_analysis_df.reset_index(drop=True, inplace=True)"
   ]
  },
  {
   "cell_type": "code",
   "execution_count": null,
   "metadata": {},
   "outputs": [],
   "source": [
    "imperial_sentiment_analysis_df"
   ]
  },
  {
   "cell_type": "code",
   "execution_count": null,
   "metadata": {},
   "outputs": [],
   "source": [
    "def clean_sentiment_data(input_df):\n",
    "    cleaned_df = pd.DataFrame(columns=['Title_Sentiment_Score', 'Top_Comment_Sentiment_Score'])\n",
    "    for index, value in input_df.iterrows():\n",
    "        cleaned_df.loc[index] = [float(input_df.iloc[index][1]), float(input_df.iloc[index][3])]\n",
    "    return cleaned_df"
   ]
  },
  {
   "cell_type": "code",
   "execution_count": null,
   "metadata": {},
   "outputs": [],
   "source": [
    "lse_sentiment_cleaned = clean_sentiment_data(lse_sentiment_analysis_df)\n",
    "kings_sentiment_cleaned = clean_sentiment_data(kings_sentiment_analysis_df)\n",
    "ucl_sentiment_cleaned = clean_sentiment_data(ucl_sentiment_analysis_df)\n",
    "imperial_sentiment_cleaned = clean_sentiment_data(imperial_sentiment_analysis_df)\n"
   ]
  },
  {
   "cell_type": "markdown",
   "metadata": {},
   "source": [
    "For ease of convenience, and to maximise the available data possible, we shall incorporate both the sentiment score for the title and the top comment."
   ]
  },
  {
   "cell_type": "code",
   "execution_count": null,
   "metadata": {},
   "outputs": [],
   "source": [
    "lse_sentiment_cleaned_comb = pd.concat([lse_sentiment_cleaned['Title_Sentiment_Score'], lse_sentiment_cleaned['Top_Comment_Sentiment_Score']])\n",
    "kings_sentiment_cleaned_comb = pd.concat([kings_sentiment_cleaned['Title_Sentiment_Score'], kings_sentiment_cleaned['Top_Comment_Sentiment_Score']])\n",
    "ucl_sentiment_cleaned_comb = pd.concat([ucl_sentiment_cleaned['Title_Sentiment_Score'], ucl_sentiment_cleaned['Top_Comment_Sentiment_Score']])\n",
    "imperial_sentiment_cleaned_comb = pd.concat([imperial_sentiment_cleaned['Title_Sentiment_Score'], imperial_sentiment_cleaned['Top_Comment_Sentiment_Score']])"
   ]
  },
  {
   "cell_type": "code",
   "execution_count": null,
   "metadata": {},
   "outputs": [],
   "source": [
    "lse_sentiment_cleaned_comb.head(5)"
   ]
  },
  {
   "cell_type": "code",
   "execution_count": null,
   "metadata": {},
   "outputs": [],
   "source": [
    "kings_sentiment_cleaned_comb.head(5)"
   ]
  },
  {
   "cell_type": "code",
   "execution_count": null,
   "metadata": {},
   "outputs": [],
   "source": [
    "ucl_sentiment_cleaned_comb.head(5)"
   ]
  },
  {
   "cell_type": "code",
   "execution_count": null,
   "metadata": {},
   "outputs": [],
   "source": [
    "imperial_sentiment_cleaned_comb.head(5)"
   ]
  },
  {
   "cell_type": "markdown",
   "metadata": {},
   "source": [
    "## WARNING: THE FOLLOWING CODE TAKES A LONG TIME TO RUN!"
   ]
  },
  {
   "cell_type": "code",
   "execution_count": null,
   "metadata": {},
   "outputs": [],
   "source": [
    "#Please note that the following code takes about 5-10 minutes to run, as it filters through many \n",
    "#reddit comments for 4 universities, it will inform you of its progress as it runs.\n",
    "\n",
    "\n",
    "print('Please note that the following code takes about 5-10 minutes to run, it will inform you each time one of the four dataframes has been filtered')\n",
    "\n",
    "\n",
    "lse_filtered_text = set()\n",
    "kings_filtered_text = set()\n",
    "ucl_filtered_text = set()\n",
    "imperial_filtered_text = set()\n",
    "uni_filtered_texts = [lse_filtered_text, kings_filtered_text,ucl_filtered_text, imperial_filtered_text]\n",
    "university_names_api = ['the London School of Economics (LSE)', 'Kings College London (Kings)', 'University College London (UCL)', 'Imperical College London (Imperial)']\n",
    "\n",
    "\n",
    "i = 1\n",
    "for dataframe, uni_filtered_text, name in zip(dataframes, uni_filtered_texts, university_names_api):\n",
    "    \n",
    "    for index, row in dataframe.iterrows():\n",
    "        title_filtered = filter_text(row[0], name)\n",
    "        comment_filtered = filter_text(row[2], name)\n",
    "        uni_filtered_text.update(title_filtered.split())\n",
    "        uni_filtered_text.update(comment_filtered.split())\n",
    "        \n",
    "    print(f'Dataframe {i}/4 complete')\n",
    "    i += 1\n",
    "\n",
    "\n",
    "lse_word_cloud = WordCloud(width=800, height=400, background_color='white').generate(' '.join(lse_filtered_text))\n",
    "kings_word_cloud = WordCloud(width=800, height=400, background_color='white').generate(' '.join(kings_filtered_text))\n",
    "ucl_word_cloud = WordCloud(width=800, height=400, background_color='white').generate(' '.join(ucl_filtered_text))\n",
    "imperial_word_cloud = WordCloud(width=800, height=400, background_color='white').generate(' '.join(imperial_filtered_text))"
   ]
  },
  {
   "cell_type": "markdown",
   "metadata": {},
   "source": [
    "# Data analysis and Visualisation"
   ]
  },
  {
   "cell_type": "markdown",
   "metadata": {},
   "source": [
    "### How does LSE student satisfaction compare to other universities? (Using NSS Data)\n",
    "\n",
    "\n",
    "Let's first remember the dataframe we created to answer this question."
   ]
  },
  {
   "cell_type": "code",
   "execution_count": null,
   "metadata": {},
   "outputs": [],
   "source": [
    "overall_df #universities"
   ]
  },
  {
   "cell_type": "markdown",
   "metadata": {},
   "source": [
    "### How does LSE student satisfaction compare to other universities? (Using Reddit Data)"
   ]
  },
  {
   "cell_type": "markdown",
   "metadata": {},
   "source": [
    "Firstly, we shall view the summary statistics for the sentiment scores for each of the four universities to be compared."
   ]
  },
  {
   "cell_type": "code",
   "execution_count": null,
   "metadata": {},
   "outputs": [],
   "source": [
    "kings_sentiment_cleaned_comb.describe()"
   ]
  },
  {
   "cell_type": "code",
   "execution_count": null,
   "metadata": {},
   "outputs": [],
   "source": [
    "ucl_sentiment_cleaned_comb.describe()"
   ]
  },
  {
   "cell_type": "code",
   "execution_count": null,
   "metadata": {},
   "outputs": [],
   "source": [
    "imperial_sentiment_cleaned_comb.describe()"
   ]
  },
  {
   "cell_type": "code",
   "execution_count": null,
   "metadata": {
    "scrolled": true
   },
   "outputs": [],
   "source": [
    "lse_sentiment_cleaned_comb.describe()"
   ]
  },
  {
   "cell_type": "markdown",
   "metadata": {},
   "source": [
    "blah blah blah blah. blah blah blah blah. blah blah blah. thats what the summary statistics show : )"
   ]
  },
  {
   "cell_type": "code",
   "execution_count": null,
   "metadata": {},
   "outputs": [],
   "source": [
    "plt.figure(figsize=(10, 6))\n",
    "plt.boxplot([lse_sentiment_cleaned_comb, kings_sentiment_cleaned_comb, ucl_sentiment_cleaned_comb, imperial_sentiment_cleaned_comb], labels=['LSE', 'Kings', 'UCL', 'Imperial'])\n",
    "plt.title('Comparison of Sentiment Scores from London Universities')\n",
    "plt.xlabel('University')\n",
    "plt.ylabel('Sentiment score')\n",
    "plt.grid(True)\n",
    "plt.show()"
   ]
  },
  {
   "cell_type": "markdown",
   "metadata": {},
   "source": [
    "BLAH BLAH BLAH, TALK ABOUT THE ABOVE BLAH BLAH BLAH BLAH BLAH BLAH BLAH BLAH BLAH BLABH lbahbds bdkah lbl ablah blahb albh alb halbl blah blahblabh alb al"
   ]
  },
  {
   "cell_type": "code",
   "execution_count": null,
   "metadata": {},
   "outputs": [],
   "source": [
    "fig, axs = plt.subplots(2, 2, figsize=(10, 10))\n",
    "\n",
    "axs[0, 0].hist(lse_sentiment_cleaned_comb, bins=10, alpha=0.5)\n",
    "axs[0, 0].set_title('LSE')\n",
    "axs[0, 0].set_xlabel('Sentiment Score')\n",
    "axs[0, 0].set_ylabel('Frequency')\n",
    "\n",
    "axs[0, 1].hist(kings_sentiment_cleaned_comb, bins=10, alpha=0.5)\n",
    "axs[0, 1].set_title('Kings')\n",
    "axs[0, 1].set_xlabel('Sentiment Score')\n",
    "axs[0, 1].set_ylabel('Frequency')\n",
    "\n",
    "\n",
    "axs[1, 0].hist(ucl_sentiment_cleaned_comb, bins=10, alpha=0.5)\n",
    "axs[1, 0].set_title('UCL')\n",
    "axs[1, 0].set_xlabel('Sentiment Score')\n",
    "axs[1, 0].set_ylabel('Frequency')\n",
    "\n",
    "axs[1, 1].hist(imperial_sentiment_cleaned_comb, bins=10, alpha=0.5)\n",
    "axs[1, 1].set_title('Imperial')\n",
    "axs[1, 1].set_xlabel('Sentiment Score')\n",
    "axs[1, 1].set_ylabel('Frequency')\n",
    "\n",
    "plt.tight_layout()\n",
    "\n",
    "plt.show()"
   ]
  },
  {
   "cell_type": "code",
   "execution_count": null,
   "metadata": {},
   "outputs": [],
   "source": [
    "plt.figure(figsize=(10, 5))\n",
    "plt.imshow(lse_word_cloud, interpolation='bilinear')\n",
    "plt.axis('off')\n",
    "plt.show()"
   ]
  },
  {
   "cell_type": "code",
   "execution_count": null,
   "metadata": {},
   "outputs": [],
   "source": [
    "plt.figure(figsize=(10, 5))\n",
    "plt.imshow(kings_word_cloud, interpolation='bilinear')\n",
    "plt.axis('off')\n",
    "plt.show()"
   ]
  },
  {
   "cell_type": "code",
   "execution_count": null,
   "metadata": {
    "scrolled": true
   },
   "outputs": [],
   "source": [
    "plt.figure(figsize=(10, 5))\n",
    "plt.imshow(imperial_word_cloud, interpolation='bilinear')\n",
    "plt.axis('off')\n",
    "plt.show()"
   ]
  },
  {
   "cell_type": "code",
   "execution_count": null,
   "metadata": {},
   "outputs": [],
   "source": [
    "plt.figure(figsize=(10, 5))\n",
    "plt.imshow(ucl_word_cloud, interpolation='bilinear')\n",
    "plt.axis('off')\n",
    "plt.show()"
   ]
  },
  {
   "cell_type": "markdown",
   "metadata": {},
   "source": [
    "### How does student satisfaction in LSE vary by degree?\n",
    "\n",
    "Once again, let's remind ourselves of the Dataframe we created to answer this question."
   ]
  },
  {
   "cell_type": "code",
   "execution_count": null,
   "metadata": {},
   "outputs": [],
   "source": [
    "overall_subjectdf\n",
    "\n",
    "#Teaching, Learning Opportunities, Academic Support, Organisation and Management\n",
    "#teach_df, learn_df, support_df, org_df"
   ]
  },
  {
   "cell_type": "markdown",
   "metadata": {},
   "source": [
    "### How has student satisfaction at the LSE changed over time?\n",
    "\n",
    "Below, is the years_df we will use to answer this question."
   ]
  },
  {
   "cell_type": "code",
   "execution_count": null,
   "metadata": {},
   "outputs": [],
   "source": [
    "years_df"
   ]
  },
  {
   "cell_type": "code",
   "execution_count": null,
   "metadata": {},
   "outputs": [],
   "source": [
    "transposed_df = years_df.transpose()\n",
    "\n",
    "# Plot\n",
    "plt.figure(figsize=(10, 6))\n",
    "for column in transposed_df.columns:\n",
    "    plt.plot(transposed_df.index, transposed_df[column], marker='o', label=column)\n",
    "\n",
    "plt.title('Academic Metrics Over Years')\n",
    "plt.xlabel('Year')\n",
    "plt.ylabel('Positivity Percentage (%)')\n",
    "plt.grid(True)\n",
    "plt.tight_layout()\n",
    "\n",
    "# Display the legend separately\n",
    "plt.legend(loc='center left', bbox_to_anchor=(1, 0.5))\n",
    "\n",
    "plt.show()"
   ]
  },
  {
   "cell_type": "markdown",
   "metadata": {},
   "source": [
    "Though it seems clear that student satisfaction has been rising over the years in most categories (also remember, that the questions for 2023 had a slightly different format), we  want to get a better idea of the general trend by plotting a line of best fit for each category. Also, since we are dealing with percentages it seems a bit unwise to use this to predict the future years student satisfaction scores. "
   ]
  },
  {
   "cell_type": "code",
   "execution_count": null,
   "metadata": {},
   "outputs": [],
   "source": [
    "years = years_df.columns.astype(int).values\n",
    "\n",
    "# Initialize a plot\n",
    "plt.figure(figsize=(10, 6))\n",
    "\n",
    "# Loop through each category\n",
    "for category in years_df.index:\n",
    "    # Extract the data for the current category\n",
    "    category_data = years_df.loc[category].values\n",
    "    \n",
    "    # Perform linear regression\n",
    "    slope, intercept, _, _, _ = linregress(years, category_data)\n",
    "    \n",
    "    # Predict values for all years using the regression line\n",
    "    predicted_values = slope * years + intercept\n",
    "    \n",
    "    \n",
    "    # Plot the line of best fit\n",
    "    plt.plot(years, predicted_values, label=f'{category} Fit')\n",
    "\n",
    "plt.xlabel('Year')\n",
    "plt.ylabel('Positivity Percentage (%)')\n",
    "plt.title('Line of Best Fit for Categories')\n",
    "plt.legend(loc='center left', bbox_to_anchor=(1, 0.5))\n",
    "plt.grid(True)\n",
    "plt.show()"
   ]
  },
  {
   "cell_type": "markdown",
   "metadata": {},
   "source": [
    "So, it seems as if student satisfaction is rising in most categories, though there are huge fluctuations year to year and so the future is uncertain. The plots also show interesting details, like the fact that through all of the years LSE students are least happy with 'Assessment and Feedback' topic."
   ]
  },
  {
   "cell_type": "markdown",
   "metadata": {},
   "source": [
    "# Conclusion"
   ]
  },
  {
   "cell_type": "markdown",
   "metadata": {},
   "source": [
    "talk about our final results and conclusions from data, and how they answer our questions, or any other additional insight.\n",
    "\n",
    "Also talk about problems or potential problems with our data collection, cleansing, and results as a result"
   ]
  },
  {
   "cell_type": "code",
   "execution_count": null,
   "metadata": {},
   "outputs": [],
   "source": []
  }
 ],
 "metadata": {
  "kernelspec": {
   "display_name": "Python 3 (ipykernel)",
   "language": "python",
   "name": "python3"
  },
  "language_info": {
   "codemirror_mode": {
    "name": "ipython",
    "version": 3
   },
   "file_extension": ".py",
   "mimetype": "text/x-python",
   "name": "python",
   "nbconvert_exporter": "python",
   "pygments_lexer": "ipython3",
   "version": "3.10.9"
  }
 },
 "nbformat": 4,
 "nbformat_minor": 2
}
