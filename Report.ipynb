{
 "cells": [
  {
   "cell_type": "markdown",
   "metadata": {},
   "source": [
    "## Examining Student and Online Perceptions of LSE"
   ]
  },
  {
   "cell_type": "markdown",
   "metadata": {},
   "source": [
    "### Part 1: Introduction\n",
    "\n",
    "Before arriving at LSE, many students likely hear of the university's low student satisfaction rates. These impressions often gain traction on online forums such as The Student Room and Reddit, where anecdotal accounts tend to amplify perceptions of dissatisfaction. Therefore, it is worth exploring this topic, to understand how \"severe\" the problem is and whether the data fully aligns with the online perception of the university.\n",
    "\n",
    "We can explore the statement above through a series of focused questions:\n",
    "- How does LSE student satisfaction compare to other universities?\n",
    "- How does student satisfaction within LSE vary by degree?\n",
    "- How has LSE student satisfaction evolved over the last few years (2020-2023)?\n",
    "- How is LSE perceived by people online?\n",
    "\n",
    "It is worth considering what is meant by student satisfaction. Many data sources such as the National Student Survey break down student's views into categories such as teaching, course content, course organisation and resources. Meanwhile, online the focus tends to be on social opportunities, as well as societies. As \"student satisfaction\" is multifaceted we will be breaking down each question into the specific type of student satisfaction we are discussing, to avoid confusion. \n",
    "\n",
    "\n"
   ]
  },
  {
   "cell_type": "markdown",
   "metadata": {},
   "source": [
    "### Part 2: Data acquisition\n",
    "- Go to 'Data_acquisition.ipynb' file"
   ]
  },
  {
   "cell_type": "markdown",
   "metadata": {},
   "source": [
    "### Part 3: Data Preparation and Exploration"
   ]
  },
  {
   "cell_type": "markdown",
   "metadata": {},
   "source": [
    "### NSS data"
   ]
  },
  {
   "cell_type": "markdown",
   "metadata": {},
   "source": [
    "We are not interested in certain columns of the NSS data. So, we remove them.\n",
    "\n",
    "For example, since the NSS combines student's responses to the Questions into one overall \\\"Positivity Measure\\\", which is the proportion of respondents who gave a positive answer. This does lose some of the núance to the data, but makes visualisation and understanding the data easier."
   ]
  },
  {
   "cell_type": "code",
   "execution_count": 6,
   "metadata": {},
   "outputs": [],
   "source": [
    "import pandas as pd"
   ]
  },
  {
   "cell_type": "code",
   "execution_count": 7,
   "metadata": {},
   "outputs": [
    {
     "data": {
      "text/html": [
       "<div>\n",
       "<style scoped>\n",
       "    .dataframe tbody tr th:only-of-type {\n",
       "        vertical-align: middle;\n",
       "    }\n",
       "\n",
       "    .dataframe tbody tr th {\n",
       "        vertical-align: top;\n",
       "    }\n",
       "\n",
       "    .dataframe thead th {\n",
       "        text-align: right;\n",
       "    }\n",
       "</style>\n",
       "<table border=\"1\" class=\"dataframe\">\n",
       "  <thead>\n",
       "    <tr style=\"text-align: right;\">\n",
       "      <th></th>\n",
       "      <th>Unnamed: 0</th>\n",
       "      <th>Level of study</th>\n",
       "      <th>Subject level</th>\n",
       "      <th>Subject code</th>\n",
       "      <th>Subject</th>\n",
       "      <th>Question</th>\n",
       "      <th>Responses</th>\n",
       "      <th>Population</th>\n",
       "      <th>Positivity measure (%)</th>\n",
       "      <th>Benchmark (%)</th>\n",
       "      <th>Difference (ppt)</th>\n",
       "      <th>Standard deviation</th>\n",
       "      <th>Contribution to benchmark (%)</th>\n",
       "      <th>Materially below benchmark (%)</th>\n",
       "      <th>Broadly in line with benchmark (%)</th>\n",
       "      <th>Materially above benchmark (%)</th>\n",
       "      <th>Publication response headcount</th>\n",
       "      <th>Publication response rate (%)</th>\n",
       "    </tr>\n",
       "  </thead>\n",
       "  <tbody>\n",
       "    <tr>\n",
       "      <th>0</th>\n",
       "      <td>1</td>\n",
       "      <td>All undergraduates</td>\n",
       "      <td>CAH1</td>\n",
       "      <td>CAH04</td>\n",
       "      <td>Psychology</td>\n",
       "      <td>Q01: How good are teaching staff at explaining...</td>\n",
       "      <td>30.0</td>\n",
       "      <td>30.0</td>\n",
       "      <td>100.0</td>\n",
       "      <td>93.1</td>\n",
       "      <td>6.9</td>\n",
       "      <td>3.7</td>\n",
       "      <td>1.1</td>\n",
       "      <td>0.6</td>\n",
       "      <td>11.2</td>\n",
       "      <td>88.2</td>\n",
       "      <td>30</td>\n",
       "      <td>100.0</td>\n",
       "    </tr>\n",
       "    <tr>\n",
       "      <th>1</th>\n",
       "      <td>2</td>\n",
       "      <td>All undergraduates</td>\n",
       "      <td>CAH1</td>\n",
       "      <td>CAH04</td>\n",
       "      <td>Psychology</td>\n",
       "      <td>Q02: How often do teaching staff make the subj...</td>\n",
       "      <td>30.0</td>\n",
       "      <td>30.0</td>\n",
       "      <td>96.7</td>\n",
       "      <td>78.8</td>\n",
       "      <td>17.8</td>\n",
       "      <td>6.1</td>\n",
       "      <td>1.1</td>\n",
       "      <td>0.0</td>\n",
       "      <td>0.5</td>\n",
       "      <td>99.4</td>\n",
       "      <td>30</td>\n",
       "      <td>100.0</td>\n",
       "    </tr>\n",
       "    <tr>\n",
       "      <th>2</th>\n",
       "      <td>3</td>\n",
       "      <td>All undergraduates</td>\n",
       "      <td>CAH1</td>\n",
       "      <td>CAH04</td>\n",
       "      <td>Psychology</td>\n",
       "      <td>Q03: How often is the course intellectually st...</td>\n",
       "      <td>30.0</td>\n",
       "      <td>30.0</td>\n",
       "      <td>100.0</td>\n",
       "      <td>84.9</td>\n",
       "      <td>15.1</td>\n",
       "      <td>4.7</td>\n",
       "      <td>1.1</td>\n",
       "      <td>0.0</td>\n",
       "      <td>0.3</td>\n",
       "      <td>99.6</td>\n",
       "      <td>30</td>\n",
       "      <td>100.0</td>\n",
       "    </tr>\n",
       "    <tr>\n",
       "      <th>3</th>\n",
       "      <td>4</td>\n",
       "      <td>All undergraduates</td>\n",
       "      <td>CAH1</td>\n",
       "      <td>CAH04</td>\n",
       "      <td>Psychology</td>\n",
       "      <td>Q04: How often does your course challenge you ...</td>\n",
       "      <td>30.0</td>\n",
       "      <td>30.0</td>\n",
       "      <td>100.0</td>\n",
       "      <td>79.6</td>\n",
       "      <td>20.4</td>\n",
       "      <td>5.1</td>\n",
       "      <td>1.1</td>\n",
       "      <td>0.0</td>\n",
       "      <td>0.0</td>\n",
       "      <td>100.0</td>\n",
       "      <td>30</td>\n",
       "      <td>100.0</td>\n",
       "    </tr>\n",
       "    <tr>\n",
       "      <th>4</th>\n",
       "      <td>5</td>\n",
       "      <td>All undergraduates</td>\n",
       "      <td>CAH1</td>\n",
       "      <td>CAH04</td>\n",
       "      <td>Psychology</td>\n",
       "      <td>Q05: To what extent have you had the chance to...</td>\n",
       "      <td>30.0</td>\n",
       "      <td>30.0</td>\n",
       "      <td>96.7</td>\n",
       "      <td>81.4</td>\n",
       "      <td>15.3</td>\n",
       "      <td>5.7</td>\n",
       "      <td>1.1</td>\n",
       "      <td>0.1</td>\n",
       "      <td>1.2</td>\n",
       "      <td>98.8</td>\n",
       "      <td>30</td>\n",
       "      <td>100.0</td>\n",
       "    </tr>\n",
       "  </tbody>\n",
       "</table>\n",
       "</div>"
      ],
      "text/plain": [
       "   Unnamed: 0      Level of study Subject level Subject code     Subject  \\\n",
       "0           1  All undergraduates          CAH1        CAH04  Psychology   \n",
       "1           2  All undergraduates          CAH1        CAH04  Psychology   \n",
       "2           3  All undergraduates          CAH1        CAH04  Psychology   \n",
       "3           4  All undergraduates          CAH1        CAH04  Psychology   \n",
       "4           5  All undergraduates          CAH1        CAH04  Psychology   \n",
       "\n",
       "                                            Question  Responses  Population  \\\n",
       "0  Q01: How good are teaching staff at explaining...       30.0        30.0   \n",
       "1  Q02: How often do teaching staff make the subj...       30.0        30.0   \n",
       "2  Q03: How often is the course intellectually st...       30.0        30.0   \n",
       "3  Q04: How often does your course challenge you ...       30.0        30.0   \n",
       "4  Q05: To what extent have you had the chance to...       30.0        30.0   \n",
       "\n",
       "   Positivity measure (%)  Benchmark (%)  Difference (ppt)  \\\n",
       "0                   100.0           93.1               6.9   \n",
       "1                    96.7           78.8              17.8   \n",
       "2                   100.0           84.9              15.1   \n",
       "3                   100.0           79.6              20.4   \n",
       "4                    96.7           81.4              15.3   \n",
       "\n",
       "   Standard deviation  Contribution to benchmark (%)  \\\n",
       "0                 3.7                            1.1   \n",
       "1                 6.1                            1.1   \n",
       "2                 4.7                            1.1   \n",
       "3                 5.1                            1.1   \n",
       "4                 5.7                            1.1   \n",
       "\n",
       "   Materially below benchmark (%)  Broadly in line with benchmark (%)  \\\n",
       "0                             0.6                                11.2   \n",
       "1                             0.0                                 0.5   \n",
       "2                             0.0                                 0.3   \n",
       "3                             0.0                                 0.0   \n",
       "4                             0.1                                 1.2   \n",
       "\n",
       "   Materially above benchmark (%)  Publication response headcount  \\\n",
       "0                            88.2                              30   \n",
       "1                            99.4                              30   \n",
       "2                            99.6                              30   \n",
       "3                           100.0                              30   \n",
       "4                            98.8                              30   \n",
       "\n",
       "   Publication response rate (%)  \n",
       "0                          100.0  \n",
       "1                          100.0  \n",
       "2                          100.0  \n",
       "3                          100.0  \n",
       "4                          100.0  "
      ]
     },
     "execution_count": 7,
     "metadata": {},
     "output_type": "execute_result"
    }
   ],
   "source": [
    "lse_dat = pd.read_csv('Data/lse_dat.csv')\n",
    "lse_dat=lse_dat.drop(\"Mode of study\", axis='columns')\n",
    "lse_dat=lse_dat.drop(\"Suppression reason\", axis='columns')\n",
    "lse_dat=lse_dat.drop(\"Option 1\", axis='columns')\n",
    "lse_dat=lse_dat.drop(\"Option 2\", axis='columns')\n",
    "lse_dat=lse_dat.drop(\"Option 3\", axis='columns')\n",
    "lse_dat=lse_dat.drop(\"Option 4\", axis='columns')\n",
    "lse_dat=lse_dat.drop(\"Option 5\", axis='columns')\n",
    "lse_dat=lse_dat.drop(\"This does not apply to me\", axis='columns')\n",
    "lse_dat.head()"
   ]
  },
  {
   "cell_type": "markdown",
   "metadata": {},
   "source": [
    "### Reddit data"
   ]
  },
  {
   "cell_type": "markdown",
   "metadata": {},
   "source": [
    "A refresh of the format of the data frame used to store this data:"
   ]
  },
  {
   "cell_type": "code",
   "execution_count": 48,
   "metadata": {},
   "outputs": [
    {
     "data": {
      "text/html": [
       "<div>\n",
       "<style scoped>\n",
       "    .dataframe tbody tr th:only-of-type {\n",
       "        vertical-align: middle;\n",
       "    }\n",
       "\n",
       "    .dataframe tbody tr th {\n",
       "        vertical-align: top;\n",
       "    }\n",
       "\n",
       "    .dataframe thead th {\n",
       "        text-align: right;\n",
       "    }\n",
       "</style>\n",
       "<table border=\"1\" class=\"dataframe\">\n",
       "  <thead>\n",
       "    <tr style=\"text-align: right;\">\n",
       "      <th></th>\n",
       "      <th>Title</th>\n",
       "      <th>Score</th>\n",
       "      <th>Top Comment</th>\n",
       "    </tr>\n",
       "  </thead>\n",
       "  <tbody>\n",
       "    <tr>\n",
       "      <th>0</th>\n",
       "      <td>The irony of LSE being a socialist institution</td>\n",
       "      <td>327</td>\n",
       "      <td>Don’t really want to give super identifying de...</td>\n",
       "    </tr>\n",
       "    <tr>\n",
       "      <th>1</th>\n",
       "      <td>Got kicked outta LSE.....</td>\n",
       "      <td>238</td>\n",
       "      <td>Can you share more details? Specifically.\\n\\nD...</td>\n",
       "    </tr>\n",
       "    <tr>\n",
       "      <th>2</th>\n",
       "      <td>why are masters degrees so expensive?</td>\n",
       "      <td>207</td>\n",
       "      <td>This doesn't really apply to most masters cour...</td>\n",
       "    </tr>\n",
       "    <tr>\n",
       "      <th>3</th>\n",
       "      <td>TIL some unis have worse graduate prospects th...</td>\n",
       "      <td>200</td>\n",
       "      <td>I think people should bear in mind that Imperi...</td>\n",
       "    </tr>\n",
       "    <tr>\n",
       "      <th>4</th>\n",
       "      <td>University subreddits</td>\n",
       "      <td>190</td>\n",
       "      <td>/r/Edinburgh_University Edinburgh, University of</td>\n",
       "    </tr>\n",
       "    <tr>\n",
       "      <th>5</th>\n",
       "      <td>LSE bread 😭 my DREAM uni offer!</td>\n",
       "      <td>147</td>\n",
       "      <td>Well done!</td>\n",
       "    </tr>\n",
       "    <tr>\n",
       "      <th>6</th>\n",
       "      <td>I've Ruined my Master's Degree and Ruined my F...</td>\n",
       "      <td>141</td>\n",
       "      <td>Get help, now. You are clearly in crisis, and ...</td>\n",
       "    </tr>\n",
       "    <tr>\n",
       "      <th>7</th>\n",
       "      <td>My teacher is discouraging me from applying to...</td>\n",
       "      <td>116</td>\n",
       "      <td>To some degree, I would agree with your coordi...</td>\n",
       "    </tr>\n",
       "    <tr>\n",
       "      <th>8</th>\n",
       "      <td>I realise beyond the very top, differences in ...</td>\n",
       "      <td>113</td>\n",
       "      <td>I love how much this sub obsesses over rankings</td>\n",
       "    </tr>\n",
       "    <tr>\n",
       "      <th>9</th>\n",
       "      <td>What’s with the poor student satisfaction at m...</td>\n",
       "      <td>109</td>\n",
       "      <td>Student satisfaction and university reputation...</td>\n",
       "    </tr>\n",
       "  </tbody>\n",
       "</table>\n",
       "</div>"
      ],
      "text/plain": [
       "                                               Title  Score  \\\n",
       "0     The irony of LSE being a socialist institution    327   \n",
       "1                          Got kicked outta LSE.....    238   \n",
       "2              why are masters degrees so expensive?    207   \n",
       "3  TIL some unis have worse graduate prospects th...    200   \n",
       "4                              University subreddits    190   \n",
       "5                    LSE bread 😭 my DREAM uni offer!    147   \n",
       "6  I've Ruined my Master's Degree and Ruined my F...    141   \n",
       "7  My teacher is discouraging me from applying to...    116   \n",
       "8  I realise beyond the very top, differences in ...    113   \n",
       "9  What’s with the poor student satisfaction at m...    109   \n",
       "\n",
       "                                         Top Comment  \n",
       "0  Don’t really want to give super identifying de...  \n",
       "1  Can you share more details? Specifically.\\n\\nD...  \n",
       "2  This doesn't really apply to most masters cour...  \n",
       "3  I think people should bear in mind that Imperi...  \n",
       "4   /r/Edinburgh_University Edinburgh, University of  \n",
       "5                                         Well done!  \n",
       "6  Get help, now. You are clearly in crisis, and ...  \n",
       "7  To some degree, I would agree with your coordi...  \n",
       "8    I love how much this sub obsesses over rankings  \n",
       "9  Student satisfaction and university reputation...  "
      ]
     },
     "execution_count": 48,
     "metadata": {},
     "output_type": "execute_result"
    }
   ],
   "source": [
    "reddit_data_df = pd.read_csv(\"Data/reddit_data.csv\")\n",
    "reddit_data_df.head(10)"
   ]
  },
  {
   "cell_type": "markdown",
   "metadata": {},
   "source": [
    "The first thing to check is the number of duplicate or null values. As you can see below, there is neither for both.\n",
    "- There are no null values since the code used to access the top comment from each post was written to only add the post to the dataframe if it contained a comment. \n",
    "\n",
    "- There are no duplicate posts since the chance of two identical strings of words is highly unlikely."
   ]
  },
  {
   "cell_type": "code",
   "execution_count": 45,
   "metadata": {},
   "outputs": [
    {
     "name": "stdout",
     "output_type": "stream",
     "text": [
      "Number of duplicate rows: 0\n"
     ]
    }
   ],
   "source": [
    "num_duplicates = reddit_data_df.duplicated().sum()\n",
    "print(f\"Number of duplicate rows: {num_duplicates}\")"
   ]
  },
  {
   "cell_type": "code",
   "execution_count": 46,
   "metadata": {},
   "outputs": [
    {
     "name": "stdout",
     "output_type": "stream",
     "text": [
      "Number of null values: 0\n",
      "(30, 3)\n"
     ]
    }
   ],
   "source": [
    "total_nulls = reddit_data_df.isnull().sum().sum()\n",
    "print(f\"Number of null values: {total_nulls}\")\n",
    "print(reddit_data_df.shape)"
   ]
  },
  {
   "cell_type": "markdown",
   "metadata": {},
   "source": [
    "We only want to consider posts that have a high amount of upvotes, since they are more likely to be helpful and insightful information if other users liked them. We can acheive this by removing posts whose score is below '30', of which there way only one. This number was decided given the maximum score was 327 and the mean score was 97.\n",
    "\n",
    "It is worth noting that the posts are already sorted in order of descending score, since that is a paramter included in the Reddit API call."
   ]
  },
  {
   "cell_type": "code",
   "execution_count": 47,
   "metadata": {},
   "outputs": [
    {
     "name": "stdout",
     "output_type": "stream",
     "text": [
      "Maximum score: 327\n",
      "Mean score: 97\n",
      "Current number of posts: 30\n",
      "Number of posts with a score of 5 or below: 1\n",
      "New number of posts: 29\n"
     ]
    }
   ],
   "source": [
    "print(f\"Maximum score: {reddit_data_df['Score'].max()}\")\n",
    "print(f\"Mean score: {int(reddit_data_df['Score'].mean())}\")\n",
    "print(f\"Current number of posts: {reddit_data_df.shape[0]}\")\n",
    "num_low_score_posts = (reddit_data_df['Score']<= 30).sum()\n",
    "print(f\"Number of posts with a score of 5 or below: {num_low_score_posts}\")\n",
    "reddit_data_df = reddit_data_df[reddit_data_df['Score'] > 30]\n",
    "print(f\"New number of posts: {reddit_data_df.shape[0]}\")"
   ]
  }
 ],
 "metadata": {
  "kernelspec": {
   "display_name": "base",
   "language": "python",
   "name": "python3"
  },
  "language_info": {
   "codemirror_mode": {
    "name": "ipython",
    "version": 3
   },
   "file_extension": ".py",
   "mimetype": "text/x-python",
   "name": "python",
   "nbconvert_exporter": "python",
   "pygments_lexer": "ipython3",
   "version": "3.10.9"
  }
 },
 "nbformat": 4,
 "nbformat_minor": 2
}
