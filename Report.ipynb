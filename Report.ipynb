{
 "cells": [
  {
   "cell_type": "markdown",
   "metadata": {},
   "source": [
    "## Examining Student and Online Perceptions of LSE"
   ]
  },
  {
   "cell_type": "markdown",
   "metadata": {},
   "source": [
    "### Part 1: Introduction\n",
    "\n",
    "Before arriving at LSE, many students likely hear of the university's low student satisfaction rates. These impressions often gain traction on online forums such as Reddit, where anecdotal accounts tend to amplify perceptions of dissatisfaction. Therefore, it is worth exploring this topic, to understand how \"severe\" the problem is and whether the data fully aligns with the online perception of the university.\n",
    "\n",
    "We can explore the statement above through a series of focused questions:\n",
    "- How does LSE student satisfaction compare to other universities?\n",
    "- How does student satisfaction within LSE vary by degree?\n",
    "- How has LSE student satisfaction evolved over the last few years (2020-2023)?\n",
    "- How is LSE perceived by people online?\n",
    "\n",
    "It is worth considering what is meant by student satisfaction. Many data sources such as the National Student Survey break down student's views into categories such as teaching, course content, course organisation and resources. Meanwhile, online the focus tends to be on social opportunities, as well as societies. As \"student satisfaction\" is multifaceted we will be breaking down each question into the specific type of student satisfaction we are discussing, to avoid confusion. \n",
    "\n",
    "\n"
   ]
  },
  {
   "cell_type": "markdown",
   "metadata": {},
   "source": [
    "### Part 2: Data acquisition\n",
    "- Go to 'Data_acquisition.ipynb' file"
   ]
  },
  {
   "cell_type": "markdown",
   "metadata": {},
   "source": [
    "### Part 3: Data Preparation and Exploration"
   ]
  },
  {
   "cell_type": "markdown",
   "metadata": {},
   "source": [
    "### NSS data"
   ]
  },
  {
   "cell_type": "markdown",
   "metadata": {},
   "source": [
    "We are not interested in certain columns of the NSS data. So, we remove them.\n",
    "\n",
    "For example, since the NSS combines student's responses to the Questions into one overall \\\"Positivity Measure\\\", which is the proportion of respondents who gave a positive answer, we only need that, rather than the actual responses to the questions (e.g. Option 1, Option 2, etc.). This does lose some of the núance to the data, but makes visualisation and understanding the data easier."
   ]
  },
  {
   "cell_type": "code",
   "execution_count": 1,
   "metadata": {},
   "outputs": [],
   "source": [
    "import pandas as pd"
   ]
  },
  {
   "cell_type": "markdown",
   "metadata": {},
   "source": [
    "### Reddit data"
   ]
  },
  {
   "cell_type": "markdown",
   "metadata": {},
   "source": [
    "A refresh of the format of the data frame used to store this data:"
   ]
  },
  {
   "cell_type": "code",
   "execution_count": 48,
   "metadata": {},
   "outputs": [
    {
     "data": {
      "text/html": [
       "<div>\n",
       "<style scoped>\n",
       "    .dataframe tbody tr th:only-of-type {\n",
       "        vertical-align: middle;\n",
       "    }\n",
       "\n",
       "    .dataframe tbody tr th {\n",
       "        vertical-align: top;\n",
       "    }\n",
       "\n",
       "    .dataframe thead th {\n",
       "        text-align: right;\n",
       "    }\n",
       "</style>\n",
       "<table border=\"1\" class=\"dataframe\">\n",
       "  <thead>\n",
       "    <tr style=\"text-align: right;\">\n",
       "      <th></th>\n",
       "      <th>Title</th>\n",
       "      <th>Score</th>\n",
       "      <th>Top Comment</th>\n",
       "    </tr>\n",
       "  </thead>\n",
       "  <tbody>\n",
       "    <tr>\n",
       "      <th>0</th>\n",
       "      <td>The irony of LSE being a socialist institution</td>\n",
       "      <td>327</td>\n",
       "      <td>Don’t really want to give super identifying de...</td>\n",
       "    </tr>\n",
       "    <tr>\n",
       "      <th>1</th>\n",
       "      <td>Got kicked outta LSE.....</td>\n",
       "      <td>238</td>\n",
       "      <td>Can you share more details? Specifically.\\n\\nD...</td>\n",
       "    </tr>\n",
       "    <tr>\n",
       "      <th>2</th>\n",
       "      <td>why are masters degrees so expensive?</td>\n",
       "      <td>207</td>\n",
       "      <td>This doesn't really apply to most masters cour...</td>\n",
       "    </tr>\n",
       "    <tr>\n",
       "      <th>3</th>\n",
       "      <td>TIL some unis have worse graduate prospects th...</td>\n",
       "      <td>200</td>\n",
       "      <td>I think people should bear in mind that Imperi...</td>\n",
       "    </tr>\n",
       "    <tr>\n",
       "      <th>4</th>\n",
       "      <td>University subreddits</td>\n",
       "      <td>190</td>\n",
       "      <td>/r/Edinburgh_University Edinburgh, University of</td>\n",
       "    </tr>\n",
       "    <tr>\n",
       "      <th>5</th>\n",
       "      <td>LSE bread 😭 my DREAM uni offer!</td>\n",
       "      <td>147</td>\n",
       "      <td>Well done!</td>\n",
       "    </tr>\n",
       "    <tr>\n",
       "      <th>6</th>\n",
       "      <td>I've Ruined my Master's Degree and Ruined my F...</td>\n",
       "      <td>141</td>\n",
       "      <td>Get help, now. You are clearly in crisis, and ...</td>\n",
       "    </tr>\n",
       "    <tr>\n",
       "      <th>7</th>\n",
       "      <td>My teacher is discouraging me from applying to...</td>\n",
       "      <td>116</td>\n",
       "      <td>To some degree, I would agree with your coordi...</td>\n",
       "    </tr>\n",
       "    <tr>\n",
       "      <th>8</th>\n",
       "      <td>I realise beyond the very top, differences in ...</td>\n",
       "      <td>113</td>\n",
       "      <td>I love how much this sub obsesses over rankings</td>\n",
       "    </tr>\n",
       "    <tr>\n",
       "      <th>9</th>\n",
       "      <td>What’s with the poor student satisfaction at m...</td>\n",
       "      <td>109</td>\n",
       "      <td>Student satisfaction and university reputation...</td>\n",
       "    </tr>\n",
       "  </tbody>\n",
       "</table>\n",
       "</div>"
      ],
      "text/plain": [
       "                                               Title  Score  \\\n",
       "0     The irony of LSE being a socialist institution    327   \n",
       "1                          Got kicked outta LSE.....    238   \n",
       "2              why are masters degrees so expensive?    207   \n",
       "3  TIL some unis have worse graduate prospects th...    200   \n",
       "4                              University subreddits    190   \n",
       "5                    LSE bread 😭 my DREAM uni offer!    147   \n",
       "6  I've Ruined my Master's Degree and Ruined my F...    141   \n",
       "7  My teacher is discouraging me from applying to...    116   \n",
       "8  I realise beyond the very top, differences in ...    113   \n",
       "9  What’s with the poor student satisfaction at m...    109   \n",
       "\n",
       "                                         Top Comment  \n",
       "0  Don’t really want to give super identifying de...  \n",
       "1  Can you share more details? Specifically.\\n\\nD...  \n",
       "2  This doesn't really apply to most masters cour...  \n",
       "3  I think people should bear in mind that Imperi...  \n",
       "4   /r/Edinburgh_University Edinburgh, University of  \n",
       "5                                         Well done!  \n",
       "6  Get help, now. You are clearly in crisis, and ...  \n",
       "7  To some degree, I would agree with your coordi...  \n",
       "8    I love how much this sub obsesses over rankings  \n",
       "9  Student satisfaction and university reputation...  "
      ]
     },
     "execution_count": 48,
     "metadata": {},
     "output_type": "execute_result"
    }
   ],
   "source": [
    "reddit_data_df = pd.read_csv(\"Data/reddit_data.csv\")\n",
    "reddit_data_df.head(10)"
   ]
  },
  {
   "cell_type": "markdown",
   "metadata": {},
   "source": [
    "The first thing to check is the number of duplicate or null values. As you can see below, there is neither for both.\n",
    "- There are no null values since the code used to access the top comment from each post was written to only add the post to the dataframe if it contained a comment. \n",
    "\n",
    "- There are no duplicate posts since the chance of two identical strings of words is highly unlikely."
   ]
  },
  {
   "cell_type": "code",
   "execution_count": 45,
   "metadata": {},
   "outputs": [
    {
     "name": "stdout",
     "output_type": "stream",
     "text": [
      "Number of duplicate rows: 0\n"
     ]
    }
   ],
   "source": [
    "num_duplicates = reddit_data_df.duplicated().sum()\n",
    "print(f\"Number of duplicate rows: {num_duplicates}\")"
   ]
  },
  {
   "cell_type": "code",
   "execution_count": 46,
   "metadata": {},
   "outputs": [
    {
     "name": "stdout",
     "output_type": "stream",
     "text": [
      "Number of null values: 0\n",
      "(30, 3)\n"
     ]
    }
   ],
   "source": [
    "total_nulls = reddit_data_df.isnull().sum().sum()\n",
    "print(f\"Number of null values: {total_nulls}\")\n",
    "print(reddit_data_df.shape)"
   ]
  },
  {
   "cell_type": "markdown",
   "metadata": {},
   "source": [
    "We only want to consider posts that have a high amount of upvotes, since they are more likely to be helpful and insightful information if other users liked them. We can acheive this by removing posts whose score is below '30', of which there way only one. This number was decided given the maximum score was 327 and the mean score was 97.\n",
    "\n",
    "It is worth noting that the posts are already sorted in order of descending score, since that is a paramter included in the Reddit API call."
   ]
  },
  {
   "cell_type": "code",
   "execution_count": 47,
   "metadata": {},
   "outputs": [
    {
     "name": "stdout",
     "output_type": "stream",
     "text": [
      "Maximum score: 327\n",
      "Mean score: 97\n",
      "Current number of posts: 30\n",
      "Number of posts with a score of 5 or below: 1\n",
      "New number of posts: 29\n"
     ]
    }
   ],
   "source": [
    "print(f\"Maximum score: {reddit_data_df['Score'].max()}\")\n",
    "print(f\"Mean score: {int(reddit_data_df['Score'].mean())}\")\n",
    "print(f\"Current number of posts: {reddit_data_df.shape[0]}\")\n",
    "num_low_score_posts = (reddit_data_df['Score']<= 30).sum()\n",
    "print(f\"Number of posts with a score of 5 or below: {num_low_score_posts}\")\n",
    "reddit_data_df = reddit_data_df[reddit_data_df['Score'] > 30]\n",
    "print(f\"New number of posts: {reddit_data_df.shape[0]}\")"
   ]
  }
 ],
 "metadata": {
  "kernelspec": {
   "display_name": "Python 3 (ipykernel)",
   "language": "python",
   "name": "python3"
  },
  "language_info": {
   "codemirror_mode": {
    "name": "ipython",
    "version": 3
   },
   "file_extension": ".py",
   "mimetype": "text/x-python",
   "name": "python",
   "nbconvert_exporter": "python",
   "pygments_lexer": "ipython3",
   "version": "3.11.5"
  }
 },
 "nbformat": 4,
 "nbformat_minor": 2
}
